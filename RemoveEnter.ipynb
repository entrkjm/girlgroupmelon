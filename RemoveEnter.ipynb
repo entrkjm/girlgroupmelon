{
 "cells": [
  {
   "cell_type": "code",
   "execution_count": 7,
   "id": "d1135fab",
   "metadata": {},
   "outputs": [
    {
     "name": "stdout",
     "output_type": "stream",
     "text": [
      "레인보우식스 세이펜 레인보우컴퍼니 키즈모델 패션쇼 런웨이 강남구 역삼동 아역 동대문 썬팅 레인보우스타\n",
      "레인보우식스||세이펜||레인보우컴퍼니||키즈모델||패션쇼||런웨이||강남구||역삼동||아역||동대문||썬팅||레인보우스타\n"
     ]
    }
   ],
   "source": [
    "s = input()\n",
    "new_s = s.replace(\" \", \"||\")\n",
    "print(new_s)"
   ]
  }
 ],
 "metadata": {
  "kernelspec": {
   "display_name": "Python 3 (tm4pz)",
   "language": "python",
   "name": "tm4pz"
  },
  "language_info": {
   "codemirror_mode": {
    "name": "ipython",
    "version": 3
   },
   "file_extension": ".py",
   "mimetype": "text/x-python",
   "name": "python",
   "nbconvert_exporter": "python",
   "pygments_lexer": "ipython3",
   "version": "3.9.12"
  }
 },
 "nbformat": 4,
 "nbformat_minor": 5
}
