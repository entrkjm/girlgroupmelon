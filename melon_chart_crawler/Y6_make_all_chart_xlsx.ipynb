{
 "cells": [
  {
   "cell_type": "code",
   "execution_count": 1,
   "id": "c2ef5fc2",
   "metadata": {
    "ExecuteTime": {
     "end_time": "2024-01-14T11:33:52.322938Z",
     "start_time": "2024-01-14T11:33:50.785585Z"
    }
   },
   "outputs": [],
   "source": [
    "import os\n",
    "import json\n",
    "import pandas as pd\n",
    "from tqdm import tqdm"
   ]
  },
  {
   "cell_type": "code",
   "execution_count": 2,
   "id": "2c87dd90",
   "metadata": {
    "ExecuteTime": {
     "end_time": "2024-01-14T11:35:06.074584Z",
     "start_time": "2024-01-14T11:35:05.793522Z"
    }
   },
   "outputs": [
    {
     "data": {
      "text/plain": [
       "{'song_id': '34808761',\n",
       " 'song_name': '너를 위한 단어 (It’s Yours)',\n",
       " 'artist_name': 'NCT DREAM',\n",
       " '앨범': 'Glitch Mode - The 2nd Album',\n",
       " 'album_num': '10901349',\n",
       " '발매일': '2022.03.28',\n",
       " '장르': 'R&B/Soul',\n",
       " 'lyric': \"Girl 널 닮은 단어가 참 많아\\n내 하루 속에\\n몇 번씩 스치듯 널 만나\\n어제 읽은 책\\n또 좀 전에 같이 본 Romance 영화\\nMy favorite song 모두 네가 있어\\n \\n넌 내게 멋진 여왕이 돼\\n어둠에 빠진 나를 구해\\n가끔씩은 슬픈 영웅이 돼\\n빛이 나 oh\\n밤 하늘 아래 별들 같아\\n푸른 숲속의 향기 같아\\n다 너의 수식어 yeah yeah\\n너로 가득 차 있는\\n나의 세상 속 oh oh\\n난 지금 노래 가사로\\n너를 얘기하고 oh oh\\n머릿속에 춤추는 멋진 말\\nIt's yours It's yours It's yours\\n(yeah It's yours 널 위한 것)\\n \\nSay yeah yeah yeah yeah\\nCause you’re my word\\n그 어떤 말이 너만큼 많이 빛날까\\nIt's yours It's yours It's yours\\n모두 다 주고 싶어\\nGirl 유치한 생각이 넘쳐나\\n주인공은 You \\n난 온갖 시를 써 Up all night\\noh 눈 감고 누우면\\n머릿속에 네가 떠다니고\\n내일 무슨 말로\\n웃게 할지 고민만 해\\n알아 솔직히 It’s crazy oh\\n남기고 싶어 모든 곳에\\n어떤 말보다 아름답게\\n보고 계속 봐도 보고 싶게\\n널 말이야 ooh\\n뭘로 써봐도 난 부족해\\n모든 언어로 남겨둘래\\n다 너의 수식어 yeah yeah\\n너로 가득 차 있는\\n나의 세상 속 oh oh\\n난 지금 노래 가사로\\n너를 얘기하고 oh oh\\n머릿속에 춤추는 멋진 말\\nIt's yours It's yours It's yours\\n(yeah It's yours 널 위한 것)\\nSay yeah yeah yeah yeah\\nCause you’re my word\\n그 어떤 말이 너만큼 많이 빛날까\\nIt's yours It's yours It's yours\\n모두 다 주고 싶어\\nuh 다가가 널 향해서 가까이\\n굳이 돌아갈 필요는 없으니 ay\\n내가 고민하는 것들은\\n모두 전부 For you\\nuh girl you know you have my word\\nbut 내 행동이 더 확실하지\\nI’m at your door 기다리며 생각해\\n한 단어만으론 널\\n표현하기 어려운 걸\\n세상에 가장 멋진\\n그 단어들로 널 채워 줄래\\nSay yeah yeah yeah yeah\\nCause you’re my word\\n그 어떤 말이 너만큼 많이 빛날까\\nIt's yours It's yours It's yours\\n모두 다 주고 싶어\\nIt's yours girl\\nyeah you know\"}"
      ]
     },
     "execution_count": 2,
     "metadata": {},
     "output_type": "execute_result"
    }
   ],
   "source": [
    "song_info_file = \"song_infos.jsonl\"\n",
    "with open(song_info_file, \"r\", encoding='utf-8') as f:\n",
    "    lines = f.readlines()\n",
    "    \n",
    "song_infos = [json.loads(_) for _ in lines]\n",
    "song_infos = {_[\"song_id\"]:_ for _ in song_infos }\n",
    "song_infos[\"34808761\"]"
   ]
  },
  {
   "cell_type": "code",
   "execution_count": 3,
   "id": "603b82f2",
   "metadata": {
    "ExecuteTime": {
     "end_time": "2024-01-14T11:35:13.510674Z",
     "start_time": "2024-01-14T11:35:13.467229Z"
    }
   },
   "outputs": [
    {
     "data": {
      "text/plain": [
       "{'artist_num': '2636017',\n",
       " '이름': 'PRODUCE X 101',\n",
       " '활동년대': '2010 년대',\n",
       " '유형': '그룹|남성',\n",
       " '장르': '댄스, 발라드',\n",
       " '소속사명': 'CJ E&M'}"
      ]
     },
     "execution_count": 3,
     "metadata": {},
     "output_type": "execute_result"
    }
   ],
   "source": [
    "artist_info_file = \"artist_infos.jsonl\"\n",
    "with open(artist_info_file, \"r\", encoding='utf-8') as f:\n",
    "    lines = f.readlines()\n",
    "    artist_infos = [json.loads(_) for _ in lines]\n",
    "    \n",
    "artist_infos = {_[\"artist_num\"]: _ for _ in artist_infos}\n",
    "artist_infos[\"2636017\"]"
   ]
  },
  {
   "cell_type": "code",
   "execution_count": 4,
   "id": "69de52ee",
   "metadata": {
    "ExecuteTime": {
     "end_time": "2024-01-14T11:35:57.936844Z",
     "start_time": "2024-01-14T11:35:57.919840Z"
    }
   },
   "outputs": [],
   "source": [
    "parsed_chart_path = \"parsed_year_chart_html\"\n",
    "jsonl_files = os.listdir(parsed_chart_path)\n",
    "jsonl_files = [_ for _ in sorted(jsonl_files) if _.endswith(\"jsonl\")]"
   ]
  },
  {
   "cell_type": "code",
   "execution_count": 5,
   "id": "5350801d",
   "metadata": {
    "ExecuteTime": {
     "end_time": "2024-01-14T11:36:08.447248Z",
     "start_time": "2024-01-14T11:36:08.391244Z"
    }
   },
   "outputs": [],
   "source": [
    "chart_data = []\n",
    "for jsonl_file in jsonl_files:\n",
    "    with open(os.path.join(parsed_chart_path, jsonl_file), \"r\", encoding='utf-8') as f:\n",
    "        lines = f.readlines()\n",
    "        docs = [json.loads(_) for _ in lines]\n",
    "    chart_data.extend(docs)"
   ]
  },
  {
   "cell_type": "code",
   "execution_count": 6,
   "id": "6da6c54e",
   "metadata": {
    "ExecuteTime": {
     "end_time": "2024-01-14T11:36:15.549790Z",
     "start_time": "2024-01-14T11:36:15.529784Z"
    }
   },
   "outputs": [
    {
     "data": {
      "text/plain": [
       "1898"
      ]
     },
     "execution_count": 6,
     "metadata": {},
     "output_type": "execute_result"
    }
   ],
   "source": [
    "len(chart_data)"
   ]
  },
  {
   "cell_type": "code",
   "execution_count": 7,
   "id": "4f6ef790",
   "metadata": {
    "ExecuteTime": {
     "end_time": "2024-01-14T11:36:29.181899Z",
     "start_time": "2024-01-14T11:36:29.122884Z"
    }
   },
   "outputs": [
    {
     "name": "stderr",
     "output_type": "stream",
     "text": [
      "100%|██████████| 1898/1898 [00:00<00:00, 237168.24it/s]\n"
     ]
    }
   ],
   "source": [
    "lasts = []\n",
    "for line in tqdm(chart_data):\n",
    "    num_artists = len(line[\"artists\"])\n",
    "    if num_artists > 1:\n",
    "        artist_activity_type = \"프로젝트\"\n",
    "        artist_id = \"|\".join([_[0] for _ in line[\"artists\"]])\n",
    "        artist_name = \"|\".join([_[1] for _ in line[\"artists\"]])\n",
    "    elif num_artists == 0:\n",
    "        artist_activity_type = \"\"\n",
    "        artist_id = \"\"\n",
    "        artist_name = \"\"\n",
    "    else:\n",
    "        artist_id = line[\"artists\"][0][0]\n",
    "        artist_name = line[\"artists\"][0][1]\n",
    "        artist_activity_type = artist_infos.get(artist_id, {}).get(\"유형\", \"\")\n",
    "\n",
    "    song_id = line[\"title_num\"]\n",
    "    song_genre = song_infos.get(song_id, {}).get(\"장르\", \"\")\n",
    "\n",
    "    last = {}\n",
    "    #last[\"yearweek\"] = line[\"yearweek\"]\n",
    "    last[\"period\"] = line[\"period\"]\n",
    "    last[\"ranking\"] = line[\"ranking\"]\n",
    "    last[\"song_id\"] = line[\"title_num\"]\n",
    "    last[\"song_name\"] = line[\"title_name\"]\n",
    "    last[\"song_genre\"] = song_genre\n",
    "    \n",
    "    last[\"artist_id\"] = artist_id\n",
    "    last[\"artist_name\"] = artist_name\n",
    "    last[\"artist_activity_type\"] = artist_activity_type\n",
    "    \n",
    "    last[\"album_id\"] = line[\"album_num\"]\n",
    "    last[\"album_name\"] = line[\"album_name\"]\n",
    "        \n",
    "    lasts.append(last)\n"
   ]
  },
  {
   "cell_type": "code",
   "execution_count": 8,
   "id": "39d7525c",
   "metadata": {
    "ExecuteTime": {
     "end_time": "2024-01-14T11:36:37.717534Z",
     "start_time": "2024-01-14T11:36:37.695530Z"
    }
   },
   "outputs": [],
   "source": [
    "df = pd.DataFrame(lasts)"
   ]
  },
  {
   "cell_type": "code",
   "execution_count": 9,
   "id": "6898d609",
   "metadata": {
    "ExecuteTime": {
     "end_time": "2024-01-14T11:36:39.217866Z",
     "start_time": "2024-01-14T11:36:39.194868Z"
    }
   },
   "outputs": [
    {
     "data": {
      "text/html": [
       "<div>\n",
       "<style scoped>\n",
       "    .dataframe tbody tr th:only-of-type {\n",
       "        vertical-align: middle;\n",
       "    }\n",
       "\n",
       "    .dataframe tbody tr th {\n",
       "        vertical-align: top;\n",
       "    }\n",
       "\n",
       "    .dataframe thead th {\n",
       "        text-align: right;\n",
       "    }\n",
       "</style>\n",
       "<table border=\"1\" class=\"dataframe\">\n",
       "  <thead>\n",
       "    <tr style=\"text-align: right;\">\n",
       "      <th></th>\n",
       "      <th>period</th>\n",
       "      <th>ranking</th>\n",
       "      <th>song_id</th>\n",
       "      <th>song_name</th>\n",
       "      <th>song_genre</th>\n",
       "      <th>artist_id</th>\n",
       "      <th>artist_name</th>\n",
       "      <th>artist_activity_type</th>\n",
       "      <th>album_id</th>\n",
       "      <th>album_name</th>\n",
       "    </tr>\n",
       "  </thead>\n",
       "  <tbody>\n",
       "    <tr>\n",
       "      <th>0</th>\n",
       "      <td>2005</td>\n",
       "      <td>1</td>\n",
       "      <td>711627</td>\n",
       "      <td>죄와벌</td>\n",
       "      <td>발라드</td>\n",
       "      <td>108363</td>\n",
       "      <td>SG 워너비</td>\n",
       "      <td>그룹|남성</td>\n",
       "      <td>50578</td>\n",
       "      <td>살다가</td>\n",
       "    </tr>\n",
       "    <tr>\n",
       "      <th>1</th>\n",
       "      <td>2005</td>\n",
       "      <td>2</td>\n",
       "      <td>732512</td>\n",
       "      <td>겁쟁이</td>\n",
       "      <td>록/메탈</td>\n",
       "      <td>160091</td>\n",
       "      <td>버즈</td>\n",
       "      <td>그룹|남성</td>\n",
       "      <td>300646</td>\n",
       "      <td>Buzz Effect</td>\n",
       "    </tr>\n",
       "    <tr>\n",
       "      <th>2</th>\n",
       "      <td>2005</td>\n",
       "      <td>3</td>\n",
       "      <td>837567</td>\n",
       "      <td>사랑했나봐</td>\n",
       "      <td>록/메탈</td>\n",
       "      <td>923</td>\n",
       "      <td>윤도현</td>\n",
       "      <td>솔로|남성</td>\n",
       "      <td>301886</td>\n",
       "      <td>Difference</td>\n",
       "    </tr>\n",
       "    <tr>\n",
       "      <th>3</th>\n",
       "      <td>2005</td>\n",
       "      <td>4</td>\n",
       "      <td>711626</td>\n",
       "      <td>살다가</td>\n",
       "      <td>발라드</td>\n",
       "      <td>108363</td>\n",
       "      <td>SG 워너비</td>\n",
       "      <td>그룹|남성</td>\n",
       "      <td>50578</td>\n",
       "      <td>살다가</td>\n",
       "    </tr>\n",
       "    <tr>\n",
       "      <th>4</th>\n",
       "      <td>2005</td>\n",
       "      <td>5</td>\n",
       "      <td>711628</td>\n",
       "      <td>광(狂)</td>\n",
       "      <td>발라드</td>\n",
       "      <td>108363</td>\n",
       "      <td>SG 워너비</td>\n",
       "      <td>그룹|남성</td>\n",
       "      <td>50578</td>\n",
       "      <td>살다가</td>\n",
       "    </tr>\n",
       "    <tr>\n",
       "      <th>...</th>\n",
       "      <td>...</td>\n",
       "      <td>...</td>\n",
       "      <td>...</td>\n",
       "      <td>...</td>\n",
       "      <td>...</td>\n",
       "      <td>...</td>\n",
       "      <td>...</td>\n",
       "      <td>...</td>\n",
       "      <td>...</td>\n",
       "      <td>...</td>\n",
       "    </tr>\n",
       "    <tr>\n",
       "      <th>1893</th>\n",
       "      <td>2023</td>\n",
       "      <td>96</td>\n",
       "      <td>31343875</td>\n",
       "      <td>첫사랑</td>\n",
       "      <td>인디음악, 포크/블루스</td>\n",
       "      <td>2113114</td>\n",
       "      <td>백아</td>\n",
       "      <td>솔로|여성</td>\n",
       "      <td>10210149</td>\n",
       "      <td>첫사랑</td>\n",
       "    </tr>\n",
       "    <tr>\n",
       "      <th>1894</th>\n",
       "      <td>2023</td>\n",
       "      <td>97</td>\n",
       "      <td>35668899</td>\n",
       "      <td>딱 10CM만</td>\n",
       "      <td>R&amp;B/Soul</td>\n",
       "      <td>468244|2744750</td>\n",
       "      <td>10CM|BIG Naughty (서동현)</td>\n",
       "      <td>프로젝트</td>\n",
       "      <td>11063205</td>\n",
       "      <td>딱 10CM만</td>\n",
       "    </tr>\n",
       "    <tr>\n",
       "      <th>1895</th>\n",
       "      <td>2023</td>\n",
       "      <td>98</td>\n",
       "      <td>36595401</td>\n",
       "      <td>잘 지내자, 우리 (여름날 우리 X 로이킴)</td>\n",
       "      <td></td>\n",
       "      <td>699632</td>\n",
       "      <td>로이킴</td>\n",
       "      <td>솔로|남성</td>\n",
       "      <td>11280645</td>\n",
       "      <td>잘 지내자, 우리 (여름날 우리 X 로이킴)</td>\n",
       "    </tr>\n",
       "    <tr>\n",
       "      <th>1896</th>\n",
       "      <td>2023</td>\n",
       "      <td>99</td>\n",
       "      <td>36430774</td>\n",
       "      <td>Allergy</td>\n",
       "      <td>댄스</td>\n",
       "      <td>2137482</td>\n",
       "      <td>(여자)아이들</td>\n",
       "      <td>그룹|여성</td>\n",
       "      <td>11240232</td>\n",
       "      <td>I feel</td>\n",
       "    </tr>\n",
       "    <tr>\n",
       "      <th>1897</th>\n",
       "      <td>2023</td>\n",
       "      <td>100</td>\n",
       "      <td>36518341</td>\n",
       "      <td>나에게 그대만이</td>\n",
       "      <td></td>\n",
       "      <td>2893700</td>\n",
       "      <td>탑현</td>\n",
       "      <td>솔로|남성</td>\n",
       "      <td>11262009</td>\n",
       "      <td>나에게 그대만이</td>\n",
       "    </tr>\n",
       "  </tbody>\n",
       "</table>\n",
       "<p>1898 rows × 10 columns</p>\n",
       "</div>"
      ],
      "text/plain": [
       "     period ranking   song_id                 song_name    song_genre  \\\n",
       "0      2005       1    711627                       죄와벌           발라드   \n",
       "1      2005       2    732512                       겁쟁이          록/메탈   \n",
       "2      2005       3    837567                     사랑했나봐          록/메탈   \n",
       "3      2005       4    711626                       살다가           발라드   \n",
       "4      2005       5    711628                      광(狂)           발라드   \n",
       "...     ...     ...       ...                       ...           ...   \n",
       "1893   2023      96  31343875                       첫사랑  인디음악, 포크/블루스   \n",
       "1894   2023      97  35668899                   딱 10CM만      R&B/Soul   \n",
       "1895   2023      98  36595401  잘 지내자, 우리 (여름날 우리 X 로이킴)                 \n",
       "1896   2023      99  36430774                   Allergy            댄스   \n",
       "1897   2023     100  36518341                  나에게 그대만이                 \n",
       "\n",
       "           artist_id             artist_name artist_activity_type  album_id  \\\n",
       "0             108363                  SG 워너비                그룹|남성     50578   \n",
       "1             160091                      버즈                그룹|남성    300646   \n",
       "2                923                     윤도현                솔로|남성    301886   \n",
       "3             108363                  SG 워너비                그룹|남성     50578   \n",
       "4             108363                  SG 워너비                그룹|남성     50578   \n",
       "...              ...                     ...                  ...       ...   \n",
       "1893         2113114                      백아                솔로|여성  10210149   \n",
       "1894  468244|2744750  10CM|BIG Naughty (서동현)                 프로젝트  11063205   \n",
       "1895          699632                     로이킴                솔로|남성  11280645   \n",
       "1896         2137482                 (여자)아이들                그룹|여성  11240232   \n",
       "1897         2893700                      탑현                솔로|남성  11262009   \n",
       "\n",
       "                    album_name  \n",
       "0                          살다가  \n",
       "1                  Buzz Effect  \n",
       "2                   Difference  \n",
       "3                          살다가  \n",
       "4                          살다가  \n",
       "...                        ...  \n",
       "1893                       첫사랑  \n",
       "1894                   딱 10CM만  \n",
       "1895  잘 지내자, 우리 (여름날 우리 X 로이킴)  \n",
       "1896                    I feel  \n",
       "1897                  나에게 그대만이  \n",
       "\n",
       "[1898 rows x 10 columns]"
      ]
     },
     "execution_count": 9,
     "metadata": {},
     "output_type": "execute_result"
    }
   ],
   "source": [
    "df"
   ]
  },
  {
   "cell_type": "code",
   "execution_count": 10,
   "id": "106064cf",
   "metadata": {
    "ExecuteTime": {
     "end_time": "2024-01-14T11:37:11.172298Z",
     "start_time": "2024-01-14T11:37:09.556433Z"
    }
   },
   "outputs": [],
   "source": [
    "df.to_excel(\"melon_year_top100_2005-2023.xlsx\", index=False, engine=\"openpyxl\")"
   ]
  },
  {
   "cell_type": "code",
   "execution_count": null,
   "id": "3dc51b5a",
   "metadata": {},
   "outputs": [],
   "source": []
  }
 ],
 "metadata": {
  "hide_input": false,
  "kernelspec": {
   "display_name": "Python 3 (tm4pz)",
   "language": "python",
   "name": "tm4pz"
  },
  "language_info": {
   "codemirror_mode": {
    "name": "ipython",
    "version": 3
   },
   "file_extension": ".py",
   "mimetype": "text/x-python",
   "name": "python",
   "nbconvert_exporter": "python",
   "pygments_lexer": "ipython3",
   "version": "3.9.18"
  },
  "toc": {
   "base_numbering": 1,
   "nav_menu": {},
   "number_sections": true,
   "sideBar": true,
   "skip_h1_title": false,
   "title_cell": "Table of Contents",
   "title_sidebar": "Contents",
   "toc_cell": false,
   "toc_position": {},
   "toc_section_display": true,
   "toc_window_display": false
  },
  "varInspector": {
   "cols": {
    "lenName": 16,
    "lenType": 16,
    "lenVar": 40
   },
   "kernels_config": {
    "python": {
     "delete_cmd_postfix": "",
     "delete_cmd_prefix": "del ",
     "library": "var_list.py",
     "varRefreshCmd": "print(var_dic_list())"
    },
    "r": {
     "delete_cmd_postfix": ") ",
     "delete_cmd_prefix": "rm(",
     "library": "var_list.r",
     "varRefreshCmd": "cat(var_dic_list()) "
    }
   },
   "types_to_exclude": [
    "module",
    "function",
    "builtin_function_or_method",
    "instance",
    "_Feature"
   ],
   "window_display": false
  }
 },
 "nbformat": 4,
 "nbformat_minor": 5
}
