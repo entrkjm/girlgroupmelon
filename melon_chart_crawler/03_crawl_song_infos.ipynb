{
 "cells": [
  {
   "cell_type": "markdown",
   "id": "22bcbcb8",
   "metadata": {},
   "source": [
    "- parsed_chart에서 모든 song_id를 읽는다.\n",
    "- 하나씩 가져와서 html로 저장한다."
   ]
  },
  {
   "cell_type": "code",
   "execution_count": 1,
   "id": "57bfaf0c",
   "metadata": {
    "ExecuteTime": {
     "end_time": "2024-01-14T10:00:14.859525Z",
     "start_time": "2024-01-14T10:00:14.644475Z"
    }
   },
   "outputs": [],
   "source": [
    "import os\n",
    "import requests\n",
    "import time\n",
    "import json\n",
    "from tqdm import tqdm"
   ]
  },
  {
   "cell_type": "markdown",
   "id": "6676f3b5",
   "metadata": {},
   "source": [
    "## get song ids"
   ]
  },
  {
   "cell_type": "code",
   "execution_count": 2,
   "id": "c4081895",
   "metadata": {
    "ExecuteTime": {
     "end_time": "2024-01-14T10:00:16.010783Z",
     "start_time": "2024-01-14T10:00:16.004783Z"
    }
   },
   "outputs": [],
   "source": [
    "path = \"parsed_chart_html\"\n",
    "json_files = os.listdir(path)"
   ]
  },
  {
   "cell_type": "code",
   "execution_count": 3,
   "id": "a7b2bb52",
   "metadata": {
    "ExecuteTime": {
     "end_time": "2024-01-14T10:00:17.352092Z",
     "start_time": "2024-01-14T10:00:16.364862Z"
    }
   },
   "outputs": [
    {
     "name": "stderr",
     "output_type": "stream",
     "text": [
      "5141it [00:00, 146840.34it/s]\n",
      "5182it [00:00, 152397.16it/s]\n",
      "5200it [00:00, 126806.01it/s]\n",
      "5200it [00:00, 148538.69it/s]\n",
      "5299it [00:00, 165557.64it/s]\n",
      "5192it [00:00, 167445.78it/s]\n",
      "5184it [00:00, 157061.44it/s]\n",
      "5193it [00:00, 162247.07it/s]\n",
      "5200it [00:00, 144409.96it/s]\n",
      "5200it [00:00, 162469.41it/s]\n",
      "5300it [00:00, 147174.41it/s]\n",
      "5198it [00:00, 120852.95it/s]\n",
      "5200it [00:00, 179283.54it/s]\n",
      "5200it [00:00, 157541.65it/s]\n",
      "5200it [00:00, 162450.05it/s]\n",
      "5300it [00:00, 160618.86it/s]\n",
      "5200it [00:00, 157508.65it/s]\n",
      "5200it [00:00, 167706.37it/s]\n",
      "5200it [00:00, 144353.57it/s]"
     ]
    },
    {
     "name": "stdout",
     "output_type": "stream",
     "text": [
      "num song ids:  12277\n"
     ]
    },
    {
     "name": "stderr",
     "output_type": "stream",
     "text": [
      "\n"
     ]
    }
   ],
   "source": [
    "song_ids = set()\n",
    "for json_file in json_files:\n",
    "    with open(os.path.join(path, json_file), \"r\", encoding = 'utf-8') as f:\n",
    "        for line in tqdm(f):\n",
    "            doc = json.loads(line)\n",
    "            song_id = doc[\"title_num\"]\n",
    "            song_ids.add(song_id)\n",
    "    \n",
    "print(\"num song ids: \", len(song_ids))"
   ]
  },
  {
   "cell_type": "code",
   "execution_count": 4,
   "id": "9c90f39e",
   "metadata": {
    "ExecuteTime": {
     "end_time": "2024-01-14T10:00:17.793183Z",
     "start_time": "2024-01-14T10:00:17.780182Z"
    }
   },
   "outputs": [],
   "source": [
    "song_ids = sorted(song_ids)"
   ]
  },
  {
   "cell_type": "markdown",
   "id": "4f4daf39",
   "metadata": {},
   "source": [
    "## crawl song info"
   ]
  },
  {
   "cell_type": "code",
   "execution_count": 5,
   "id": "581103e9",
   "metadata": {
    "ExecuteTime": {
     "end_time": "2024-01-14T10:00:18.937441Z",
     "start_time": "2024-01-14T10:00:18.918437Z"
    }
   },
   "outputs": [],
   "source": [
    "def requestsHtml(url):\n",
    "    #\n",
    "    PROXY_IP = \"proxypool.daumsoft.com:7002\"\n",
    "    proxies = {\"http\": PROXY_IP, \"https\": PROXY_IP}\n",
    "    \n",
    "    user_agent = 'Mozilla/5.0 (Macintosh; Intel Mac OS X 10_15_7) AppleWebKit/537.36 (KHTML, like Gecko) Chrome/113.0.0.0 Safari/537.36'\n",
    "    headers = {\"User-Agent\": user_agent, \"Host\": \"www.melon.com\",\n",
    "              \"Cookie\": \"PCID=16847374038867242922976; PC_PCID=16847374038867242922976; POC=MP10; wcs_bt=s_f9c4bde066b:1684738153; _T_ANO=LN7+/1jYGuEk1pWeFf/8ws5/bdU0sBvkci0zB20oZjupLTvRok3l5dCviaJVCx9XAn8VrO3gzllm5G0oWjMpE5KMumb9bNDAviDSrJV7A5gp3nmb++/xZpPclNdvRFWh6VOEBUziQPGLhysNG3F3ZmFtpYuolLGVAj1qRtMG2dpQ4Tc7djgs/gDhPY0sGe77p7HCRdKzfha3wF9G5NnwWYXr0wD+9ZHxKnqHqrtTVEmEzxIbBAnnXTNl8Tm4ekHjlvmO5duev1gUgiC6KiOXYW0g9I7QldLTUnFkS9O8Yti5d+xw5Ec6DExLjyBJNNRP/N8jziBiPmn/2q36Yv3jig==\",\n",
    "              }\n",
    "    #resp = requests.get(url, headers=headers, proxies=proxies)\n",
    "    resp = requests.get(url, headers=headers) #, proxies=proxies)\n",
    "    #\n",
    "    return resp\n",
    "\n",
    "\n"
   ]
  },
  {
   "cell_type": "code",
   "execution_count": 6,
   "id": "dccd9ecf",
   "metadata": {
    "ExecuteTime": {
     "end_time": "2024-01-14T10:00:20.118707Z",
     "start_time": "2024-01-14T10:00:19.605594Z"
    }
   },
   "outputs": [],
   "source": [
    "# 저장된 html 목록을 읽는다.\n",
    "song_html_path = \"htmls/songs\"\n",
    "file_names = os.listdir(song_html_path)\n",
    "alread_crawled_song_ids = set([_.replace(\".html\", \"\") for _ in file_names])\n",
    "\n",
    "# 이미 parse된 songs를 읽는다.\n",
    "try: \n",
    "    with open(\"song_infos.jsonl\", \"r\", encoding='utf-8') as f:\n",
    "        lines = f.readlines()\n",
    "        docs = [json.loads(_) for _ in lines]\n",
    "        parsed_song_ids = [_[\"song_id\"] for _ in docs]\n",
    "except:\n",
    "    parsed_song_ids = []"
   ]
  },
  {
   "cell_type": "code",
   "execution_count": 7,
   "id": "cd0b6c19",
   "metadata": {
    "ExecuteTime": {
     "end_time": "2024-01-14T10:00:23.836561Z",
     "start_time": "2024-01-14T10:00:22.202178Z"
    }
   },
   "outputs": [
    {
     "name": "stdout",
     "output_type": "stream",
     "text": [
      "song_id nums: 12277\n",
      "already crawled: 5140\n",
      "already parsed: 14897\n",
      "song_ids to crawl: 115\n"
     ]
    }
   ],
   "source": [
    "print(\"song_id nums: {}\".format(len(song_ids)))\n",
    "print(\"already crawled: {}\".format(len(alread_crawled_song_ids)))\n",
    "print(\"already parsed: {}\".format(len(parsed_song_ids)))\n",
    "\n",
    "song_ids = [_ for _ in song_ids if _ not in alread_crawled_song_ids and _ not in parsed_song_ids]\n",
    "print(\"song_ids to crawl: {}\".format(len(song_ids)))"
   ]
  },
  {
   "cell_type": "code",
   "execution_count": 8,
   "id": "0dcb16ec",
   "metadata": {
    "ExecuteTime": {
     "end_time": "2024-01-14T10:05:20.346117Z",
     "start_time": "2024-01-14T10:00:45.457417Z"
    }
   },
   "outputs": [
    {
     "name": "stderr",
     "output_type": "stream",
     "text": [
      "100%|██████████| 115/115 [04:34<00:00,  2.39s/it]\n"
     ]
    }
   ],
   "source": [
    "for song_id in tqdm(song_ids):\n",
    "    \n",
    "    url = \"https://www.melon.com/song/detail.htm?songId={}\".format(song_id)\n",
    "    resp = requestsHtml(url)\n",
    "    if \"잘못된 경로로 접근\" in resp.text:\n",
    "        print(\"잘못된 경로: {}\".format(song_id))\n",
    "        time.sleep(2)\n",
    "        continue\n",
    "        \n",
    "    #\n",
    "    with open(os.path.join(song_html_path, \"{}.html\".format(song_id)), \"w\", encoding='UTF-8') as of:\n",
    "        print(resp.text, file=of)\n",
    "        \n",
    "    # 2초이상 쉬어야 끊기지 않는다.\n",
    "    time.sleep(2)"
   ]
  },
  {
   "cell_type": "code",
   "execution_count": null,
   "id": "461c4b48",
   "metadata": {},
   "outputs": [],
   "source": []
  }
 ],
 "metadata": {
  "hide_input": false,
  "kernelspec": {
   "display_name": "Python 3 (tm4pz)",
   "language": "python",
   "name": "tm4pz"
  },
  "language_info": {
   "codemirror_mode": {
    "name": "ipython",
    "version": 3
   },
   "file_extension": ".py",
   "mimetype": "text/x-python",
   "name": "python",
   "nbconvert_exporter": "python",
   "pygments_lexer": "ipython3",
   "version": "3.9.16"
  },
  "toc": {
   "base_numbering": 1,
   "nav_menu": {},
   "number_sections": true,
   "sideBar": true,
   "skip_h1_title": false,
   "title_cell": "Table of Contents",
   "title_sidebar": "Contents",
   "toc_cell": false,
   "toc_position": {},
   "toc_section_display": true,
   "toc_window_display": false
  },
  "varInspector": {
   "cols": {
    "lenName": 16,
    "lenType": 16,
    "lenVar": 40
   },
   "kernels_config": {
    "python": {
     "delete_cmd_postfix": "",
     "delete_cmd_prefix": "del ",
     "library": "var_list.py",
     "varRefreshCmd": "print(var_dic_list())"
    },
    "r": {
     "delete_cmd_postfix": ") ",
     "delete_cmd_prefix": "rm(",
     "library": "var_list.r",
     "varRefreshCmd": "cat(var_dic_list()) "
    }
   },
   "types_to_exclude": [
    "module",
    "function",
    "builtin_function_or_method",
    "instance",
    "_Feature"
   ],
   "window_display": false
  }
 },
 "nbformat": 4,
 "nbformat_minor": 5
}
