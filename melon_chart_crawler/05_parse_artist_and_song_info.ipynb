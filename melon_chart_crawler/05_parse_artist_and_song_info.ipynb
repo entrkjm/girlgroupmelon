{
 "cells": [
  {
   "cell_type": "code",
   "execution_count": 1,
   "id": "254546ea",
   "metadata": {
    "ExecuteTime": {
     "end_time": "2024-01-14T10:08:55.569636Z",
     "start_time": "2024-01-14T10:08:55.251559Z"
    }
   },
   "outputs": [],
   "source": [
    "import os\n",
    "import json\n",
    "from bs4 import BeautifulSoup\n",
    "from tqdm import tqdm"
   ]
  },
  {
   "cell_type": "markdown",
   "id": "b21778b8",
   "metadata": {},
   "source": [
    "## parse artist info"
   ]
  },
  {
   "cell_type": "code",
   "execution_count": 8,
   "id": "b3e6d387",
   "metadata": {
    "ExecuteTime": {
     "end_time": "2024-01-14T10:09:19.560116Z",
     "start_time": "2024-01-14T10:09:19.550114Z"
    }
   },
   "outputs": [],
   "source": [
    "def parseArtistInfo(artist_num):\n",
    "    artist_info = {\"artist_num\": str(artist_num)}\n",
    "    #\n",
    "    artist_html = \"htmls/artists/{}.html\".format(artist_num)\n",
    "    with open(artist_html, \"r\", encoding='UTF-8') as f:\n",
    "        html = f.read()\n",
    "        \n",
    "    if \"존재하지 않는 아티스트 정보입니다\" in html:\n",
    "        return artist_info\n",
    "    #\n",
    "    soup = BeautifulSoup(html, \"lxml\")\n",
    "    #\n",
    "    artist_name = soup.find(\"meta\", attrs={\"property\": \"og:title\"})[\"content\"]\n",
    "    artist_info[\"이름\"] = artist_name\n",
    "    #\n",
    "    info_part_tags = soup.find_all(\"dl\", class_=\"list_define clfix\")\n",
    "    info_part_tag = [_ for _ in info_part_tags if \"유형\" in _.get_text()][0]\n",
    "    #info_part_tag = soup.find_all(\"dl\", class_=\"list_define clfix\")[-2]\n",
    "    \n",
    "    dt_list = info_part_tag.find_all(\"dt\")\n",
    "    dd_list = info_part_tag.find_all(\"dd\")\n",
    "    #\n",
    "    for dt, dd in zip(dt_list, dd_list):\n",
    "        key = dt.get_text(strip=True).strip()\n",
    "        val = dd.get_text(strip=True).strip()\n",
    "        artist_info[key] = val\n",
    "    #\n",
    "    return artist_info"
   ]
  },
  {
   "cell_type": "markdown",
   "id": "66fd6a44",
   "metadata": {},
   "source": [
    "### read all htmls list"
   ]
  },
  {
   "cell_type": "code",
   "execution_count": 9,
   "id": "e923aad7",
   "metadata": {
    "ExecuteTime": {
     "end_time": "2024-01-14T10:09:19.972212Z",
     "start_time": "2024-01-14T10:09:19.963210Z"
    }
   },
   "outputs": [
    {
     "data": {
      "text/plain": [
       "47"
      ]
     },
     "execution_count": 9,
     "metadata": {},
     "output_type": "execute_result"
    }
   ],
   "source": [
    "artist_nums = [_.replace(\".html\", \"\") for _ in os.listdir(\"htmls/artists/\")]\n",
    "len(artist_nums)"
   ]
  },
  {
   "cell_type": "markdown",
   "id": "8999c439",
   "metadata": {},
   "source": [
    "### check alread parsed"
   ]
  },
  {
   "cell_type": "code",
   "execution_count": 10,
   "id": "214267a0",
   "metadata": {
    "ExecuteTime": {
     "end_time": "2024-01-14T10:09:20.539336Z",
     "start_time": "2024-01-14T10:09:20.504328Z"
    }
   },
   "outputs": [
    {
     "name": "stdout",
     "output_type": "stream",
     "text": [
      "already: 2553\n"
     ]
    }
   ],
   "source": [
    "artist_info_file = \"artist_infos.jsonl\"\n",
    "with open(artist_info_file, \"r\", encoding='utf-8') as f:\n",
    "    lines = f.readlines()\n",
    "\n",
    "already = [json.loads(_)[\"artist_num\"] for _ in lines]\n",
    "print(\"already: {}\".format(len(already)))"
   ]
  },
  {
   "cell_type": "code",
   "execution_count": 11,
   "id": "f91f46bb",
   "metadata": {
    "ExecuteTime": {
     "end_time": "2024-01-14T10:09:20.890326Z",
     "start_time": "2024-01-14T10:09:20.873318Z"
    }
   },
   "outputs": [
    {
     "name": "stdout",
     "output_type": "stream",
     "text": [
      "artist_nums to parse: 18\n"
     ]
    }
   ],
   "source": [
    "artist_nums = [_ for _ in artist_nums if _ not in already]\n",
    "print(\"artist_nums to parse: {}\".format(len(artist_nums)))"
   ]
  },
  {
   "cell_type": "markdown",
   "id": "aba8f5f3",
   "metadata": {},
   "source": [
    "### start parsing"
   ]
  },
  {
   "cell_type": "code",
   "execution_count": 12,
   "id": "182c4df0",
   "metadata": {
    "ExecuteTime": {
     "end_time": "2024-01-14T10:09:22.360889Z",
     "start_time": "2024-01-14T10:09:21.819769Z"
    }
   },
   "outputs": [
    {
     "name": "stderr",
     "output_type": "stream",
     "text": [
      "100%|██████████| 18/18 [00:00<00:00, 33.70it/s]\n"
     ]
    }
   ],
   "source": [
    "artist_infos = []\n",
    "for artist_num in tqdm(artist_nums):\n",
    "    info = parseArtistInfo(artist_num)\n",
    "    artist_infos.append(info)"
   ]
  },
  {
   "cell_type": "code",
   "execution_count": 13,
   "id": "cf34b658",
   "metadata": {
    "ExecuteTime": {
     "end_time": "2024-01-14T10:09:23.203080Z",
     "start_time": "2024-01-14T10:09:23.192078Z"
    }
   },
   "outputs": [
    {
     "data": {
      "text/plain": [
       "{'artist_num': '2006344',\n",
       " '이름': 'Stray Kids (스트레이 키즈)',\n",
       " '데뷔': '2018.03.25',\n",
       " '활동년대': '2010, 2020 년대',\n",
       " '유형': '그룹|남성',\n",
       " '장르': '랩/힙합, 댄스, 록/메탈, R&B/Soul, 발라드, 일렉트로니카, 국내드라마, 애니메이션/웹툰, 포크/블루스',\n",
       " '소속사명': '(주)JYP엔터테인먼트'}"
      ]
     },
     "execution_count": 13,
     "metadata": {},
     "output_type": "execute_result"
    }
   ],
   "source": [
    "artist_infos[0]"
   ]
  },
  {
   "cell_type": "markdown",
   "id": "5e48b88f",
   "metadata": {},
   "source": [
    "### save"
   ]
  },
  {
   "cell_type": "code",
   "execution_count": 15,
   "id": "a93c9bbc",
   "metadata": {
    "ExecuteTime": {
     "end_time": "2024-01-14T10:09:33.729687Z",
     "start_time": "2024-01-14T10:09:33.712685Z"
    }
   },
   "outputs": [
    {
     "name": "stderr",
     "output_type": "stream",
     "text": [
      "100%|██████████| 18/18 [00:00<00:00, 18005.60it/s]\n"
     ]
    }
   ],
   "source": [
    "# 저장\n",
    "artist_info_file = \"artist_infos.jsonl\"\n",
    "with open(artist_info_file, \"a\", encoding='UTF-8') as of:\n",
    "    for line in tqdm(artist_infos):\n",
    "        print(json.dumps(line, ensure_ascii=False), file=of)"
   ]
  },
  {
   "cell_type": "code",
   "execution_count": null,
   "id": "f48cdaa8",
   "metadata": {},
   "outputs": [],
   "source": []
  },
  {
   "cell_type": "code",
   "execution_count": null,
   "id": "104ccf4d",
   "metadata": {},
   "outputs": [],
   "source": []
  },
  {
   "cell_type": "code",
   "execution_count": null,
   "id": "7182ab88",
   "metadata": {},
   "outputs": [],
   "source": []
  },
  {
   "cell_type": "markdown",
   "id": "62bd13cd",
   "metadata": {},
   "source": [
    "## Parse Songinfo"
   ]
  },
  {
   "cell_type": "markdown",
   "id": "3f126fb0",
   "metadata": {},
   "source": [
    "### def parser"
   ]
  },
  {
   "cell_type": "code",
   "execution_count": 27,
   "id": "0b2b817b",
   "metadata": {},
   "outputs": [],
   "source": [
    "def parseSongHtml(song_id):\n",
    "    #\n",
    "    song_info = {\"song_id\": song_id}\n",
    "    #\n",
    "    song_html = \"htmls/songs/{}.html\".format(song_id)\n",
    "    with open(song_html, \"r\", encoding='utf-8') as f:\n",
    "        html = f.read()\n",
    "        #\n",
    "    if \"존재하지 않는 곡 정보입니다.\" in html:\n",
    "        return song_info\n",
    "    #\n",
    "    soup = BeautifulSoup(html, \"lxml\")\n",
    "    print(soup.text)\n",
    "    #\n",
    "    #\n",
    "    sub_tag = soup.find(\"div\", class_=\"section_info\")\n",
    "    #\n",
    "    # song_name\n",
    "    song_name = list(sub_tag.find(\"div\", class_=\"song_name\").children)[-1].strip()\n",
    "    song_info[\"song_name\"] = song_name\n",
    "    #\n",
    "    # artist_name\n",
    "    #artist_name = sub_tag.find(\"div\", class_=\"artist\").get_text(strip=True)\n",
    "    artist_names = [_[\"title\"] for _ in sub_tag.find(\"div\", class_=\"artist\").find_all(\"a\", class_=\"artist_name\")]\n",
    "    artist_name = \" | \".join(artist_names)\n",
    "    song_info[\"artist_name\"] = artist_name\n",
    "    #\n",
    "    dt_list = sub_tag.find(\"div\", class_=\"meta\").find_all(\"dt\")\n",
    "    dd_list = sub_tag.find(\"div\", class_=\"meta\").find_all(\"dd\")\n",
    "\n",
    "    for dt, dd in zip(dt_list, dd_list):\n",
    "        key = dt.get_text(strip=True)\n",
    "        val = dd.get_text(strip=True)\n",
    "\n",
    "        if key == \"FLAC\":\n",
    "            continue\n",
    "        song_info[key]= val\n",
    "\n",
    "        if key == \"앨범\":\n",
    "            song_info[\"album_num\"] = dd.a[\"href\"].replace(\"javascript:melon.link.goAlbumDetail('\", \"\").replace(\"');\", \"\")\n",
    "    #\n",
    "    lyric_tag = soup.find(\"div\", class_=\"lyric\")\n",
    "    if not lyric_tag:\n",
    "        lyric = \"\"\n",
    "    else:\n",
    "        lyric = lyric_tag.get_text(separator=\"\\n\").strip()\n",
    "    song_info[\"lyric\"] = lyric\n",
    "    #\n",
    "    return song_info"
   ]
  },
  {
   "cell_type": "markdown",
   "id": "7964aec9",
   "metadata": {},
   "source": [
    "### read song html list"
   ]
  },
  {
   "cell_type": "code",
   "execution_count": 19,
   "id": "388d805a",
   "metadata": {
    "scrolled": true
   },
   "outputs": [
    {
     "data": {
      "text/plain": [
       "5140"
      ]
     },
     "execution_count": 19,
     "metadata": {},
     "output_type": "execute_result"
    }
   ],
   "source": [
    "song_nums = [_.replace(\".html\", \"\") for _ in os.listdir(\"htmls/songs/\")]\n",
    "song_nums = [_ for _ in song_nums if _.isdigit()]\n",
    "len(song_nums)"
   ]
  },
  {
   "cell_type": "markdown",
   "id": "a2d90410",
   "metadata": {},
   "source": [
    "### cheak already parsed"
   ]
  },
  {
   "cell_type": "code",
   "execution_count": 20,
   "id": "c6294d38",
   "metadata": {},
   "outputs": [
    {
     "name": "stdout",
     "output_type": "stream",
     "text": [
      "already: 14897\n"
     ]
    }
   ],
   "source": [
    "song_info_file = \"song_infos.jsonl\"\n",
    "try:\n",
    "    with open(song_info_file, \"r\", encoding='utf-8') as f:\n",
    "        lines = f.readlines()\n",
    "except:\n",
    "    lines = []\n",
    "\n",
    "already = [json.loads(_)[\"song_id\"] for _ in lines]\n",
    "print(\"already: {}\".format(len(already)))"
   ]
  },
  {
   "cell_type": "code",
   "execution_count": 21,
   "id": "ae2e3f96",
   "metadata": {},
   "outputs": [
    {
     "name": "stdout",
     "output_type": "stream",
     "text": [
      "song_nums to parse: 10\n"
     ]
    }
   ],
   "source": [
    "song_nums = [_ for _ in song_nums if _ not in already]\n",
    "print(\"song_nums to parse: {}\".format(len(song_nums)))"
   ]
  },
  {
   "cell_type": "markdown",
   "id": "ea8b9690",
   "metadata": {},
   "source": [
    "### start parsing"
   ]
  },
  {
   "cell_type": "code",
   "execution_count": 28,
   "id": "2cc8b9a4",
   "metadata": {},
   "outputs": [
    {
     "name": "stderr",
     "output_type": "stream",
     "text": [
      "  0%|          | 0/10 [00:00<?, ?it/s]"
     ]
    },
    {
     "name": "stdout",
     "output_type": "stream",
     "text": [
      "\n"
     ]
    },
    {
     "name": "stderr",
     "output_type": "stream",
     "text": [
      "\n"
     ]
    },
    {
     "ename": "AttributeError",
     "evalue": "'NoneType' object has no attribute 'find'",
     "output_type": "error",
     "traceback": [
      "\u001b[1;31m---------------------------------------------------------------------------\u001b[0m",
      "\u001b[1;31mAttributeError\u001b[0m                            Traceback (most recent call last)",
      "Input \u001b[1;32mIn [28]\u001b[0m, in \u001b[0;36m<cell line: 2>\u001b[1;34m()\u001b[0m\n\u001b[0;32m      1\u001b[0m song_infos \u001b[38;5;241m=\u001b[39m []\n\u001b[0;32m      2\u001b[0m \u001b[38;5;28;01mfor\u001b[39;00m song_id \u001b[38;5;129;01min\u001b[39;00m tqdm(song_nums):\n\u001b[1;32m----> 3\u001b[0m     info \u001b[38;5;241m=\u001b[39m \u001b[43mparseSongHtml\u001b[49m\u001b[43m(\u001b[49m\u001b[43msong_id\u001b[49m\u001b[43m)\u001b[49m\n\u001b[0;32m      4\u001b[0m     song_infos\u001b[38;5;241m.\u001b[39mappend(info)\n",
      "Input \u001b[1;32mIn [27]\u001b[0m, in \u001b[0;36mparseSongHtml\u001b[1;34m(song_id)\u001b[0m\n\u001b[0;32m     16\u001b[0m sub_tag \u001b[38;5;241m=\u001b[39m soup\u001b[38;5;241m.\u001b[39mfind(\u001b[38;5;124m\"\u001b[39m\u001b[38;5;124mdiv\u001b[39m\u001b[38;5;124m\"\u001b[39m, class_\u001b[38;5;241m=\u001b[39m\u001b[38;5;124m\"\u001b[39m\u001b[38;5;124msection_info\u001b[39m\u001b[38;5;124m\"\u001b[39m)\n\u001b[0;32m     17\u001b[0m \u001b[38;5;66;03m#\u001b[39;00m\n\u001b[0;32m     18\u001b[0m \u001b[38;5;66;03m# song_name\u001b[39;00m\n\u001b[1;32m---> 19\u001b[0m song_name \u001b[38;5;241m=\u001b[39m \u001b[38;5;28mlist\u001b[39m(\u001b[43msub_tag\u001b[49m\u001b[38;5;241;43m.\u001b[39;49m\u001b[43mfind\u001b[49m(\u001b[38;5;124m\"\u001b[39m\u001b[38;5;124mdiv\u001b[39m\u001b[38;5;124m\"\u001b[39m, class_\u001b[38;5;241m=\u001b[39m\u001b[38;5;124m\"\u001b[39m\u001b[38;5;124msong_name\u001b[39m\u001b[38;5;124m\"\u001b[39m)\u001b[38;5;241m.\u001b[39mchildren)[\u001b[38;5;241m-\u001b[39m\u001b[38;5;241m1\u001b[39m]\u001b[38;5;241m.\u001b[39mstrip()\n\u001b[0;32m     20\u001b[0m song_info[\u001b[38;5;124m\"\u001b[39m\u001b[38;5;124msong_name\u001b[39m\u001b[38;5;124m\"\u001b[39m] \u001b[38;5;241m=\u001b[39m song_name\n\u001b[0;32m     21\u001b[0m \u001b[38;5;66;03m#\u001b[39;00m\n\u001b[0;32m     22\u001b[0m \u001b[38;5;66;03m# artist_name\u001b[39;00m\n\u001b[0;32m     23\u001b[0m \u001b[38;5;66;03m#artist_name = sub_tag.find(\"div\", class_=\"artist\").get_text(strip=True)\u001b[39;00m\n",
      "\u001b[1;31mAttributeError\u001b[0m: 'NoneType' object has no attribute 'find'"
     ]
    }
   ],
   "source": [
    "song_infos = []\n",
    "for song_id in tqdm(song_nums):\n",
    "    info = parseSongHtml(song_id)\n",
    "    song_infos.append(info)"
   ]
  },
  {
   "cell_type": "code",
   "execution_count": 24,
   "id": "6015416e",
   "metadata": {},
   "outputs": [
    {
     "ename": "IndexError",
     "evalue": "list index out of range",
     "output_type": "error",
     "traceback": [
      "\u001b[1;31m---------------------------------------------------------------------------\u001b[0m",
      "\u001b[1;31mIndexError\u001b[0m                                Traceback (most recent call last)",
      "Input \u001b[1;32mIn [24]\u001b[0m, in \u001b[0;36m<cell line: 1>\u001b[1;34m()\u001b[0m\n\u001b[1;32m----> 1\u001b[0m \u001b[43msong_infos\u001b[49m\u001b[43m[\u001b[49m\u001b[38;5;241;43m-\u001b[39;49m\u001b[38;5;241;43m1\u001b[39;49m\u001b[43m]\u001b[49m\n",
      "\u001b[1;31mIndexError\u001b[0m: list index out of range"
     ]
    }
   ],
   "source": [
    "song_infos[-1]"
   ]
  },
  {
   "cell_type": "markdown",
   "id": "822dee5a",
   "metadata": {},
   "source": [
    "### save"
   ]
  },
  {
   "cell_type": "code",
   "execution_count": 15,
   "id": "23400e35",
   "metadata": {},
   "outputs": [
    {
     "name": "stderr",
     "output_type": "stream",
     "text": [
      "100%|█████████████████████████████████████████████████████████████| 6/6 [00:00<00:00, 10658.97it/s]\n"
     ]
    }
   ],
   "source": [
    "song_info_file = \"song_infos.jsonl\"\n",
    "with open(song_info_file, \"a\") as of:\n",
    "    for line in tqdm(song_infos):\n",
    "        print(json.dumps(line, ensure_ascii=False), file=of)"
   ]
  },
  {
   "cell_type": "code",
   "execution_count": null,
   "id": "bed46b10",
   "metadata": {},
   "outputs": [],
   "source": []
  },
  {
   "cell_type": "code",
   "execution_count": null,
   "id": "b4b8c54d",
   "metadata": {},
   "outputs": [],
   "source": []
  },
  {
   "cell_type": "code",
   "execution_count": null,
   "id": "1c0b85fe",
   "metadata": {},
   "outputs": [],
   "source": []
  },
  {
   "cell_type": "code",
   "execution_count": null,
   "id": "08a1c427",
   "metadata": {},
   "outputs": [],
   "source": []
  }
 ],
 "metadata": {
  "hide_input": false,
  "kernelspec": {
   "display_name": "Python 3",
   "language": "python",
   "name": "python3"
  },
  "language_info": {
   "codemirror_mode": {
    "name": "ipython",
    "version": 3
   },
   "file_extension": ".py",
   "mimetype": "text/x-python",
   "name": "python",
   "nbconvert_exporter": "python",
   "pygments_lexer": "ipython3",
   "version": "3.8.8"
  },
  "toc": {
   "base_numbering": 1,
   "nav_menu": {},
   "number_sections": true,
   "sideBar": true,
   "skip_h1_title": false,
   "title_cell": "Table of Contents",
   "title_sidebar": "Contents",
   "toc_cell": false,
   "toc_position": {},
   "toc_section_display": true,
   "toc_window_display": false
  },
  "varInspector": {
   "cols": {
    "lenName": 16,
    "lenType": 16,
    "lenVar": 40
   },
   "kernels_config": {
    "python": {
     "delete_cmd_postfix": "",
     "delete_cmd_prefix": "del ",
     "library": "var_list.py",
     "varRefreshCmd": "print(var_dic_list())"
    },
    "r": {
     "delete_cmd_postfix": ") ",
     "delete_cmd_prefix": "rm(",
     "library": "var_list.r",
     "varRefreshCmd": "cat(var_dic_list()) "
    }
   },
   "types_to_exclude": [
    "module",
    "function",
    "builtin_function_or_method",
    "instance",
    "_Feature"
   ],
   "window_display": false
  }
 },
 "nbformat": 4,
 "nbformat_minor": 5
}
