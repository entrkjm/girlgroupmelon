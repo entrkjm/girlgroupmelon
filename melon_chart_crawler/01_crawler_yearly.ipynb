{
 "cells": [
  {
   "cell_type": "markdown",
   "id": "d2bd6e75",
   "metadata": {},
   "source": [
    "##  melon 주간 가요 top100차트를 크롤링한다. \n",
    "### (\"국내종합\"), 2016이전 \"종합\", 수정, 2016이전 \"가요\"\n",
    "- year단위로 수행한다.\n",
    "- 2017 이후\n",
    "- https://www.melon.com/chart/search/list.htm?chartType=WE&classCd=DM0000&startDay=20161226&endDay=20170101&moved=Y\n",
    "- 2016 이전\n",
    "- https://www.melon.com/chart/search/list.htm?chartType=WE&classCd=DP0000&startDay=20160307&endDay=20160313&moved=Y\n",
    "- 2008\n",
    "- https://www.melon.com/chart/search/list.htm?chartType=WE&classCd=CL0000&startDay=20080928&endDay=20081004&moved=Y\n",
    "- ~2008 \"가요\" 장르로 수정\n",
    "- https://www.melon.com/chart/search/list.htm?chartType=WE&classCd=CL0100&startDay=20080928&endDay=20081004&moved=Y"
   ]
  },
  {
   "cell_type": "code",
   "execution_count": 13,
   "id": "b13cec05",
   "metadata": {
    "ExecuteTime": {
     "end_time": "2024-01-14T09:51:10.700090Z",
     "start_time": "2024-01-14T09:51:10.682086Z"
    }
   },
   "outputs": [],
   "source": [
    "import requests\n",
    "import os\n",
    "import time\n",
    "from datetime import datetime, timedelta\n",
    "from bs4 import BeautifulSoup"
   ]
  },
  {
   "cell_type": "markdown",
   "id": "3a945ed9",
   "metadata": {},
   "source": [
    "### set yearly start_day"
   ]
  },
  {
   "cell_type": "code",
   "execution_count": 14,
   "id": "eb082f32",
   "metadata": {
    "ExecuteTime": {
     "end_time": "2024-01-14T09:51:11.019164Z",
     "start_time": "2024-01-14T09:51:11.006158Z"
    }
   },
   "outputs": [],
   "source": [
    "# 연도별 startday의 범위를 설정한다.\n",
    "yearly_start = {\n",
    "                \"2005\": [\"20050103\", \"20051226\"],\n",
    "                \"2006\": [\"20060102\", \"20061225\"],\n",
    "                \"2007\": [\"20070101\", \"20071223\"],\n",
    "                \"2008\": [\"20071230\", \"20081221\"],\n",
    "                \"2009\": [\"20081228\", \"20091227\"],    \n",
    "                \"2010\": [\"20100103\", \"20101226\"],\n",
    "                \"2011\": [\"20110102\", \"20111225\"],\n",
    "                \"2012\": [\"20120101\", \"20121224\"],\n",
    "                \"2013\": [\"20121231\", \"20131223\"],\n",
    "                \"2014\": [\"20131230\", \"20141222\"],\n",
    "                \"2015\": [\"20141229\", \"20151228\"],\n",
    "                \"2016\": [\"20160104\", \"20161226\"],\n",
    "                \"2017\": [\"20170102\", \"20171225\"],\n",
    "                \"2018\": [\"20180101\", \"20181224\"],\n",
    "                \"2019\": [\"20181231\", \"20191223\"],\n",
    "                \"2020\": [\"20191230\", \"20201228\"],\n",
    "                \"2021\": [\"20210104\", \"20211227\"],\n",
    "                \"2022\": [\"20220103\", \"20230101\"],\n",
    "                \"2023\": [\"20230102\", \"20231231\"]}"
   ]
  },
  {
   "cell_type": "code",
   "execution_count": 21,
   "id": "6d75626e",
   "metadata": {
    "ExecuteTime": {
     "end_time": "2024-01-14T09:52:03.625227Z",
     "start_time": "2024-01-14T09:52:03.607225Z"
    }
   },
   "outputs": [],
   "source": [
    "def getStartEndPairsByTargetYear(target_year):\n",
    "    # 해당 연도의 startDay, endDay pairs를 만든다.\n",
    "    #\n",
    "    # 해당 연도 start_days의 범위를 꺼낸다.\n",
    "    target_start1, target_start2 = yearly_start.get(target_year)\n",
    "    # datetime obj로 변환.\n",
    "    target_start1, target_start2 = datetime.strptime(target_start1, \"%Y%m%d\"), datetime.strptime(target_start2, \"%Y%m%d\")\n",
    "    #\n",
    "    # start_days, end_days를 채운다.\n",
    "    start_days = []\n",
    "    end_days = []\n",
    "    while target_start1 <= target_start2:\n",
    "        start_days.append(datetime.strftime(target_start1, \"%Y%m%d\"))\n",
    "        # 2007년의 기준 변경 대응\n",
    "        if target_start1 == datetime(year=2007, month=7, day=9):\n",
    "            end_days.append(datetime.strftime(target_start1 + timedelta(days=5), \"%Y%m%d\"))\n",
    "        else:\n",
    "            end_days.append(datetime.strftime(target_start1 + timedelta(days=6), \"%Y%m%d\"))\n",
    "        #\n",
    "        target_start1 = target_start1 + timedelta(days=7)\n",
    "        # 2012년 기준 변경의 대응\n",
    "        if target_start1 == datetime(year=2012, month=8, day=12):\n",
    "            target_start1 = datetime(year=2012, month=8, day=13)\n",
    "        if target_start1 == datetime(year=2007, month=7, day=16):\n",
    "            target_start1 = datetime(year=2007, month=7, day=15)\n",
    "    #\n",
    "    if target_start1 - timedelta(days=7) != target_start2:\n",
    "        print(\"last start_day not matched\")\n",
    "        print(target_start1, target_start2)\n",
    "    return start_days, end_days\n",
    "    \n",
    "    "
   ]
  },
  {
   "cell_type": "code",
   "execution_count": 22,
   "id": "4ff7df39",
   "metadata": {
    "ExecuteTime": {
     "end_time": "2024-01-14T09:52:03.864283Z",
     "start_time": "2024-01-14T09:52:03.854280Z"
    }
   },
   "outputs": [
    {
     "name": "stdout",
     "output_type": "stream",
     "text": [
      "last start_day not matched\n",
      "2024-01-01 00:00:00 2023-12-31 00:00:00\n",
      "year: 2023, 52 weeks\n"
     ]
    }
   ],
   "source": [
    "target_year = \"2023\"\n",
    "start_days, end_days = getStartEndPairsByTargetYear(target_year)\n",
    "\n",
    "print(\"year: {}, {} weeks\".format(target_year, len(start_days)))"
   ]
  },
  {
   "cell_type": "markdown",
   "id": "7eeb4a77",
   "metadata": {},
   "source": [
    "## crawl weekly & save Html"
   ]
  },
  {
   "cell_type": "code",
   "execution_count": 23,
   "id": "6213fdd0",
   "metadata": {
    "ExecuteTime": {
     "end_time": "2024-01-14T09:52:04.878518Z",
     "start_time": "2024-01-14T09:52:04.860515Z"
    }
   },
   "outputs": [],
   "source": [
    "def requestsHtml(url):\n",
    "    #\n",
    "    PROXY_IP = \"proxypool.daumsoft.com:7002\"\n",
    "    proxies = {\"http\": PROXY_IP, \"https\": PROXY_IP}\n",
    "    user_agent = 'Mozilla/5.0 (Macintosh; Intel Mac OS X 10_15_7) AppleWebKit/537.36 (KHTML, like Gecko) Chrome/113.0.0.0 Safari/537.36'\n",
    "    headers = {\"User-Agent\": user_agent, \"Host\": \"www.melon.com\",\n",
    "              \"Cookie\": \"__T_=1; PCID=16847374038867242922976; PC_PCID=16847374038867242922976; POC=MP10; wcs_bt=s_f9c4bde066b:1684737405; _T_ANO=G9eN8NNSWyJ2AiGsAFhyuxlSlyUwodg1wdA2xQPBSr222rt9gLwHr4KPkodclmDLtZd0uRv5xET7IOb1f1+/tmXHI8WXQCWxJ5GahNlvcNblBJIM+b8/ogzo/e2c/+5trXBExVBUXrpRbj7tkwvZ8CUifzoSUoExK4vuqnMwLq94GR0x58Kc/5OTDeVRh9x0xmpBTYM5OYTbNoTdT3DFxZe4OZF/26Fm5bUmDfJA+KIWMgb/FgJ2ZZJ6HTziV2wSb7x6s9mGQsDu2r3KiHpthygxHNua4HB+7RBa0ytw+QC3mYUsK0K4aiu6uQLtBftNMO6eT92+qn9PkFpv+AMsgg==\",\n",
    "              }\n",
    "    #resp = requests.get(url, headers=headers, proxies=proxies)\n",
    "    resp = requests.get(url, headers=headers) #, proxies=proxies)\n",
    "    #\n",
    "    return resp"
   ]
  },
  {
   "cell_type": "code",
   "execution_count": 24,
   "id": "e6bf2707",
   "metadata": {
    "ExecuteTime": {
     "end_time": "2024-01-14T09:52:05.627689Z",
     "start_time": "2024-01-14T09:52:05.618678Z"
    }
   },
   "outputs": [],
   "source": [
    "def makeMelonWeeklyChartUrl(start_day, end_day):\n",
    "    #\n",
    "    if start_day[:4] >= \"2017\":\n",
    "        url_tmplt = \"https://www.melon.com/chart/search/list.htm?chartType=WE&classCd=DM0000&startDay={start_day}&endDay={end_day}&moved=Y\"\n",
    "    elif start_day >= \"20081026\":\n",
    "        # DP0100: 가요\n",
    "        url_tmplt = \"https://www.melon.com/chart/search/list.htm?chartType=WE&classCd=DP0100&startDay={start_day}&endDay={end_day}&moved=Y\"\n",
    "    else:\n",
    "        # CL0100: 가요\n",
    "        url_tmplt = \"https://www.melon.com/chart/search/list.htm?chartType=WE&classCd=CL0100&startDay={start_day}&endDay={end_day}&moved=Y\"\n",
    "        \n",
    "    #\n",
    "    return url_tmplt.format(start_day=start_day, end_day=end_day)\n",
    "    "
   ]
  },
  {
   "cell_type": "code",
   "execution_count": 25,
   "id": "b49befcc",
   "metadata": {
    "ExecuteTime": {
     "end_time": "2024-01-14T09:52:06.057777Z",
     "start_time": "2024-01-14T09:52:06.053775Z"
    }
   },
   "outputs": [],
   "source": [
    "def saveHtml(resp, target_year, file_path_name):\n",
    "    #\n",
    "    if target_year not in os.listdir(\"htmls\"):\n",
    "        os.mkdir(\"htmls/{}\".format(target_year))\n",
    "    #\n",
    "    with open(file_path_name, \"w\", encoding='UTF-8') as of:\n",
    "        print(resp.text, file=of)\n",
    "    #\n",
    "    return None"
   ]
  },
  {
   "cell_type": "code",
   "execution_count": 26,
   "id": "5ada1d19",
   "metadata": {
    "ExecuteTime": {
     "end_time": "2024-01-14T09:52:45.850717Z",
     "start_time": "2024-01-14T09:52:10.942878Z"
    },
    "scrolled": true
   },
   "outputs": [
    {
     "name": "stdout",
     "output_type": "stream",
     "text": [
      "already crawled: 20230102-20230108\n",
      "already crawled: 20230109-20230115\n",
      "already crawled: 20230116-20230122\n",
      "already crawled: 20230123-20230129\n",
      "already crawled: 20230130-20230205\n",
      "already crawled: 20230206-20230212\n",
      "already crawled: 20230213-20230219\n",
      "already crawled: 20230220-20230226\n",
      "already crawled: 20230227-20230305\n",
      "already crawled: 20230306-20230312\n",
      "already crawled: 20230313-20230319\n",
      "already crawled: 20230320-20230326\n",
      "already crawled: 20230327-20230402\n",
      "already crawled: 20230403-20230409\n",
      "already crawled: 20230410-20230416\n",
      "already crawled: 20230417-20230423\n",
      "already crawled: 20230424-20230430\n",
      "already crawled: 20230501-20230507\n",
      "already crawled: 20230508-20230514\n",
      "already crawled: 20230515-20230521\n",
      "https://www.melon.com/chart/search/list.htm?chartType=WE&classCd=DM0000&startDay=20230522&endDay=20230528&moved=Y\n",
      "https://www.melon.com/chart/search/list.htm?chartType=WE&classCd=DM0000&startDay=20230529&endDay=20230604&moved=Y\n",
      "https://www.melon.com/chart/search/list.htm?chartType=WE&classCd=DM0000&startDay=20230605&endDay=20230611&moved=Y\n",
      "https://www.melon.com/chart/search/list.htm?chartType=WE&classCd=DM0000&startDay=20230612&endDay=20230618&moved=Y\n",
      "https://www.melon.com/chart/search/list.htm?chartType=WE&classCd=DM0000&startDay=20230619&endDay=20230625&moved=Y\n",
      "https://www.melon.com/chart/search/list.htm?chartType=WE&classCd=DM0000&startDay=20230626&endDay=20230702&moved=Y\n",
      "https://www.melon.com/chart/search/list.htm?chartType=WE&classCd=DM0000&startDay=20230703&endDay=20230709&moved=Y\n",
      "https://www.melon.com/chart/search/list.htm?chartType=WE&classCd=DM0000&startDay=20230710&endDay=20230716&moved=Y\n",
      "https://www.melon.com/chart/search/list.htm?chartType=WE&classCd=DM0000&startDay=20230717&endDay=20230723&moved=Y\n",
      "https://www.melon.com/chart/search/list.htm?chartType=WE&classCd=DM0000&startDay=20230724&endDay=20230730&moved=Y\n",
      "https://www.melon.com/chart/search/list.htm?chartType=WE&classCd=DM0000&startDay=20230731&endDay=20230806&moved=Y\n",
      "https://www.melon.com/chart/search/list.htm?chartType=WE&classCd=DM0000&startDay=20230807&endDay=20230813&moved=Y\n",
      "https://www.melon.com/chart/search/list.htm?chartType=WE&classCd=DM0000&startDay=20230814&endDay=20230820&moved=Y\n",
      "https://www.melon.com/chart/search/list.htm?chartType=WE&classCd=DM0000&startDay=20230821&endDay=20230827&moved=Y\n",
      "https://www.melon.com/chart/search/list.htm?chartType=WE&classCd=DM0000&startDay=20230828&endDay=20230903&moved=Y\n",
      "https://www.melon.com/chart/search/list.htm?chartType=WE&classCd=DM0000&startDay=20230904&endDay=20230910&moved=Y\n",
      "https://www.melon.com/chart/search/list.htm?chartType=WE&classCd=DM0000&startDay=20230911&endDay=20230917&moved=Y\n",
      "https://www.melon.com/chart/search/list.htm?chartType=WE&classCd=DM0000&startDay=20230918&endDay=20230924&moved=Y\n",
      "https://www.melon.com/chart/search/list.htm?chartType=WE&classCd=DM0000&startDay=20230925&endDay=20231001&moved=Y\n",
      "https://www.melon.com/chart/search/list.htm?chartType=WE&classCd=DM0000&startDay=20231002&endDay=20231008&moved=Y\n",
      "https://www.melon.com/chart/search/list.htm?chartType=WE&classCd=DM0000&startDay=20231009&endDay=20231015&moved=Y\n",
      "https://www.melon.com/chart/search/list.htm?chartType=WE&classCd=DM0000&startDay=20231016&endDay=20231022&moved=Y\n",
      "https://www.melon.com/chart/search/list.htm?chartType=WE&classCd=DM0000&startDay=20231023&endDay=20231029&moved=Y\n",
      "https://www.melon.com/chart/search/list.htm?chartType=WE&classCd=DM0000&startDay=20231030&endDay=20231105&moved=Y\n",
      "https://www.melon.com/chart/search/list.htm?chartType=WE&classCd=DM0000&startDay=20231106&endDay=20231112&moved=Y\n",
      "https://www.melon.com/chart/search/list.htm?chartType=WE&classCd=DM0000&startDay=20231113&endDay=20231119&moved=Y\n",
      "https://www.melon.com/chart/search/list.htm?chartType=WE&classCd=DM0000&startDay=20231120&endDay=20231126&moved=Y\n",
      "https://www.melon.com/chart/search/list.htm?chartType=WE&classCd=DM0000&startDay=20231127&endDay=20231203&moved=Y\n",
      "https://www.melon.com/chart/search/list.htm?chartType=WE&classCd=DM0000&startDay=20231204&endDay=20231210&moved=Y\n",
      "https://www.melon.com/chart/search/list.htm?chartType=WE&classCd=DM0000&startDay=20231211&endDay=20231217&moved=Y\n",
      "https://www.melon.com/chart/search/list.htm?chartType=WE&classCd=DM0000&startDay=20231218&endDay=20231224&moved=Y\n",
      "https://www.melon.com/chart/search/list.htm?chartType=WE&classCd=DM0000&startDay=20231225&endDay=20231231&moved=Y\n"
     ]
    }
   ],
   "source": [
    "for cnt, (start_day, end_day) in enumerate(zip(start_days, end_days)):\n",
    "    #\n",
    "    url = makeMelonWeeklyChartUrl(start_day, end_day)\n",
    "    #\n",
    "    # check if already crawled\n",
    "    file_path_name = \"htmls/{}/{}-{}.html\".format(target_year, start_day, end_day)\n",
    "    if os.path.isfile(file_path_name):\n",
    "        print(\"already crawled: {}-{}\".format(start_day, end_day))\n",
    "        continue\n",
    "        \n",
    "    print(url)\n",
    "    \n",
    "    #\n",
    "    resp = requestsHtml(url)\n",
    "    if not resp.text:\n",
    "        print(\"empty html\")\n",
    "        break\n",
    "    #\n",
    "    saveHtml(resp, target_year, file_path_name)\n",
    "    time.sleep(1)"
   ]
  },
  {
   "cell_type": "code",
   "execution_count": null,
   "id": "ebe96c5e",
   "metadata": {},
   "outputs": [],
   "source": []
  },
  {
   "cell_type": "code",
   "execution_count": null,
   "id": "277700d9",
   "metadata": {},
   "outputs": [],
   "source": []
  }
 ],
 "metadata": {
  "hide_input": false,
  "kernelspec": {
   "display_name": "Python 3",
   "language": "python",
   "name": "python3"
  },
  "language_info": {
   "codemirror_mode": {
    "name": "ipython",
    "version": 3
   },
   "file_extension": ".py",
   "mimetype": "text/x-python",
   "name": "python",
   "nbconvert_exporter": "python",
   "pygments_lexer": "ipython3",
   "version": "3.8.8"
  },
  "toc": {
   "base_numbering": 1,
   "nav_menu": {},
   "number_sections": true,
   "sideBar": true,
   "skip_h1_title": false,
   "title_cell": "Table of Contents",
   "title_sidebar": "Contents",
   "toc_cell": false,
   "toc_position": {},
   "toc_section_display": true,
   "toc_window_display": false
  },
  "varInspector": {
   "cols": {
    "lenName": 16,
    "lenType": 16,
    "lenVar": 40
   },
   "kernels_config": {
    "python": {
     "delete_cmd_postfix": "",
     "delete_cmd_prefix": "del ",
     "library": "var_list.py",
     "varRefreshCmd": "print(var_dic_list())"
    },
    "r": {
     "delete_cmd_postfix": ") ",
     "delete_cmd_prefix": "rm(",
     "library": "var_list.r",
     "varRefreshCmd": "cat(var_dic_list()) "
    }
   },
   "types_to_exclude": [
    "module",
    "function",
    "builtin_function_or_method",
    "instance",
    "_Feature"
   ],
   "window_display": false
  }
 },
 "nbformat": 4,
 "nbformat_minor": 5
}
