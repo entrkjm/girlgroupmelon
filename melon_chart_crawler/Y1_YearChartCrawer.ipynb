{
 "cells": [
  {
   "cell_type": "code",
   "execution_count": 1,
   "id": "85d7b5aa",
   "metadata": {
    "ExecuteTime": {
     "end_time": "2024-01-14T10:53:52.378571Z",
     "start_time": "2024-01-14T10:53:51.955829Z"
    }
   },
   "outputs": [],
   "source": [
    "import requests\n",
    "import os\n",
    "import time\n",
    "from datetime import datetime, timedelta\n",
    "from bs4 import BeautifulSoup"
   ]
  },
  {
   "cell_type": "code",
   "execution_count": 7,
   "id": "b201083f",
   "metadata": {
    "ExecuteTime": {
     "end_time": "2024-01-14T11:00:54.651307Z",
     "start_time": "2024-01-14T11:00:54.644304Z"
    }
   },
   "outputs": [
    {
     "data": {
      "text/plain": [
       "['2000',\n",
       " '2001',\n",
       " '2002',\n",
       " '2003',\n",
       " '2004',\n",
       " '2005',\n",
       " '2006',\n",
       " '2007',\n",
       " '2008',\n",
       " '2009',\n",
       " '2010',\n",
       " '2011',\n",
       " '2012',\n",
       " '2013',\n",
       " '2014',\n",
       " '2015',\n",
       " '2016',\n",
       " '2017',\n",
       " '2018',\n",
       " '2019',\n",
       " '2020',\n",
       " '2021',\n",
       " '2022',\n",
       " '2023']"
      ]
     },
     "execution_count": 7,
     "metadata": {},
     "output_type": "execute_result"
    }
   ],
   "source": [
    "#Set year-range\n",
    "\n",
    "end_year = 2024 #input\n",
    "\n",
    "year_range = [str(_) for _ in range(2000,end_year)]\n",
    "year_range"
   ]
  },
  {
   "cell_type": "code",
   "execution_count": 5,
   "id": "ed3fb797",
   "metadata": {
    "ExecuteTime": {
     "end_time": "2024-01-14T10:56:13.609813Z",
     "start_time": "2024-01-14T10:56:13.603812Z"
    }
   },
   "outputs": [],
   "source": [
    "def requestsHtml(url):\n",
    "    #\n",
    "    PROXY_IP = \"proxypool.daumsoft.com:7002\"\n",
    "    proxies = {\"http\": PROXY_IP, \"https\": PROXY_IP}\n",
    "    user_agent = 'Mozilla/5.0 (Macintosh; Intel Mac OS X 10_15_7) AppleWebKit/537.36 (KHTML, like Gecko) Chrome/113.0.0.0 Safari/537.36'\n",
    "    headers = {\"User-Agent\": user_agent, \"Host\": \"www.melon.com\",\n",
    "              \"Cookie\": \"__T_=1; PCID=16847374038867242922976; PC_PCID=16847374038867242922976; POC=MP10; wcs_bt=s_f9c4bde066b:1684737405; _T_ANO=G9eN8NNSWyJ2AiGsAFhyuxlSlyUwodg1wdA2xQPBSr222rt9gLwHr4KPkodclmDLtZd0uRv5xET7IOb1f1+/tmXHI8WXQCWxJ5GahNlvcNblBJIM+b8/ogzo/e2c/+5trXBExVBUXrpRbj7tkwvZ8CUifzoSUoExK4vuqnMwLq94GR0x58Kc/5OTDeVRh9x0xmpBTYM5OYTbNoTdT3DFxZe4OZF/26Fm5bUmDfJA+KIWMgb/FgJ2ZZJ6HTziV2wSb7x6s9mGQsDu2r3KiHpthygxHNua4HB+7RBa0ytw+QC3mYUsK0K4aiu6uQLtBftNMO6eT92+qn9PkFpv+AMsgg==\",\n",
    "              }\n",
    "    #resp = requests.get(url, headers=headers, proxies=proxies)\n",
    "    resp = requests.get(url, headers=headers) #, proxies=proxies)\n",
    "    #\n",
    "    return resp"
   ]
  },
  {
   "cell_type": "code",
   "execution_count": 19,
   "id": "a61fbcc7",
   "metadata": {
    "ExecuteTime": {
     "end_time": "2024-01-14T11:21:44.618845Z",
     "start_time": "2024-01-14T11:21:44.612835Z"
    }
   },
   "outputs": [],
   "source": [
    "def makeMelonYearlyChartUrl(year):\n",
    "        #\n",
    "    if year[:4] >= \"2017\":\n",
    "        url_tmplt = \"https://www.melon.com/chart/search/list.htm?chartType=YE&year={year}&classCd=DM0000&moved=Y\"\n",
    "    elif year >= \"2008\":\n",
    "        # DP0100: 가요\n",
    "        url_tmplt = \"https://www.melon.com/chart/search/list.htm?chartType=YE&year={year}&classCd=DP0100&moved=Y\"\n",
    "    else:\n",
    "        # CL0100: 가요\n",
    "        url_tmplt = \"https://www.melon.com/chart/search/list.htm?chartType=YE&year={year}&classCd=CL0100&moved=Y\"\n",
    "        \n",
    "    #\n",
    "    return url_tmplt.format(year=year)"
   ]
  },
  {
   "cell_type": "code",
   "execution_count": 23,
   "id": "bb96db58",
   "metadata": {
    "ExecuteTime": {
     "end_time": "2024-01-14T11:23:19.657890Z",
     "start_time": "2024-01-14T11:23:19.646889Z"
    }
   },
   "outputs": [],
   "source": [
    "def saveHtml(resp, target_year, file_path_name):\n",
    "    #\n",
    "    if target_year not in os.listdir(\"year_htmls\"):\n",
    "        os.mkdir(\"year_htmls/{}\".format(target_year))\n",
    "    #\n",
    "    with open(file_path_name, \"w\", encoding='UTF-8') as of:\n",
    "        print(resp.text, file=of)\n",
    "    #\n",
    "    return None"
   ]
  },
  {
   "cell_type": "code",
   "execution_count": 24,
   "id": "b8a75b67",
   "metadata": {
    "ExecuteTime": {
     "end_time": "2024-01-14T11:23:55.968084Z",
     "start_time": "2024-01-14T11:23:20.084642Z"
    }
   },
   "outputs": [
    {
     "name": "stdout",
     "output_type": "stream",
     "text": [
      "https://www.melon.com/chart/search/list.htm?chartType=YE&year=2000&classCd=CL0100&moved=Y\n",
      "https://www.melon.com/chart/search/list.htm?chartType=YE&year=2001&classCd=CL0100&moved=Y\n",
      "https://www.melon.com/chart/search/list.htm?chartType=YE&year=2002&classCd=CL0100&moved=Y\n",
      "https://www.melon.com/chart/search/list.htm?chartType=YE&year=2003&classCd=CL0100&moved=Y\n",
      "https://www.melon.com/chart/search/list.htm?chartType=YE&year=2004&classCd=CL0100&moved=Y\n",
      "https://www.melon.com/chart/search/list.htm?chartType=YE&year=2005&classCd=CL0100&moved=Y\n",
      "https://www.melon.com/chart/search/list.htm?chartType=YE&year=2006&classCd=CL0100&moved=Y\n",
      "https://www.melon.com/chart/search/list.htm?chartType=YE&year=2007&classCd=CL0100&moved=Y\n",
      "https://www.melon.com/chart/search/list.htm?chartType=YE&year=2008&classCd=DP0100&moved=Y\n",
      "https://www.melon.com/chart/search/list.htm?chartType=YE&year=2009&classCd=DP0100&moved=Y\n",
      "https://www.melon.com/chart/search/list.htm?chartType=YE&year=2010&classCd=DP0100&moved=Y\n",
      "https://www.melon.com/chart/search/list.htm?chartType=YE&year=2011&classCd=DP0100&moved=Y\n",
      "https://www.melon.com/chart/search/list.htm?chartType=YE&year=2012&classCd=DP0100&moved=Y\n",
      "https://www.melon.com/chart/search/list.htm?chartType=YE&year=2013&classCd=DP0100&moved=Y\n",
      "https://www.melon.com/chart/search/list.htm?chartType=YE&year=2014&classCd=DP0100&moved=Y\n",
      "https://www.melon.com/chart/search/list.htm?chartType=YE&year=2015&classCd=DP0100&moved=Y\n",
      "https://www.melon.com/chart/search/list.htm?chartType=YE&year=2016&classCd=DP0100&moved=Y\n",
      "https://www.melon.com/chart/search/list.htm?chartType=YE&year=2017&classCd=DM0000&moved=Y\n",
      "https://www.melon.com/chart/search/list.htm?chartType=YE&year=2018&classCd=DM0000&moved=Y\n",
      "https://www.melon.com/chart/search/list.htm?chartType=YE&year=2019&classCd=DM0000&moved=Y\n",
      "https://www.melon.com/chart/search/list.htm?chartType=YE&year=2020&classCd=DM0000&moved=Y\n",
      "https://www.melon.com/chart/search/list.htm?chartType=YE&year=2021&classCd=DM0000&moved=Y\n",
      "https://www.melon.com/chart/search/list.htm?chartType=YE&year=2022&classCd=DM0000&moved=Y\n",
      "https://www.melon.com/chart/search/list.htm?chartType=YE&year=2023&classCd=DM0000&moved=Y\n"
     ]
    }
   ],
   "source": [
    "for year in year_range:\n",
    "    #\n",
    "    url = makeMelonYearlyChartUrl(year)\n",
    "    #\n",
    "    # check if already crawled\n",
    "    file_path_name = \"year_htmls/{}.html\".format(year)\n",
    "    if os.path.isfile(file_path_name):\n",
    "        print(\"already crawled: year\".format(year))\n",
    "        continue\n",
    "        \n",
    "    print(url)\n",
    "    \n",
    "    #\n",
    "    resp = requestsHtml(url)\n",
    "    if not resp.text:\n",
    "        print(\"empty html\")\n",
    "        break\n",
    "    #\n",
    "    saveHtml(resp, year, file_path_name)\n",
    "    time.sleep(1)"
   ]
  },
  {
   "cell_type": "code",
   "execution_count": null,
   "id": "3f47b263",
   "metadata": {},
   "outputs": [],
   "source": []
  }
 ],
 "metadata": {
  "hide_input": false,
  "kernelspec": {
   "display_name": "Python 3 (tm4pz)",
   "language": "python",
   "name": "tm4pz"
  },
  "language_info": {
   "codemirror_mode": {
    "name": "ipython",
    "version": 3
   },
   "file_extension": ".py",
   "mimetype": "text/x-python",
   "name": "python",
   "nbconvert_exporter": "python",
   "pygments_lexer": "ipython3",
   "version": "3.9.18"
  },
  "toc": {
   "base_numbering": 1,
   "nav_menu": {},
   "number_sections": true,
   "sideBar": true,
   "skip_h1_title": false,
   "title_cell": "Table of Contents",
   "title_sidebar": "Contents",
   "toc_cell": false,
   "toc_position": {},
   "toc_section_display": true,
   "toc_window_display": false
  },
  "varInspector": {
   "cols": {
    "lenName": 16,
    "lenType": 16,
    "lenVar": 40
   },
   "kernels_config": {
    "python": {
     "delete_cmd_postfix": "",
     "delete_cmd_prefix": "del ",
     "library": "var_list.py",
     "varRefreshCmd": "print(var_dic_list())"
    },
    "r": {
     "delete_cmd_postfix": ") ",
     "delete_cmd_prefix": "rm(",
     "library": "var_list.r",
     "varRefreshCmd": "cat(var_dic_list()) "
    }
   },
   "types_to_exclude": [
    "module",
    "function",
    "builtin_function_or_method",
    "instance",
    "_Feature"
   ],
   "window_display": false
  }
 },
 "nbformat": 4,
 "nbformat_minor": 5
}
