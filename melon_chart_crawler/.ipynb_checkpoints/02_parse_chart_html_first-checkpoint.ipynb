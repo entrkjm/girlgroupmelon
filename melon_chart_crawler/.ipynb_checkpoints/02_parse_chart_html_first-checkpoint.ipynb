{
 "cells": [
  {
   "cell_type": "markdown",
   "id": "93c333d6",
   "metadata": {},
   "source": [
    "- html에 대한 1차 파싱을 진행한다.\n",
    "- 이 파싱 정보로 artist_info, song_info 등을 가져와 저장해야 한다."
   ]
  },
  {
   "cell_type": "code",
   "execution_count": 1,
   "id": "afb9672c",
   "metadata": {},
   "outputs": [],
   "source": [
    "import os\n",
    "import json\n",
    "from bs4 import BeautifulSoup"
   ]
  },
  {
   "cell_type": "markdown",
   "id": "0f8e281b",
   "metadata": {},
   "source": [
    "## get file names"
   ]
  },
  {
   "cell_type": "code",
   "execution_count": 3,
   "id": "a862b9e9",
   "metadata": {},
   "outputs": [],
   "source": [
    "def getHtmlFileNames(target_year):\n",
    "    html_path = \"htmls/{}\".format(target_year)\n",
    "    html_file_names = os.listdir(html_path)\n",
    "    html_file_names = [_ for _ in sorted(html_file_names) if _.endswith(\".html\")]\n",
    "    #\n",
    "    return html_file_names"
   ]
  },
  {
   "cell_type": "markdown",
   "id": "258b9888",
   "metadata": {},
   "source": [
    "## parse a file"
   ]
  },
  {
   "cell_type": "code",
   "execution_count": 8,
   "id": "fb003394",
   "metadata": {},
   "outputs": [],
   "source": [
    "def openHtml(target_year, file_name):\n",
    "    html_path = \"htmls/{}/{}\".format(target_year, file_name)\n",
    "    with open(html_path, \"r\") as f:\n",
    "        html = f.read()\n",
    "    #\n",
    "    return html"
   ]
  },
  {
   "cell_type": "code",
   "execution_count": 9,
   "id": "ea6d5f0f",
   "metadata": {},
   "outputs": [],
   "source": [
    "def soupHtml(html):\n",
    "    #\n",
    "    soup = BeautifulSoup(html, \"lxml\")\n",
    "    #\n",
    "    return soup"
   ]
  },
  {
   "cell_type": "code",
   "execution_count": 10,
   "id": "af1da6f6",
   "metadata": {},
   "outputs": [],
   "source": [
    "def splitTrs(soup):\n",
    "    # 각 순위별 tag들을 split하여 돌려준다.\n",
    "    trs = soup.find_all(\"tr\")\n",
    "    # 첫 줄은 header이니 삭제.\n",
    "    trs = trs[1:]\n",
    "    #\n",
    "    return trs"
   ]
  },
  {
   "cell_type": "code",
   "execution_count": 11,
   "id": "05a18be5",
   "metadata": {},
   "outputs": [],
   "source": [
    "def parseAtr(a_tr):\n",
    "    # ranking\n",
    "    try:\n",
    "        ranking = a_tr.find(\"span\", class_=\"rank top\").get_text(strip=True)\n",
    "    except:\n",
    "        ranking = a_tr.find(\"span\", class_=\"rank\").get_text(strip=True)\n",
    "        \n",
    "    # title_num\n",
    "    title_num = a_tr.find(\"button\", class_=\"btn_icon like\")[\"data-song-no\"]\n",
    "    \n",
    "    # title_name\n",
    "    title_name = a_tr.find(\"div\", class_=\"ellipsis rank01\").strong.get_text(strip=True)\n",
    "    \n",
    "    # album_name \n",
    "    album_name = a_tr.find(\"div\", class_=\"ellipsis rank03\").find(\"a\", class_=\"fc_mgray\").get_text(strip=True)\n",
    "\n",
    "    # album num\n",
    "    album_num = a_tr.find(\"div\", class_=\"ellipsis rank03\").find(\"a\")[\"href\"]\n",
    "    album_num = album_num.replace(\"javascript:melon.link.goAlbumDetail('\", \"\").replace(\"');\", \"\")\n",
    "\n",
    "    # artist\n",
    "    artist_obj = a_tr.find(\"div\", class_=\"ellipsis rank02\").find_all(\"a\")\n",
    "    artist = []\n",
    "    for tag in artist_obj:\n",
    "        artist_name = tag.get_text(strip=True)\n",
    "        artist_num = tag[\"href\"].replace(\"javascript:melon.link.goArtistDetail('\", \"\").replace(\"');\", \"\")\n",
    "        if (artist_num, artist_name) not in artist:\n",
    "            artist.append((artist_num, artist_name))\n",
    "    \n",
    "    # last line\n",
    "    line = {\"ranking\": ranking, \"title_num\": title_num, \"title_name\": title_name,\n",
    "           \"album_num\": album_num, \"album_name\": album_name, \"artists\": artist}\n",
    "    \n",
    "    return line"
   ]
  },
  {
   "cell_type": "code",
   "execution_count": null,
   "id": "4bab51c2",
   "metadata": {},
   "outputs": [],
   "source": []
  },
  {
   "cell_type": "markdown",
   "id": "9cecb0d7",
   "metadata": {},
   "source": [
    "## do all html"
   ]
  },
  {
   "cell_type": "code",
   "execution_count": 7,
   "id": "17cafa01",
   "metadata": {},
   "outputs": [
    {
     "name": "stdout",
     "output_type": "stream",
     "text": [
      "files: 20\n"
     ]
    }
   ],
   "source": [
    "target_year = \"2023\"\n",
    "html_file_names = getHtmlFileNames(target_year)\n",
    "print(\"files: {}\".format(len(html_file_names)))"
   ]
  },
  {
   "cell_type": "code",
   "execution_count": 12,
   "id": "642100a0",
   "metadata": {
    "scrolled": true
   },
   "outputs": [
    {
     "name": "stdout",
     "output_type": "stream",
     "text": [
      "yearweek: 202301\n",
      "yearweek: 202302\n",
      "yearweek: 202303\n",
      "yearweek: 202304\n",
      "yearweek: 202305\n",
      "yearweek: 202306\n",
      "yearweek: 202307\n",
      "yearweek: 202308\n",
      "yearweek: 202309\n",
      "yearweek: 202310\n",
      "yearweek: 202311\n",
      "yearweek: 202312\n",
      "yearweek: 202313\n",
      "yearweek: 202314\n",
      "yearweek: 202315\n",
      "yearweek: 202316\n",
      "yearweek: 202317\n",
      "yearweek: 202318\n",
      "yearweek: 202319\n",
      "yearweek: 202320\n"
     ]
    }
   ],
   "source": [
    "lines = []\n",
    "for cnt, a_name in enumerate(html_file_names, 1):\n",
    "    yearweek = \"{}{:02}\".format(target_year, cnt)\n",
    "    period = a_name.replace(\".html\", \"\")\n",
    "    \n",
    "    print(\"yearweek: {}\".format(yearweek))\n",
    "    \n",
    "    html = openHtml(target_year, a_name)\n",
    "    soup = soupHtml(html)\n",
    "    trs = splitTrs(soup)\n",
    "    for a_tr in trs:\n",
    "        line = parseAtr(a_tr)\n",
    "        line[\"yearweek\"] = yearweek\n",
    "        line[\"period\"] = period\n",
    "        lines.append(line)\n",
    "        "
   ]
  },
  {
   "cell_type": "code",
   "execution_count": 13,
   "id": "a225dc30",
   "metadata": {},
   "outputs": [
    {
     "name": "stdout",
     "output_type": "stream",
     "text": [
      "total 2000 lines\n"
     ]
    }
   ],
   "source": [
    "print(\"total {} lines\".format(len(lines)))"
   ]
  },
  {
   "cell_type": "markdown",
   "id": "d8ba395e",
   "metadata": {},
   "source": [
    "## save json"
   ]
  },
  {
   "cell_type": "code",
   "execution_count": 14,
   "id": "4984195e",
   "metadata": {},
   "outputs": [],
   "source": [
    "file_name = \"parsed_chart_html/{}.jsonl\".format(target_year)"
   ]
  },
  {
   "cell_type": "code",
   "execution_count": 15,
   "id": "c6eb8fc6",
   "metadata": {},
   "outputs": [],
   "source": [
    "with open(file_name, \"w\", encoding=\"utf-8\") as of:\n",
    "    for line in lines:\n",
    "        print(json.dumps(line, ensure_ascii=False), file=of)"
   ]
  },
  {
   "cell_type": "code",
   "execution_count": null,
   "id": "504cf578",
   "metadata": {},
   "outputs": [],
   "source": []
  },
  {
   "cell_type": "code",
   "execution_count": null,
   "id": "c48549a5",
   "metadata": {},
   "outputs": [],
   "source": []
  },
  {
   "cell_type": "code",
   "execution_count": null,
   "id": "2535f947",
   "metadata": {},
   "outputs": [],
   "source": []
  },
  {
   "cell_type": "code",
   "execution_count": null,
   "id": "071a4c2e",
   "metadata": {},
   "outputs": [],
   "source": []
  }
 ],
 "metadata": {
  "kernelspec": {
   "display_name": "Python 3 (ipykernel)",
   "language": "python",
   "name": "python3"
  },
  "language_info": {
   "codemirror_mode": {
    "name": "ipython",
    "version": 3
   },
   "file_extension": ".py",
   "mimetype": "text/x-python",
   "name": "python",
   "nbconvert_exporter": "python",
   "pygments_lexer": "ipython3",
   "version": "3.9.12"
  }
 },
 "nbformat": 4,
 "nbformat_minor": 5
}
