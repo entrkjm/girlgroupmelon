{
 "cells": [
  {
   "cell_type": "markdown",
   "id": "22bcbcb8",
   "metadata": {},
   "source": [
    "- parsed_chart에서 모든 song_id를 읽는다.\n",
    "- 하나씩 가져와서 html로 저장한다."
   ]
  },
  {
   "cell_type": "code",
   "execution_count": 5,
   "id": "57bfaf0c",
   "metadata": {},
   "outputs": [
    {
     "ename": "ModuleNotFoundError",
     "evalue": "No module named 'tqdm'",
     "output_type": "error",
     "traceback": [
      "\u001b[1;31m---------------------------------------------------------------------------\u001b[0m",
      "\u001b[1;31mModuleNotFoundError\u001b[0m                       Traceback (most recent call last)",
      "Input \u001b[1;32mIn [5]\u001b[0m, in \u001b[0;36m<cell line: 5>\u001b[1;34m()\u001b[0m\n\u001b[0;32m      3\u001b[0m \u001b[38;5;28;01mimport\u001b[39;00m \u001b[38;5;21;01mtime\u001b[39;00m\n\u001b[0;32m      4\u001b[0m \u001b[38;5;28;01mimport\u001b[39;00m \u001b[38;5;21;01mjson\u001b[39;00m\n\u001b[1;32m----> 5\u001b[0m \u001b[38;5;28;01mfrom\u001b[39;00m \u001b[38;5;21;01mtqdm\u001b[39;00m \u001b[38;5;28;01mimport\u001b[39;00m tqdm\n",
      "\u001b[1;31mModuleNotFoundError\u001b[0m: No module named 'tqdm'"
     ]
    }
   ],
   "source": [
    "import os\n",
    "import requests\n",
    "import time\n",
    "import json\n",
    "from tqdm import tqdm"
   ]
  },
  {
   "cell_type": "markdown",
   "id": "6676f3b5",
   "metadata": {},
   "source": [
    "## get song ids"
   ]
  },
  {
   "cell_type": "code",
   "execution_count": 3,
   "id": "c4081895",
   "metadata": {},
   "outputs": [],
   "source": [
    "path = \"parsed_chart_html\"\n",
    "json_files = os.listdir(path)"
   ]
  },
  {
   "cell_type": "code",
   "execution_count": 4,
   "id": "a7b2bb52",
   "metadata": {},
   "outputs": [
    {
     "ename": "NameError",
     "evalue": "name 'tqdm' is not defined",
     "output_type": "error",
     "traceback": [
      "\u001b[1;31m---------------------------------------------------------------------------\u001b[0m",
      "\u001b[1;31mNameError\u001b[0m                                 Traceback (most recent call last)",
      "Input \u001b[1;32mIn [4]\u001b[0m, in \u001b[0;36m<cell line: 2>\u001b[1;34m()\u001b[0m\n\u001b[0;32m      2\u001b[0m \u001b[38;5;28;01mfor\u001b[39;00m json_file \u001b[38;5;129;01min\u001b[39;00m json_files:\n\u001b[0;32m      3\u001b[0m     \u001b[38;5;28;01mwith\u001b[39;00m \u001b[38;5;28mopen\u001b[39m(os\u001b[38;5;241m.\u001b[39mpath\u001b[38;5;241m.\u001b[39mjoin(path, json_file), \u001b[38;5;124m\"\u001b[39m\u001b[38;5;124mr\u001b[39m\u001b[38;5;124m\"\u001b[39m) \u001b[38;5;28;01mas\u001b[39;00m f:\n\u001b[1;32m----> 4\u001b[0m         \u001b[38;5;28;01mfor\u001b[39;00m line \u001b[38;5;129;01min\u001b[39;00m \u001b[43mtqdm\u001b[49m(f):\n\u001b[0;32m      5\u001b[0m             doc \u001b[38;5;241m=\u001b[39m json\u001b[38;5;241m.\u001b[39mloads(line)\n\u001b[0;32m      6\u001b[0m             song_id \u001b[38;5;241m=\u001b[39m doc[\u001b[38;5;124m\"\u001b[39m\u001b[38;5;124mtitle_num\u001b[39m\u001b[38;5;124m\"\u001b[39m]\n",
      "\u001b[1;31mNameError\u001b[0m: name 'tqdm' is not defined"
     ]
    }
   ],
   "source": [
    "song_ids = set()\n",
    "for json_file in json_files:\n",
    "    with open(os.path.join(path, json_file), \"r\") as f:\n",
    "        for line in tqdm(f):\n",
    "            doc = json.loads(line)\n",
    "            song_id = doc[\"title_num\"]\n",
    "            song_ids.add(song_id)\n",
    "    \n",
    "print(\"num song ids: \", len(song_ids))"
   ]
  },
  {
   "cell_type": "code",
   "execution_count": 2,
   "id": "9c90f39e",
   "metadata": {},
   "outputs": [
    {
     "ename": "NameError",
     "evalue": "name 'song_ids' is not defined",
     "output_type": "error",
     "traceback": [
      "\u001b[1;31m---------------------------------------------------------------------------\u001b[0m",
      "\u001b[1;31mNameError\u001b[0m                                 Traceback (most recent call last)",
      "Input \u001b[1;32mIn [2]\u001b[0m, in \u001b[0;36m<cell line: 1>\u001b[1;34m()\u001b[0m\n\u001b[1;32m----> 1\u001b[0m song_ids \u001b[38;5;241m=\u001b[39m \u001b[38;5;28msorted\u001b[39m(\u001b[43msong_ids\u001b[49m)\n",
      "\u001b[1;31mNameError\u001b[0m: name 'song_ids' is not defined"
     ]
    }
   ],
   "source": [
    "song_ids = sorted(song_ids)"
   ]
  },
  {
   "cell_type": "markdown",
   "id": "4f4daf39",
   "metadata": {},
   "source": [
    "## crawl song info"
   ]
  },
  {
   "cell_type": "code",
   "execution_count": 5,
   "id": "581103e9",
   "metadata": {},
   "outputs": [],
   "source": [
    "def requestsHtml(url):\n",
    "    #\n",
    "    PROXY_IP = \"proxypool.daumsoft.com:7002\"\n",
    "    proxies = {\"http\": PROXY_IP, \"https\": PROXY_IP}\n",
    "    \n",
    "    user_agent = 'Mozilla/5.0 (Macintosh; Intel Mac OS X 10_15_7) AppleWebKit/537.36 (KHTML, like Gecko) Chrome/113.0.0.0 Safari/537.36'\n",
    "    headers = {\"User-Agent\": user_agent, \"Host\": \"www.melon.com\",\n",
    "              \"Cookie\": \"PCID=16847374038867242922976; PC_PCID=16847374038867242922976; POC=MP10; wcs_bt=s_f9c4bde066b:1684738153; _T_ANO=LN7+/1jYGuEk1pWeFf/8ws5/bdU0sBvkci0zB20oZjupLTvRok3l5dCviaJVCx9XAn8VrO3gzllm5G0oWjMpE5KMumb9bNDAviDSrJV7A5gp3nmb++/xZpPclNdvRFWh6VOEBUziQPGLhysNG3F3ZmFtpYuolLGVAj1qRtMG2dpQ4Tc7djgs/gDhPY0sGe77p7HCRdKzfha3wF9G5NnwWYXr0wD+9ZHxKnqHqrtTVEmEzxIbBAnnXTNl8Tm4ekHjlvmO5duev1gUgiC6KiOXYW0g9I7QldLTUnFkS9O8Yti5d+xw5Ec6DExLjyBJNNRP/N8jziBiPmn/2q36Yv3jig==\",\n",
    "              }\n",
    "    #resp = requests.get(url, headers=headers, proxies=proxies)\n",
    "    resp = requests.get(url, headers=headers) #, proxies=proxies)\n",
    "    #\n",
    "    return resp\n",
    "\n",
    "\n"
   ]
  },
  {
   "cell_type": "code",
   "execution_count": 6,
   "id": "dccd9ecf",
   "metadata": {},
   "outputs": [],
   "source": [
    "# 저장된 html 목록을 읽는다.\n",
    "song_html_path = \"htmls/songs\"\n",
    "file_names = os.listdir(song_html_path)\n",
    "alread_crawled_song_ids = set([_.replace(\".html\", \"\") for _ in file_names])\n",
    "\n",
    "# 이미 parse된 songs를 읽는다.\n",
    "try: \n",
    "    with open(\"song_infos.jsonl\", \"r\") as f:\n",
    "        lines = f.readlines()\n",
    "        docs = [json.loads(_) for _ in lines]\n",
    "        parsed_song_ids = [_[\"song_id\"] for _ in docs]\n",
    "except:\n",
    "    parsed_song_ids = []"
   ]
  },
  {
   "cell_type": "code",
   "execution_count": 7,
   "id": "cd0b6c19",
   "metadata": {},
   "outputs": [
    {
     "name": "stdout",
     "output_type": "stream",
     "text": [
      "song_id nums: 12152\n",
      "already crawled: 5123\n",
      "already parsed: 14891\n",
      "song_ids to crawl: 6\n"
     ]
    }
   ],
   "source": [
    "print(\"song_id nums: {}\".format(len(song_ids)))\n",
    "print(\"already crawled: {}\".format(len(alread_crawled_song_ids)))\n",
    "print(\"already parsed: {}\".format(len(parsed_song_ids)))\n",
    "\n",
    "song_ids = [_ for _ in song_ids if _ not in alread_crawled_song_ids and _ not in parsed_song_ids]\n",
    "print(\"song_ids to crawl: {}\".format(len(song_ids)))"
   ]
  },
  {
   "cell_type": "code",
   "execution_count": 8,
   "id": "0dcb16ec",
   "metadata": {},
   "outputs": [
    {
     "name": "stderr",
     "output_type": "stream",
     "text": [
      "100%|████████████████████████████████████████████████████████████████| 6/6 [00:13<00:00,  2.27s/it]\n"
     ]
    }
   ],
   "source": [
    "for song_id in tqdm(song_ids):\n",
    "    \n",
    "    url = \"https://www.melon.com/song/detail.htm?songId={}\".format(song_id)\n",
    "    resp = requestsHtml(url)\n",
    "    if \"잘못된 경로로 접근\" in resp.text:\n",
    "        print(\"잘못된 경로: {}\".format(song_id))\n",
    "        time.sleep(2)\n",
    "        continue\n",
    "        \n",
    "    #\n",
    "    with open(os.path.join(song_html_path, \"{}.html\".format(song_id)), \"w\") as of:\n",
    "        print(resp.text, file=of)\n",
    "        \n",
    "    # 2초이상 쉬어야 끊기지 않는다.\n",
    "    time.sleep(2)"
   ]
  },
  {
   "cell_type": "code",
   "execution_count": null,
   "id": "461c4b48",
   "metadata": {},
   "outputs": [],
   "source": []
  }
 ],
 "metadata": {
  "kernelspec": {
   "display_name": "Python 3 (tm4pz)",
   "language": "python",
   "name": "tm4pz"
  },
  "language_info": {
   "codemirror_mode": {
    "name": "ipython",
    "version": 3
   },
   "file_extension": ".py",
   "mimetype": "text/x-python",
   "name": "python",
   "nbconvert_exporter": "python",
   "pygments_lexer": "ipython3",
   "version": "3.9.12"
  }
 },
 "nbformat": 4,
 "nbformat_minor": 5
}
