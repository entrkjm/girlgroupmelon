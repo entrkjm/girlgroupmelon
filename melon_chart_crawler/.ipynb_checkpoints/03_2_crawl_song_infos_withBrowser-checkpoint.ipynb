{
 "cells": [
  {
   "cell_type": "markdown",
   "id": "5c699302",
   "metadata": {},
   "source": [
    "- parsed_chart에서 모든 song_id를 읽는다.\n",
    "- 하나씩 가져와서 html로 저장한다."
   ]
  },
  {
   "cell_type": "code",
   "execution_count": 2,
   "id": "4691db0f",
   "metadata": {
    "ExecuteTime": {
     "end_time": "2024-01-14T09:57:16.625023Z",
     "start_time": "2024-01-14T09:57:16.595017Z"
    }
   },
   "outputs": [
    {
     "ename": "ModuleNotFoundError",
     "evalue": "No module named 'selenium'",
     "output_type": "error",
     "traceback": [
      "\u001b[1;31m---------------------------------------------------------------------------\u001b[0m",
      "\u001b[1;31mModuleNotFoundError\u001b[0m                       Traceback (most recent call last)",
      "Input \u001b[1;32mIn [2]\u001b[0m, in \u001b[0;36m<cell line: 6>\u001b[1;34m()\u001b[0m\n\u001b[0;32m      4\u001b[0m \u001b[38;5;28;01mimport\u001b[39;00m \u001b[38;5;21;01mjson\u001b[39;00m\n\u001b[0;32m      5\u001b[0m \u001b[38;5;28;01mfrom\u001b[39;00m \u001b[38;5;21;01mtqdm\u001b[39;00m \u001b[38;5;28;01mimport\u001b[39;00m tqdm\n\u001b[1;32m----> 6\u001b[0m \u001b[38;5;28;01mfrom\u001b[39;00m \u001b[38;5;21;01mselenium\u001b[39;00m \u001b[38;5;28;01mimport\u001b[39;00m webdriver\n\u001b[0;32m      7\u001b[0m \u001b[38;5;28;01mfrom\u001b[39;00m \u001b[38;5;21;01mwebdriver_manager\u001b[39;00m\u001b[38;5;21;01m.\u001b[39;00m\u001b[38;5;21;01mchrome\u001b[39;00m \u001b[38;5;28;01mimport\u001b[39;00m ChromeDriverManager\n",
      "\u001b[1;31mModuleNotFoundError\u001b[0m: No module named 'selenium'"
     ]
    }
   ],
   "source": [
    "import os\n",
    "import requests\n",
    "import time\n",
    "import json\n",
    "from tqdm import tqdm\n",
    "from selenium import webdriver\n",
    "from webdriver_manager.chrome import ChromeDriverManager"
   ]
  },
  {
   "cell_type": "markdown",
   "id": "2aa49639",
   "metadata": {},
   "source": [
    "## get song ids"
   ]
  },
  {
   "cell_type": "code",
   "execution_count": 2,
   "id": "3887ee65",
   "metadata": {},
   "outputs": [],
   "source": [
    "path = \"parsed_chart_html\"\n",
    "json_files = os.listdir(path)"
   ]
  },
  {
   "cell_type": "code",
   "execution_count": 26,
   "id": "27554e5c",
   "metadata": {},
   "outputs": [
    {
     "name": "stderr",
     "output_type": "stream",
     "text": [
      "5200it [00:00, 136529.06it/s]\n",
      "1900it [00:00, 136432.82it/s]\n",
      "5200it [00:00, 150824.16it/s]\n",
      "5141it [00:00, 209564.38it/s]\n",
      "5200it [00:00, 187834.31it/s]\n",
      "5300it [00:00, 163413.64it/s]\n",
      "5182it [00:00, 163340.35it/s]\n",
      "5200it [00:00, 172948.65it/s]\n",
      "5200it [00:00, 175902.93it/s]\n",
      "5300it [00:00, 159861.14it/s]\n",
      "5200it [00:00, 162929.40it/s]\n",
      "5200it [00:00, 193436.75it/s]\n",
      "5200it [00:00, 184638.14it/s]\n",
      "5184it [00:00, 179352.58it/s]\n",
      "5198it [00:00, 187632.79it/s]\n",
      "5200it [00:00, 186466.10it/s]\n",
      "5299it [00:00, 134830.64it/s]\n",
      "5192it [00:00, 122684.27it/s]\n",
      "5193it [00:00, 129890.93it/s]"
     ]
    },
    {
     "name": "stdout",
     "output_type": "stream",
     "text": [
      "num song ids:  12146\n"
     ]
    },
    {
     "name": "stderr",
     "output_type": "stream",
     "text": [
      "\n"
     ]
    }
   ],
   "source": [
    "song_ids = set()\n",
    "for json_file in json_files:\n",
    "    with open(os.path.join(path, json_file), \"r\") as f:\n",
    "        for line in tqdm(f):\n",
    "            doc = json.loads(line)\n",
    "            song_id = doc[\"title_num\"]\n",
    "            song_ids.add(song_id)\n",
    "    \n",
    "print(\"num song ids: \", len(song_ids))"
   ]
  },
  {
   "cell_type": "code",
   "execution_count": 27,
   "id": "3eb507a7",
   "metadata": {},
   "outputs": [],
   "source": [
    "song_ids = sorted(song_ids)"
   ]
  },
  {
   "cell_type": "markdown",
   "id": "30bd1c56",
   "metadata": {},
   "source": [
    "## crawl song info"
   ]
  },
  {
   "cell_type": "code",
   "execution_count": 28,
   "id": "c9532611",
   "metadata": {},
   "outputs": [],
   "source": [
    "def initBrowser():\n",
    "    #\n",
    "    chrome_options = webdriver.ChromeOptions()\n",
    "    chrome_options.add_argument('--incognito') # incognito 시크릿 모드입니다.\n",
    "    browser = webdriver.Chrome(ChromeDriverManager().install(), options=chrome_options)\n",
    "    #\n",
    "    return browser\n",
    "    \n",
    "\n",
    "def quitBrowser(browser):\n",
    "    #\n",
    "    browser.quit()\n",
    "    #\n",
    "    return None\n",
    "\n",
    "def getHtmlwithBrowser(browser, url):\n",
    "    #\n",
    "    browser.get(url)\n",
    "    html = browser.page_source\n",
    "    time.sleep(1)\n",
    "    #\n",
    "    return html"
   ]
  },
  {
   "cell_type": "code",
   "execution_count": 29,
   "id": "c1989ce4",
   "metadata": {},
   "outputs": [],
   "source": [
    "song_html_path = \"htmls/songs\"\n",
    "file_names = os.listdir(song_html_path)\n",
    "alread_crawled_song_ids = set([_.replace(\".html\", \"\") for _ in file_names])\n",
    "\n",
    "# 이미 parse된 songs를 읽는다.\n",
    "try: \n",
    "    with open(\"song_infos.jsonl\", \"r\") as f:\n",
    "        lines = f.readlines()\n",
    "        docs = [json.loads(_) for _ in lines]\n",
    "        parsed_song_ids = [_[\"song_id\"] for _ in docs]\n",
    "except:\n",
    "    parsed_song_ids = []"
   ]
  },
  {
   "cell_type": "code",
   "execution_count": 30,
   "id": "fc2631c5",
   "metadata": {},
   "outputs": [
    {
     "name": "stdout",
     "output_type": "stream",
     "text": [
      "song_id nums: 12146\n",
      "already crawled: 5124\n",
      "already parsed: 14681\n",
      "song_ids to crawl: 0\n"
     ]
    }
   ],
   "source": [
    "print(\"song_id nums: {}\".format(len(song_ids)))\n",
    "print(\"already crawled: {}\".format(len(alread_crawled_song_ids)))\n",
    "print(\"already parsed: {}\".format(len(parsed_song_ids)))\n",
    "\n",
    "song_ids = [_ for _ in song_ids if _ not in alread_crawled_song_ids and _ not in parsed_song_ids]\n",
    "print(\"song_ids to crawl: {}\".format(len(song_ids)))"
   ]
  },
  {
   "cell_type": "code",
   "execution_count": 25,
   "id": "74da5b3b",
   "metadata": {},
   "outputs": [
    {
     "name": "stderr",
     "output_type": "stream",
     "text": [
      "/var/folders/03/p2hj2jdx6wq13p2tcscyfbwh0000gn/T/ipykernel_2301/4026465351.py:5: DeprecationWarning: executable_path has been deprecated, please pass in a Service object\n",
      "  browser = webdriver.Chrome(ChromeDriverManager().install(), options=chrome_options)\n",
      "100%|████████████████████████████████████████████████████████████| 210/210 [13:08<00:00,  3.76s/it]\n"
     ]
    }
   ],
   "source": [
    "#browser.quit()\n",
    "browser = initBrowser()\n",
    "\n",
    "\n",
    "for song_id in tqdm(song_ids):\n",
    "    \n",
    "    url = \"https://www.melon.com/song/detail.htm?songId={}\".format(song_id)\n",
    "    html = getHtmlwithBrowser(browser, url)\n",
    "\n",
    "    \n",
    "    if \"잘못된 경로로 접근\" in html:\n",
    "        print(\"잘못된 경로: {}\".format(song_id))\n",
    "        browser.quit()\n",
    "        browser = initBrowser()\n",
    "        time.sleep(1)\n",
    "        continue\n",
    "        \n",
    "    if song_id not in html:\n",
    "        print(\"song_id가 없음.\")\n",
    "        continue\n",
    "        \n",
    "    #\n",
    "    with open(os.path.join(song_html_path, \"{}.html\".format(song_id)), \"w\") as of:\n",
    "        print(html, file=of)\n",
    "        \n",
    "    # 2초이상 쉬어야 끊기지 않는다.\n",
    "    time.sleep(1)"
   ]
  },
  {
   "cell_type": "code",
   "execution_count": null,
   "id": "4e48be7b",
   "metadata": {},
   "outputs": [],
   "source": []
  }
 ],
 "metadata": {
  "hide_input": false,
  "kernelspec": {
   "display_name": "Python 3 (tm4pz)",
   "language": "python",
   "name": "tm4pz"
  },
  "language_info": {
   "codemirror_mode": {
    "name": "ipython",
    "version": 3
   },
   "file_extension": ".py",
   "mimetype": "text/x-python",
   "name": "python",
   "nbconvert_exporter": "python",
   "pygments_lexer": "ipython3",
   "version": "3.9.16"
  },
  "toc": {
   "base_numbering": 1,
   "nav_menu": {},
   "number_sections": true,
   "sideBar": true,
   "skip_h1_title": false,
   "title_cell": "Table of Contents",
   "title_sidebar": "Contents",
   "toc_cell": false,
   "toc_position": {},
   "toc_section_display": true,
   "toc_window_display": false
  },
  "varInspector": {
   "cols": {
    "lenName": 16,
    "lenType": 16,
    "lenVar": 40
   },
   "kernels_config": {
    "python": {
     "delete_cmd_postfix": "",
     "delete_cmd_prefix": "del ",
     "library": "var_list.py",
     "varRefreshCmd": "print(var_dic_list())"
    },
    "r": {
     "delete_cmd_postfix": ") ",
     "delete_cmd_prefix": "rm(",
     "library": "var_list.r",
     "varRefreshCmd": "cat(var_dic_list()) "
    }
   },
   "types_to_exclude": [
    "module",
    "function",
    "builtin_function_or_method",
    "instance",
    "_Feature"
   ],
   "window_display": false
  }
 },
 "nbformat": 4,
 "nbformat_minor": 5
}
