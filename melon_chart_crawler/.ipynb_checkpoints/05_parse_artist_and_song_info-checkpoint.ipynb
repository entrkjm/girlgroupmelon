{
 "cells": [
  {
   "cell_type": "code",
   "execution_count": 1,
   "id": "254546ea",
   "metadata": {},
   "outputs": [],
   "source": [
    "import os\n",
    "import json\n",
    "from bs4 import BeautifulSoup\n",
    "from tqdm import tqdm"
   ]
  },
  {
   "cell_type": "markdown",
   "id": "b21778b8",
   "metadata": {},
   "source": [
    "## parse artist info"
   ]
  },
  {
   "cell_type": "code",
   "execution_count": 2,
   "id": "b3e6d387",
   "metadata": {},
   "outputs": [],
   "source": [
    "def parseArtistInfo(artist_num):\n",
    "    artist_info = {\"artist_num\": str(artist_num)}\n",
    "    #\n",
    "    artist_html = \"htmls/artists/{}.html\".format(artist_num)\n",
    "    with open(artist_html, \"r\") as f:\n",
    "        html = f.read()\n",
    "        \n",
    "    if \"존재하지 않는 아티스트 정보입니다\" in html:\n",
    "        return artist_info\n",
    "    #\n",
    "    soup = BeautifulSoup(html, \"lxml\")\n",
    "    #\n",
    "    artist_name = soup.find(\"meta\", attrs={\"property\": \"og:title\"})[\"content\"]\n",
    "    artist_info[\"이름\"] = artist_name\n",
    "    #\n",
    "    info_part_tags = soup.find_all(\"dl\", class_=\"list_define clfix\")\n",
    "    info_part_tag = [_ for _ in info_part_tags if \"유형\" in _.get_text()][0]\n",
    "    #info_part_tag = soup.find_all(\"dl\", class_=\"list_define clfix\")[-2]\n",
    "    \n",
    "    dt_list = info_part_tag.find_all(\"dt\")\n",
    "    dd_list = info_part_tag.find_all(\"dd\")\n",
    "    #\n",
    "    for dt, dd in zip(dt_list, dd_list):\n",
    "        key = dt.get_text(strip=True).strip()\n",
    "        val = dd.get_text(strip=True).strip()\n",
    "        artist_info[key] = val\n",
    "    #\n",
    "    return artist_info"
   ]
  },
  {
   "cell_type": "markdown",
   "id": "66fd6a44",
   "metadata": {},
   "source": [
    "### read all htmls list"
   ]
  },
  {
   "cell_type": "code",
   "execution_count": 3,
   "id": "e923aad7",
   "metadata": {},
   "outputs": [
    {
     "data": {
      "text/plain": [
       "29"
      ]
     },
     "execution_count": 3,
     "metadata": {},
     "output_type": "execute_result"
    }
   ],
   "source": [
    "artist_nums = [_.replace(\".html\", \"\") for _ in os.listdir(\"htmls/artists/\")]\n",
    "len(artist_nums)"
   ]
  },
  {
   "cell_type": "markdown",
   "id": "8999c439",
   "metadata": {},
   "source": [
    "### check alread parsed"
   ]
  },
  {
   "cell_type": "code",
   "execution_count": 5,
   "id": "214267a0",
   "metadata": {},
   "outputs": [
    {
     "name": "stdout",
     "output_type": "stream",
     "text": [
      "already: 2553\n"
     ]
    }
   ],
   "source": [
    "artist_info_file = \"artist_infos.jsonl\"\n",
    "with open(artist_info_file, \"r\", encoding='utf-8') as f:\n",
    "    lines = f.readlines()\n",
    "\n",
    "already = [json.loads(_)[\"artist_num\"] for _ in lines]\n",
    "print(\"already: {}\".format(len(already)))"
   ]
  },
  {
   "cell_type": "code",
   "execution_count": 6,
   "id": "f91f46bb",
   "metadata": {},
   "outputs": [
    {
     "name": "stdout",
     "output_type": "stream",
     "text": [
      "artist_nums to parse: 0\n"
     ]
    }
   ],
   "source": [
    "artist_nums = [_ for _ in artist_nums if _ not in already]\n",
    "print(\"artist_nums to parse: {}\".format(len(artist_nums)))"
   ]
  },
  {
   "cell_type": "markdown",
   "id": "aba8f5f3",
   "metadata": {},
   "source": [
    "### start parsing"
   ]
  },
  {
   "cell_type": "code",
   "execution_count": 7,
   "id": "182c4df0",
   "metadata": {},
   "outputs": [
    {
     "name": "stderr",
     "output_type": "stream",
     "text": [
      "0it [00:00, ?it/s]\n"
     ]
    }
   ],
   "source": [
    "artist_infos = []\n",
    "for artist_num in tqdm(artist_nums):\n",
    "    info = parseArtistInfo(artist_num)\n",
    "    artist_infos.append(info)"
   ]
  },
  {
   "cell_type": "code",
   "execution_count": 8,
   "id": "cf34b658",
   "metadata": {},
   "outputs": [
    {
     "ename": "IndexError",
     "evalue": "list index out of range",
     "output_type": "error",
     "traceback": [
      "\u001b[1;31m---------------------------------------------------------------------------\u001b[0m",
      "\u001b[1;31mIndexError\u001b[0m                                Traceback (most recent call last)",
      "Input \u001b[1;32mIn [8]\u001b[0m, in \u001b[0;36m<cell line: 1>\u001b[1;34m()\u001b[0m\n\u001b[1;32m----> 1\u001b[0m \u001b[43martist_infos\u001b[49m\u001b[43m[\u001b[49m\u001b[38;5;241;43m0\u001b[39;49m\u001b[43m]\u001b[49m\n",
      "\u001b[1;31mIndexError\u001b[0m: list index out of range"
     ]
    }
   ],
   "source": [
    "artist_infos[0]"
   ]
  },
  {
   "cell_type": "markdown",
   "id": "5e48b88f",
   "metadata": {},
   "source": [
    "### save"
   ]
  },
  {
   "cell_type": "code",
   "execution_count": 9,
   "id": "a93c9bbc",
   "metadata": {},
   "outputs": [
    {
     "name": "stderr",
     "output_type": "stream",
     "text": [
      "0it [00:00, ?it/s]\n"
     ]
    }
   ],
   "source": [
    "# 저장\n",
    "artist_info_file = \"artist_infos.jsonl\"\n",
    "with open(artist_info_file, \"a\") as of:\n",
    "    for line in tqdm(artist_infos):\n",
    "        print(json.dumps(line, ensure_ascii=False), file=of)"
   ]
  },
  {
   "cell_type": "code",
   "execution_count": null,
   "id": "f48cdaa8",
   "metadata": {},
   "outputs": [],
   "source": []
  },
  {
   "cell_type": "code",
   "execution_count": null,
   "id": "104ccf4d",
   "metadata": {},
   "outputs": [],
   "source": []
  },
  {
   "cell_type": "code",
   "execution_count": null,
   "id": "7182ab88",
   "metadata": {},
   "outputs": [],
   "source": []
  },
  {
   "cell_type": "markdown",
   "id": "62bd13cd",
   "metadata": {},
   "source": [
    "## Parse Songinfo"
   ]
  },
  {
   "cell_type": "markdown",
   "id": "3f126fb0",
   "metadata": {},
   "source": [
    "### def parser"
   ]
  },
  {
   "cell_type": "code",
   "execution_count": 10,
   "id": "0b2b817b",
   "metadata": {},
   "outputs": [],
   "source": [
    "def parseSongHtml(song_id):\n",
    "    #\n",
    "    song_info = {\"song_id\": song_id}\n",
    "    #\n",
    "    song_html = \"htmls/songs/{}.html\".format(song_id)\n",
    "    with open(song_html, \"r\", encoding='ut') as f:\n",
    "        html = f.read()\n",
    "        #\n",
    "    if \"존재하지 않는 곡 정보입니다.\" in html:\n",
    "        return song_info\n",
    "    #\n",
    "    soup = BeautifulSoup(html, \"lxml\")\n",
    "    #\n",
    "    #\n",
    "    sub_tag = soup.find(\"div\", class_=\"section_info\")\n",
    "    #\n",
    "    # song_name\n",
    "    song_name = list(sub_tag.find(\"div\", class_=\"song_name\").children)[-1].strip()\n",
    "    song_info[\"song_name\"] = song_name\n",
    "    #\n",
    "    # artist_name\n",
    "    #artist_name = sub_tag.find(\"div\", class_=\"artist\").get_text(strip=True)\n",
    "    artist_names = [_[\"title\"] for _ in sub_tag.find(\"div\", class_=\"artist\").find_all(\"a\", class_=\"artist_name\")]\n",
    "    artist_name = \" | \".join(artist_names)\n",
    "    song_info[\"artist_name\"] = artist_name\n",
    "    #\n",
    "    dt_list = sub_tag.find(\"div\", class_=\"meta\").find_all(\"dt\")\n",
    "    dd_list = sub_tag.find(\"div\", class_=\"meta\").find_all(\"dd\")\n",
    "\n",
    "    for dt, dd in zip(dt_list, dd_list):\n",
    "        key = dt.get_text(strip=True)\n",
    "        val = dd.get_text(strip=True)\n",
    "\n",
    "        if key == \"FLAC\":\n",
    "            continue\n",
    "        song_info[key]= val\n",
    "\n",
    "        if key == \"앨범\":\n",
    "            song_info[\"album_num\"] = dd.a[\"href\"].replace(\"javascript:melon.link.goAlbumDetail('\", \"\").replace(\"');\", \"\")\n",
    "    #\n",
    "    lyric_tag = soup.find(\"div\", class_=\"lyric\")\n",
    "    if not lyric_tag:\n",
    "        lyric = \"\"\n",
    "    else:\n",
    "        lyric = lyric_tag.get_text(separator=\"\\n\").strip()\n",
    "    song_info[\"lyric\"] = lyric\n",
    "    #\n",
    "    return song_info"
   ]
  },
  {
   "cell_type": "markdown",
   "id": "7964aec9",
   "metadata": {},
   "source": [
    "### read song html list"
   ]
  },
  {
   "cell_type": "code",
   "execution_count": 11,
   "id": "388d805a",
   "metadata": {
    "scrolled": true
   },
   "outputs": [
    {
     "data": {
      "text/plain": [
       "5140"
      ]
     },
     "execution_count": 11,
     "metadata": {},
     "output_type": "execute_result"
    }
   ],
   "source": [
    "song_nums = [_.replace(\".html\", \"\") for _ in os.listdir(\"htmls/songs/\")]\n",
    "song_nums = [_ for _ in song_nums if _.isdigit()]\n",
    "len(song_nums)"
   ]
  },
  {
   "cell_type": "markdown",
   "id": "a2d90410",
   "metadata": {},
   "source": [
    "### cheak already parsed"
   ]
  },
  {
   "cell_type": "code",
   "execution_count": 15,
   "id": "c6294d38",
   "metadata": {},
   "outputs": [
    {
     "name": "stdout",
     "output_type": "stream",
     "text": [
      "already: 14897\n"
     ]
    }
   ],
   "source": [
    "song_info_file = \"song_infos.jsonl\"\n",
    "try:\n",
    "    with open(song_info_file, \"r\", encoding='utf-8') as f:\n",
    "        lines = f.readlines()\n",
    "except:\n",
    "    lines = []\n",
    "\n",
    "already = [json.loads(_)[\"song_id\"] for _ in lines]\n",
    "print(\"already: {}\".format(len(already)))"
   ]
  },
  {
   "cell_type": "code",
   "execution_count": 16,
   "id": "ae2e3f96",
   "metadata": {},
   "outputs": [
    {
     "name": "stdout",
     "output_type": "stream",
     "text": [
      "song_nums to parse: 10\n"
     ]
    }
   ],
   "source": [
    "song_nums = [_ for _ in song_nums if _ not in already]\n",
    "print(\"song_nums to parse: {}\".format(len(song_nums)))"
   ]
  },
  {
   "cell_type": "markdown",
   "id": "ea8b9690",
   "metadata": {},
   "source": [
    "### start parsing"
   ]
  },
  {
   "cell_type": "code",
   "execution_count": 17,
   "id": "2cc8b9a4",
   "metadata": {},
   "outputs": [
    {
     "name": "stderr",
     "output_type": "stream",
     "text": [
      "  0%|          | 0/10 [00:00<?, ?it/s]\n"
     ]
    },
    {
     "ename": "AttributeError",
     "evalue": "'NoneType' object has no attribute 'find'",
     "output_type": "error",
     "traceback": [
      "\u001b[1;31m---------------------------------------------------------------------------\u001b[0m",
      "\u001b[1;31mAttributeError\u001b[0m                            Traceback (most recent call last)",
      "Input \u001b[1;32mIn [17]\u001b[0m, in \u001b[0;36m<cell line: 2>\u001b[1;34m()\u001b[0m\n\u001b[0;32m      1\u001b[0m song_infos \u001b[38;5;241m=\u001b[39m []\n\u001b[0;32m      2\u001b[0m \u001b[38;5;28;01mfor\u001b[39;00m song_id \u001b[38;5;129;01min\u001b[39;00m tqdm(song_nums):\n\u001b[1;32m----> 3\u001b[0m     info \u001b[38;5;241m=\u001b[39m \u001b[43mparseSongHtml\u001b[49m\u001b[43m(\u001b[49m\u001b[43msong_id\u001b[49m\u001b[43m)\u001b[49m\n\u001b[0;32m      4\u001b[0m     song_infos\u001b[38;5;241m.\u001b[39mappend(info)\n",
      "Input \u001b[1;32mIn [10]\u001b[0m, in \u001b[0;36mparseSongHtml\u001b[1;34m(song_id)\u001b[0m\n\u001b[0;32m     15\u001b[0m sub_tag \u001b[38;5;241m=\u001b[39m soup\u001b[38;5;241m.\u001b[39mfind(\u001b[38;5;124m\"\u001b[39m\u001b[38;5;124mdiv\u001b[39m\u001b[38;5;124m\"\u001b[39m, class_\u001b[38;5;241m=\u001b[39m\u001b[38;5;124m\"\u001b[39m\u001b[38;5;124msection_info\u001b[39m\u001b[38;5;124m\"\u001b[39m)\n\u001b[0;32m     16\u001b[0m \u001b[38;5;66;03m#\u001b[39;00m\n\u001b[0;32m     17\u001b[0m \u001b[38;5;66;03m# song_name\u001b[39;00m\n\u001b[1;32m---> 18\u001b[0m song_name \u001b[38;5;241m=\u001b[39m \u001b[38;5;28mlist\u001b[39m(\u001b[43msub_tag\u001b[49m\u001b[38;5;241;43m.\u001b[39;49m\u001b[43mfind\u001b[49m(\u001b[38;5;124m\"\u001b[39m\u001b[38;5;124mdiv\u001b[39m\u001b[38;5;124m\"\u001b[39m, class_\u001b[38;5;241m=\u001b[39m\u001b[38;5;124m\"\u001b[39m\u001b[38;5;124msong_name\u001b[39m\u001b[38;5;124m\"\u001b[39m)\u001b[38;5;241m.\u001b[39mchildren)[\u001b[38;5;241m-\u001b[39m\u001b[38;5;241m1\u001b[39m]\u001b[38;5;241m.\u001b[39mstrip()\n\u001b[0;32m     19\u001b[0m song_info[\u001b[38;5;124m\"\u001b[39m\u001b[38;5;124msong_name\u001b[39m\u001b[38;5;124m\"\u001b[39m] \u001b[38;5;241m=\u001b[39m song_name\n\u001b[0;32m     20\u001b[0m \u001b[38;5;66;03m#\u001b[39;00m\n\u001b[0;32m     21\u001b[0m \u001b[38;5;66;03m# artist_name\u001b[39;00m\n\u001b[0;32m     22\u001b[0m \u001b[38;5;66;03m#artist_name = sub_tag.find(\"div\", class_=\"artist\").get_text(strip=True)\u001b[39;00m\n",
      "\u001b[1;31mAttributeError\u001b[0m: 'NoneType' object has no attribute 'find'"
     ]
    }
   ],
   "source": [
    "song_infos = []\n",
    "for song_id in tqdm(song_nums):\n",
    "    info = parseSongHtml(song_id)\n",
    "    song_infos.append(info)"
   ]
  },
  {
   "cell_type": "code",
   "execution_count": 14,
   "id": "6015416e",
   "metadata": {},
   "outputs": [
    {
     "data": {
      "text/plain": [
       "{'song_id': '36441862',\n",
       " 'song_name': 'The Planet',\n",
       " 'artist_name': '방탄소년단',\n",
       " '앨범': 'The Planet',\n",
       " 'album_num': '11242802',\n",
       " '발매일': '2023.05.12',\n",
       " '장르': '댄스',\n",
       " 'lyric': 'We’ll get it done\\nWe’ll work as one\\nWe’ll get it done nah nah\\nWe’ll get it done\\nWe’ll work as one\\nWe’ll get it done nah nah\\n(Oh listen up)\\nWe’ll get it done\\nWe’ll work as one\\n(Come on everyone)\\nWe’ll get it done nah nah\\nWe’ll get it done\\n(We can do it yeah)\\nWe’ll work as one\\nWe’ll get it done\\nYou and I got the power\\n너와 나의 작은 별\\n지금 아파하고 있어\\n하늘은 자꾸 어두워져\\nBut you and I got the power\\n시곗바늘을 힘껏\\n잡아 너의 손에 꼭\\n자 돌아가 보자고\\nOh oh yeah\\n하늘까지 걸어가\\n까만 구름 위로 점프\\n(Don’t make it stop)\\n우리 함께 해볼까\\n‘Cause wherever you go, I’m goin’\\nAnd you know it\\n(Here we go)\\n잿빛 도시 멀리\\n여행을 떠나자\\n널 비추는 달빛을 따라\\nYou’re one in a million\\nSo let all your colors shine\\n(Colors shine)\\n밤하늘 깊이 춤을 추는\\n별들 따라 one two three\\n함께 떠나 저기 아득한 우주 멀리\\nYou’re one in a million\\nSo let all your colors shine\\n(Dance right, dance dance right)\\nWe’ll get it done\\nWe’ll work as one\\nWe’ll get it done nah nah\\nWe’ll get it done\\nWe’ll work as one\\nWe’ll get it done\\n저 파란 energy\\n이끌어내 더 높이\\n이 세곌 되돌릴 seven keys\\nWe singin’, we dancin’\\nYou could feel the air (listen up)\\n뭐든 할 수 있어 (work it up)\\n이미 알고 있어 (all the love)\\nLet’s rock the world\\n(if we want it we can have it)\\nWe’ll save this planet\\nWe love this planet\\n소중한 모든 걸\\n지키고 싶은 걸\\n꽃들 사이 날아가\\n초록 들판 위에 누워\\n(Don’t make it stop)\\n어떤 꿈을 꿔볼까\\n‘Cause wherever you go, I’m goin’\\nAnd you know it\\n(Here we go)\\n잿빛 도시 멀리\\n여행을 떠나자\\n널 비추는 달빛을 따라\\nYou’re one in a million\\nSo let all your colors shine\\n(Colors shine)\\n밤하늘 깊이 춤을 추는\\n별들 따라 one two three\\n함께 떠나 저기 아득한 우주 멀리\\nYou’re one in a million\\nSo let all your colors shine\\n(Dance right, dance dance right)\\nWe’ll get it done\\nWe’ll work as one\\nWe’ll get it done nah nah\\nWe’ll get it done\\nWe’ll work as one\\nWe’ll get it done nah nah\\nWe’ll get it done\\nWe’ll work as one\\nWe’ll get it done nah nah\\nWe’ll get it done\\nWe’ll work as one\\nWe’ll get it done'}"
      ]
     },
     "execution_count": 14,
     "metadata": {},
     "output_type": "execute_result"
    }
   ],
   "source": [
    "song_infos[-1]"
   ]
  },
  {
   "cell_type": "markdown",
   "id": "822dee5a",
   "metadata": {},
   "source": [
    "### save"
   ]
  },
  {
   "cell_type": "code",
   "execution_count": 15,
   "id": "23400e35",
   "metadata": {},
   "outputs": [
    {
     "name": "stderr",
     "output_type": "stream",
     "text": [
      "100%|█████████████████████████████████████████████████████████████| 6/6 [00:00<00:00, 10658.97it/s]\n"
     ]
    }
   ],
   "source": [
    "song_info_file = \"song_infos.jsonl\"\n",
    "with open(song_info_file, \"a\") as of:\n",
    "    for line in tqdm(song_infos):\n",
    "        print(json.dumps(line, ensure_ascii=False), file=of)"
   ]
  },
  {
   "cell_type": "code",
   "execution_count": null,
   "id": "bed46b10",
   "metadata": {},
   "outputs": [],
   "source": []
  },
  {
   "cell_type": "code",
   "execution_count": null,
   "id": "b4b8c54d",
   "metadata": {},
   "outputs": [],
   "source": []
  },
  {
   "cell_type": "code",
   "execution_count": null,
   "id": "1c0b85fe",
   "metadata": {},
   "outputs": [],
   "source": []
  },
  {
   "cell_type": "code",
   "execution_count": null,
   "id": "08a1c427",
   "metadata": {},
   "outputs": [],
   "source": []
  }
 ],
 "metadata": {
  "kernelspec": {
   "display_name": "Python 3 (ipykernel)",
   "language": "python",
   "name": "python3"
  },
  "language_info": {
   "codemirror_mode": {
    "name": "ipython",
    "version": 3
   },
   "file_extension": ".py",
   "mimetype": "text/x-python",
   "name": "python",
   "nbconvert_exporter": "python",
   "pygments_lexer": "ipython3",
   "version": "3.9.12"
  }
 },
 "nbformat": 4,
 "nbformat_minor": 5
}
