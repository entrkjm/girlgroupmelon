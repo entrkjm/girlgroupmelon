{
 "cells": [
  {
   "cell_type": "code",
   "execution_count": 1,
   "id": "0399ffe8",
   "metadata": {},
   "outputs": [],
   "source": [
    "import os\n",
    "import requests\n",
    "import time\n",
    "import json\n",
    "from tqdm import tqdm"
   ]
  },
  {
   "cell_type": "markdown",
   "id": "81d7b8af",
   "metadata": {},
   "source": [
    "## get artist ids"
   ]
  },
  {
   "cell_type": "code",
   "execution_count": 2,
   "id": "c89f3bbd",
   "metadata": {},
   "outputs": [
    {
     "name": "stdout",
     "output_type": "stream",
     "text": [
      "['2005.jsonl', '2006.jsonl', '2007.jsonl', '2008.jsonl', '2009.jsonl', '2010.jsonl', '2011.jsonl', '2012.jsonl', '2013.jsonl', '2014.jsonl', '2015.jsonl', '2016.jsonl', '2017.jsonl', '2018.jsonl', '2019.jsonl', '2020.jsonl', '2021.jsonl', '2022.jsonl', '2023.jsonl']\n"
     ]
    }
   ],
   "source": [
    "path = \"parsed_chart_html\"\n",
    "json_files = sorted(os.listdir(path))\n",
    "print(json_files)"
   ]
  },
  {
   "cell_type": "code",
   "execution_count": 4,
   "id": "fe5a6f98",
   "metadata": {
    "scrolled": true
   },
   "outputs": [
    {
     "name": "stderr",
     "output_type": "stream",
     "text": [
      "5141it [00:00, 67635.00it/s]\n",
      "5182it [00:00, 42781.67it/s]\n",
      "5200it [00:00, 46296.61it/s]\n",
      "5200it [00:00, 32822.74it/s]\n",
      "5299it [00:00, 40802.44it/s]\n",
      "5192it [00:00, 30792.89it/s]\n",
      "5184it [00:00, 25051.53it/s]\n",
      "5193it [00:00, 19942.46it/s]\n",
      "5200it [00:00, 18893.13it/s]\n",
      "5200it [00:00, 18882.38it/s]\n",
      "5300it [00:00, 16963.46it/s]\n",
      "5198it [00:00, 18226.12it/s]\n",
      "5200it [00:00, 20365.13it/s]\n",
      "5200it [00:00, 16638.63it/s]\n",
      "5200it [00:00, 13011.11it/s]\n",
      "5300it [00:00, 14743.99it/s]\n",
      "5200it [00:00, 12009.14it/s]\n",
      "5200it [00:00, 16043.26it/s]\n",
      "2200it [00:00, 15262.96it/s]"
     ]
    },
    {
     "name": "stdout",
     "output_type": "stream",
     "text": [
      "num artist ids:  2305\n"
     ]
    },
    {
     "name": "stderr",
     "output_type": "stream",
     "text": [
      "\n"
     ]
    }
   ],
   "source": [
    "artist_ids = set()\n",
    "for json_file in json_files:\n",
    "    #print(json_file)\n",
    "    with open(os.path.join(path, json_file), \"r\", encoding='utf-8') as f:\n",
    "        for line in tqdm(f):\n",
    "            doc = json.loads(line)\n",
    "            #print(doc)\n",
    "            artists = doc[\"artists\"]\n",
    "            artist_id_list = [_[0] for _ in artists]\n",
    "            artist_ids = artist_ids.union(artist_id_list)\n",
    "\n",
    "    \n",
    "print(\"num artist ids: \", len(artist_ids))"
   ]
  },
  {
   "cell_type": "code",
   "execution_count": 5,
   "id": "ab9f83f9",
   "metadata": {},
   "outputs": [],
   "source": [
    "artist_ids = sorted(artist_ids)"
   ]
  },
  {
   "cell_type": "markdown",
   "id": "2713ca68",
   "metadata": {},
   "source": [
    "## crawl artist ids"
   ]
  },
  {
   "cell_type": "code",
   "execution_count": 6,
   "id": "68859e4c",
   "metadata": {},
   "outputs": [],
   "source": [
    "def requestsHtml(url):\n",
    "    #\n",
    "    PROXY_IP = \"proxypool.daumsoft.com:7002\"\n",
    "    proxies = {\"http\": PROXY_IP, \"https\": PROXY_IP}\n",
    "    \n",
    "    user_agent = 'Mozilla/5.0 (Macintosh; Intel Mac OS X 10_15_7) AppleWebKit/537.36 (KHTML, like Gecko) Chrome/113.0.0.0 Safari/537.36'\n",
    "    headers = {\"User-Agent\": user_agent, \"Host\": \"www.melon.com\",\n",
    "              \"Cookie\": \"PCID=16847374038867242922976; PC_PCID=16847374038867242922976; POC=MP10; wcs_bt=s_f9c4bde066b:1684738153; _T_ANO=LN7+/1jYGuEk1pWeFf/8ws5/bdU0sBvkci0zB20oZjupLTvRok3l5dCviaJVCx9XAn8VrO3gzllm5G0oWjMpE5KMumb9bNDAviDSrJV7A5gp3nmb++/xZpPclNdvRFWh6VOEBUziQPGLhysNG3F3ZmFtpYuolLGVAj1qRtMG2dpQ4Tc7djgs/gDhPY0sGe77p7HCRdKzfha3wF9G5NnwWYXr0wD+9ZHxKnqHqrtTVEmEzxIbBAnnXTNl8Tm4ekHjlvmO5duev1gUgiC6KiOXYW0g9I7QldLTUnFkS9O8Yti5d+xw5Ec6DExLjyBJNNRP/N8jziBiPmn/2q36Yv3jig==\",\n",
    "              }\n",
    "    #resp = requests.get(url, headers=headers, proxies=proxies)\n",
    "    resp = requests.get(url, headers=headers) #, proxies=proxies)\n",
    "    #\n",
    "    return resp"
   ]
  },
  {
   "cell_type": "code",
   "execution_count": 7,
   "id": "22d2ffe1",
   "metadata": {},
   "outputs": [],
   "source": [
    "artist_html_path = \"htmls/artists\"\n",
    "file_names = os.listdir(artist_html_path)\n",
    "alread_crawled_artist_ids = set([_.replace(\".html\", \"\") for _ in file_names])\n",
    "\n",
    "# 이미 parse된 artist를 읽는다.\n",
    "try: \n",
    "    with open(\"artist_infos.jsonl\", \"r\", encoding='utf-8') as f:\n",
    "        lines = f.readlines()\n",
    "        docs = [json.loads(_) for _ in lines]\n",
    "        parsed_artist_ids = [_[\"artist_num\"] for _ in docs]\n",
    "except:\n",
    "    parsed_artist_ids = []"
   ]
  },
  {
   "cell_type": "code",
   "execution_count": 7,
   "id": "8abda8f1",
   "metadata": {},
   "outputs": [
    {
     "name": "stdout",
     "output_type": "stream",
     "text": [
      "artist_id nums: 2305\n",
      "already crawled: 895\n",
      "already parsed: 2520\n",
      "artist_ids to crawl: 33\n"
     ]
    }
   ],
   "source": [
    "print(\"artist_id nums: {}\".format(len(artist_ids)))\n",
    "print(\"already crawled: {}\".format(len(alread_crawled_artist_ids)))\n",
    "print(\"already parsed: {}\".format(len(parsed_artist_ids)))\n",
    "\n",
    "artist_ids = [_ for _ in artist_ids if _ not in alread_crawled_artist_ids and _ not in parsed_artist_ids]\n",
    "print(\"artist_ids to crawl: {}\".format(len(artist_ids)))"
   ]
  },
  {
   "cell_type": "code",
   "execution_count": 8,
   "id": "4b74ddb5",
   "metadata": {},
   "outputs": [
    {
     "name": "stderr",
     "output_type": "stream",
     "text": [
      "  1%|          | 21/2305 [00:46<1:25:05,  2.24s/it]\n"
     ]
    },
    {
     "ename": "KeyboardInterrupt",
     "evalue": "",
     "output_type": "error",
     "traceback": [
      "\u001b[1;31m---------------------------------------------------------------------------\u001b[0m",
      "\u001b[1;31mKeyboardInterrupt\u001b[0m                         Traceback (most recent call last)",
      "Input \u001b[1;32mIn [8]\u001b[0m, in \u001b[0;36m<cell line: 1>\u001b[1;34m()\u001b[0m\n\u001b[0;32m     14\u001b[0m     \u001b[38;5;28mprint\u001b[39m(resp\u001b[38;5;241m.\u001b[39mtext, file\u001b[38;5;241m=\u001b[39mof)\n\u001b[0;32m     16\u001b[0m \u001b[38;5;66;03m# 2초이상 쉬어야 끊기지 않는다.\u001b[39;00m\n\u001b[1;32m---> 17\u001b[0m \u001b[43mtime\u001b[49m\u001b[38;5;241;43m.\u001b[39;49m\u001b[43msleep\u001b[49m\u001b[43m(\u001b[49m\u001b[38;5;241;43m2\u001b[39;49m\u001b[43m)\u001b[49m\n",
      "\u001b[1;31mKeyboardInterrupt\u001b[0m: "
     ]
    }
   ],
   "source": [
    "for artist_id in tqdm(artist_ids):\n",
    "    # https://www.melon.com/artist/timeline.htm?artistId=1034\n",
    "    url = \"https://www.melon.com/artist/detail.htm?artistId={}\".format(artist_id)\n",
    "    resp = requestsHtml(url)\n",
    "    \n",
    "    \n",
    "    if \"잘못된 경로로 접근\" in resp.text:\n",
    "        print(\"잘못된 경로\", artist_id)\n",
    "        time.sleep(2)\n",
    "        continue\n",
    "        \n",
    "    #\n",
    "    with open(os.path.join(artist_html_path, \"{}.html\".format(artist_id)), \"w\", encoding='utf-8') as of:\n",
    "        print(resp.text, file=of)\n",
    "        \n",
    "    # 2초이상 쉬어야 끊기지 않는다.\n",
    "    time.sleep(2)"
   ]
  },
  {
   "cell_type": "code",
   "execution_count": null,
   "id": "65556a91",
   "metadata": {},
   "outputs": [],
   "source": []
  },
  {
   "cell_type": "code",
   "execution_count": null,
   "id": "48f31f29",
   "metadata": {},
   "outputs": [],
   "source": []
  }
 ],
 "metadata": {
  "kernelspec": {
   "display_name": "Python 3 (tm4pz)",
   "language": "python",
   "name": "tm4pz"
  },
  "language_info": {
   "codemirror_mode": {
    "name": "ipython",
    "version": 3
   },
   "file_extension": ".py",
   "mimetype": "text/x-python",
   "name": "python",
   "nbconvert_exporter": "python",
   "pygments_lexer": "ipython3",
   "version": "3.9.12"
  }
 },
 "nbformat": 4,
 "nbformat_minor": 5
}
