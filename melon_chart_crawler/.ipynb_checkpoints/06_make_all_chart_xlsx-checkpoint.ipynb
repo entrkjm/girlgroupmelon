{
 "cells": [
  {
   "cell_type": "markdown",
   "id": "5c58d424",
   "metadata": {},
   "source": [
    "## 전체 기간에 대한 최종 xlsx를 만든다."
   ]
  },
  {
   "cell_type": "code",
   "execution_count": 12,
   "id": "8ab4949a",
   "metadata": {
    "ExecuteTime": {
     "end_time": "2024-01-14T10:25:38.055510Z",
     "start_time": "2024-01-14T10:25:38.042509Z"
    }
   },
   "outputs": [],
   "source": [
    "import os\n",
    "import json\n",
    "import pandas as pd\n",
    "from tqdm import tqdm"
   ]
  },
  {
   "cell_type": "markdown",
   "id": "bdc66b19",
   "metadata": {},
   "source": [
    "## read song_infos"
   ]
  },
  {
   "cell_type": "code",
   "execution_count": 13,
   "id": "91eb6860",
   "metadata": {
    "ExecuteTime": {
     "end_time": "2024-01-14T10:25:40.400038Z",
     "start_time": "2024-01-14T10:25:40.067967Z"
    },
    "scrolled": true
   },
   "outputs": [
    {
     "data": {
      "text/plain": [
       "{'song_id': '34808761',\n",
       " 'song_name': '너를 위한 단어 (It’s Yours)',\n",
       " 'artist_name': 'NCT DREAM',\n",
       " '앨범': 'Glitch Mode - The 2nd Album',\n",
       " 'album_num': '10901349',\n",
       " '발매일': '2022.03.28',\n",
       " '장르': 'R&B/Soul',\n",
       " 'lyric': \"Girl 널 닮은 단어가 참 많아\\n내 하루 속에\\n몇 번씩 스치듯 널 만나\\n어제 읽은 책\\n또 좀 전에 같이 본 Romance 영화\\nMy favorite song 모두 네가 있어\\n \\n넌 내게 멋진 여왕이 돼\\n어둠에 빠진 나를 구해\\n가끔씩은 슬픈 영웅이 돼\\n빛이 나 oh\\n밤 하늘 아래 별들 같아\\n푸른 숲속의 향기 같아\\n다 너의 수식어 yeah yeah\\n너로 가득 차 있는\\n나의 세상 속 oh oh\\n난 지금 노래 가사로\\n너를 얘기하고 oh oh\\n머릿속에 춤추는 멋진 말\\nIt's yours It's yours It's yours\\n(yeah It's yours 널 위한 것)\\n \\nSay yeah yeah yeah yeah\\nCause you’re my word\\n그 어떤 말이 너만큼 많이 빛날까\\nIt's yours It's yours It's yours\\n모두 다 주고 싶어\\nGirl 유치한 생각이 넘쳐나\\n주인공은 You \\n난 온갖 시를 써 Up all night\\noh 눈 감고 누우면\\n머릿속에 네가 떠다니고\\n내일 무슨 말로\\n웃게 할지 고민만 해\\n알아 솔직히 It’s crazy oh\\n남기고 싶어 모든 곳에\\n어떤 말보다 아름답게\\n보고 계속 봐도 보고 싶게\\n널 말이야 ooh\\n뭘로 써봐도 난 부족해\\n모든 언어로 남겨둘래\\n다 너의 수식어 yeah yeah\\n너로 가득 차 있는\\n나의 세상 속 oh oh\\n난 지금 노래 가사로\\n너를 얘기하고 oh oh\\n머릿속에 춤추는 멋진 말\\nIt's yours It's yours It's yours\\n(yeah It's yours 널 위한 것)\\nSay yeah yeah yeah yeah\\nCause you’re my word\\n그 어떤 말이 너만큼 많이 빛날까\\nIt's yours It's yours It's yours\\n모두 다 주고 싶어\\nuh 다가가 널 향해서 가까이\\n굳이 돌아갈 필요는 없으니 ay\\n내가 고민하는 것들은\\n모두 전부 For you\\nuh girl you know you have my word\\nbut 내 행동이 더 확실하지\\nI’m at your door 기다리며 생각해\\n한 단어만으론 널\\n표현하기 어려운 걸\\n세상에 가장 멋진\\n그 단어들로 널 채워 줄래\\nSay yeah yeah yeah yeah\\nCause you’re my word\\n그 어떤 말이 너만큼 많이 빛날까\\nIt's yours It's yours It's yours\\n모두 다 주고 싶어\\nIt's yours girl\\nyeah you know\"}"
      ]
     },
     "execution_count": 13,
     "metadata": {},
     "output_type": "execute_result"
    }
   ],
   "source": [
    "song_info_file = \"song_infos.jsonl\"\n",
    "with open(song_info_file, \"r\", encoding='utf-8') as f:\n",
    "    lines = f.readlines()\n",
    "    \n",
    "song_infos = [json.loads(_) for _ in lines]\n",
    "song_infos = {_[\"song_id\"]:_ for _ in song_infos }\n",
    "song_infos[\"34808761\"]"
   ]
  },
  {
   "cell_type": "markdown",
   "id": "6dd47ac2",
   "metadata": {},
   "source": [
    "## read artist_info file"
   ]
  },
  {
   "cell_type": "code",
   "execution_count": 14,
   "id": "eb500539",
   "metadata": {
    "ExecuteTime": {
     "end_time": "2024-01-14T10:25:42.737565Z",
     "start_time": "2024-01-14T10:25:42.707569Z"
    }
   },
   "outputs": [
    {
     "data": {
      "text/plain": [
       "{'artist_num': '2636017',\n",
       " '이름': 'PRODUCE X 101',\n",
       " '활동년대': '2010 년대',\n",
       " '유형': '그룹|남성',\n",
       " '장르': '댄스, 발라드',\n",
       " '소속사명': 'CJ E&M'}"
      ]
     },
     "execution_count": 14,
     "metadata": {},
     "output_type": "execute_result"
    }
   ],
   "source": [
    "artist_info_file = \"artist_infos.jsonl\"\n",
    "with open(artist_info_file, \"r\", encoding='utf-8') as f:\n",
    "    lines = f.readlines()\n",
    "    artist_infos = [json.loads(_) for _ in lines]\n",
    "    \n",
    "artist_infos = {_[\"artist_num\"]: _ for _ in artist_infos}\n",
    "artist_infos[\"2636017\"]"
   ]
  },
  {
   "cell_type": "markdown",
   "id": "496a230d",
   "metadata": {},
   "source": [
    "## read chart data"
   ]
  },
  {
   "cell_type": "code",
   "execution_count": 15,
   "id": "ea81633d",
   "metadata": {
    "ExecuteTime": {
     "end_time": "2024-01-14T10:25:44.647996Z",
     "start_time": "2024-01-14T10:25:44.633993Z"
    }
   },
   "outputs": [],
   "source": [
    "parsed_chart_path = \"parsed_chart_html\"\n",
    "jsonl_files = os.listdir(parsed_chart_path)\n",
    "jsonl_files = [_ for _ in sorted(jsonl_files) if _.endswith(\"jsonl\")]"
   ]
  },
  {
   "cell_type": "code",
   "execution_count": 16,
   "id": "327c79f3",
   "metadata": {
    "ExecuteTime": {
     "end_time": "2024-01-14T10:25:47.890741Z",
     "start_time": "2024-01-14T10:25:46.537420Z"
    }
   },
   "outputs": [],
   "source": [
    "chart_data = []\n",
    "for jsonl_file in jsonl_files:\n",
    "    with open(os.path.join(parsed_chart_path, jsonl_file), \"r\", encoding='utf-8') as f:\n",
    "        lines = f.readlines()\n",
    "        docs = [json.loads(_) for _ in lines]\n",
    "    chart_data.extend(docs)"
   ]
  },
  {
   "cell_type": "code",
   "execution_count": 17,
   "id": "308c7b4e",
   "metadata": {
    "ExecuteTime": {
     "end_time": "2024-01-14T10:25:49.895178Z",
     "start_time": "2024-01-14T10:25:49.881176Z"
    }
   },
   "outputs": [
    {
     "data": {
      "text/plain": [
       "98989"
      ]
     },
     "execution_count": 17,
     "metadata": {},
     "output_type": "execute_result"
    }
   ],
   "source": [
    "len(chart_data)"
   ]
  },
  {
   "cell_type": "code",
   "execution_count": 18,
   "id": "971df35f",
   "metadata": {
    "ExecuteTime": {
     "end_time": "2024-01-14T10:25:51.918633Z",
     "start_time": "2024-01-14T10:25:51.905633Z"
    }
   },
   "outputs": [
    {
     "data": {
      "text/plain": [
       "{'ranking': '11',\n",
       " 'title_num': '985474',\n",
       " 'title_name': '그래도 살아가겠지',\n",
       " 'album_num': '309078',\n",
       " 'album_name': 'The Very First',\n",
       " 'artists': [['174997', '가비엔제이']],\n",
       " 'yearweek': '200547',\n",
       " 'period': '20051121-20051127'}"
      ]
     },
     "execution_count": 18,
     "metadata": {},
     "output_type": "execute_result"
    }
   ],
   "source": [
    "chart_data[4555]"
   ]
  },
  {
   "cell_type": "markdown",
   "id": "338eb717",
   "metadata": {},
   "source": [
    "## merge table"
   ]
  },
  {
   "cell_type": "code",
   "execution_count": 19,
   "id": "a52b19f4",
   "metadata": {
    "ExecuteTime": {
     "end_time": "2024-01-14T10:25:54.383196Z",
     "start_time": "2024-01-14T10:25:53.937097Z"
    }
   },
   "outputs": [
    {
     "name": "stderr",
     "output_type": "stream",
     "text": [
      "100%|██████████| 98989/98989 [00:00<00:00, 258400.85it/s]\n"
     ]
    }
   ],
   "source": [
    "lasts = []\n",
    "for line in tqdm(chart_data):\n",
    "    num_artists = len(line[\"artists\"])\n",
    "    if num_artists > 1:\n",
    "        artist_activity_type = \"프로젝트\"\n",
    "        artist_id = \"|\".join([_[0] for _ in line[\"artists\"]])\n",
    "        artist_name = \"|\".join([_[1] for _ in line[\"artists\"]])\n",
    "    elif num_artists == 0:\n",
    "        artist_activity_type = \"\"\n",
    "        artist_id = \"\"\n",
    "        artist_name = \"\"\n",
    "    else:\n",
    "        artist_id = line[\"artists\"][0][0]\n",
    "        artist_name = line[\"artists\"][0][1]\n",
    "        artist_activity_type = artist_infos.get(artist_id, {}).get(\"유형\", \"\")\n",
    "\n",
    "    song_id = line[\"title_num\"]\n",
    "    song_genre = song_infos.get(song_id, {}).get(\"장르\", \"\")\n",
    "\n",
    "    last = {}\n",
    "    last[\"yearweek\"] = line[\"yearweek\"]\n",
    "    last[\"period\"] = line[\"period\"]\n",
    "    last[\"ranking\"] = line[\"ranking\"]\n",
    "    last[\"song_id\"] = line[\"title_num\"]\n",
    "    last[\"song_name\"] = line[\"title_name\"]\n",
    "    last[\"song_genre\"] = song_genre\n",
    "    \n",
    "    last[\"artist_id\"] = artist_id\n",
    "    last[\"artist_name\"] = artist_name\n",
    "    last[\"artist_activity_type\"] = artist_activity_type\n",
    "    \n",
    "    last[\"album_id\"] = line[\"album_num\"]\n",
    "    last[\"album_name\"] = line[\"album_name\"]\n",
    "        \n",
    "    lasts.append(last)\n"
   ]
  },
  {
   "cell_type": "code",
   "execution_count": 20,
   "id": "2c641af3",
   "metadata": {
    "ExecuteTime": {
     "end_time": "2024-01-14T10:25:56.389640Z",
     "start_time": "2024-01-14T10:25:56.375637Z"
    }
   },
   "outputs": [
    {
     "data": {
      "text/plain": [
       "{'yearweek': '202352',\n",
       " 'period': '20231225-20231231',\n",
       " 'ranking': '1',\n",
       " 'song_id': '36910957',\n",
       " 'song_name': 'Perfect Night',\n",
       " 'song_genre': '',\n",
       " 'artist_id': '3092950',\n",
       " 'artist_name': 'LE SSERAFIM (르세라핌)',\n",
       " 'artist_activity_type': '그룹|여성',\n",
       " 'album_id': '11352904',\n",
       " 'album_name': 'Perfect Night'}"
      ]
     },
     "execution_count": 20,
     "metadata": {},
     "output_type": "execute_result"
    }
   ],
   "source": [
    "lasts[-100]"
   ]
  },
  {
   "cell_type": "markdown",
   "id": "5622c92d",
   "metadata": {},
   "source": [
    "## make pandas df"
   ]
  },
  {
   "cell_type": "code",
   "execution_count": 21,
   "id": "af38cc49",
   "metadata": {
    "ExecuteTime": {
     "end_time": "2024-01-14T10:25:58.734170Z",
     "start_time": "2024-01-14T10:25:58.403095Z"
    }
   },
   "outputs": [],
   "source": [
    "df = pd.DataFrame(lasts)"
   ]
  },
  {
   "cell_type": "code",
   "execution_count": 22,
   "id": "3f9ee19e",
   "metadata": {
    "ExecuteTime": {
     "end_time": "2024-01-14T10:26:00.771628Z",
     "start_time": "2024-01-14T10:26:00.756625Z"
    }
   },
   "outputs": [
    {
     "data": {
      "text/html": [
       "<div>\n",
       "<style scoped>\n",
       "    .dataframe tbody tr th:only-of-type {\n",
       "        vertical-align: middle;\n",
       "    }\n",
       "\n",
       "    .dataframe tbody tr th {\n",
       "        vertical-align: top;\n",
       "    }\n",
       "\n",
       "    .dataframe thead th {\n",
       "        text-align: right;\n",
       "    }\n",
       "</style>\n",
       "<table border=\"1\" class=\"dataframe\">\n",
       "  <thead>\n",
       "    <tr style=\"text-align: right;\">\n",
       "      <th></th>\n",
       "      <th>yearweek</th>\n",
       "      <th>period</th>\n",
       "      <th>ranking</th>\n",
       "      <th>song_id</th>\n",
       "      <th>song_name</th>\n",
       "      <th>song_genre</th>\n",
       "      <th>artist_id</th>\n",
       "      <th>artist_name</th>\n",
       "      <th>artist_activity_type</th>\n",
       "      <th>album_id</th>\n",
       "      <th>album_name</th>\n",
       "    </tr>\n",
       "  </thead>\n",
       "  <tbody>\n",
       "    <tr>\n",
       "      <th>0</th>\n",
       "      <td>200501</td>\n",
       "      <td>20050103-20050109</td>\n",
       "      <td>1</td>\n",
       "      <td>623250</td>\n",
       "      <td>보통날</td>\n",
       "      <td>발라드</td>\n",
       "      <td>100007</td>\n",
       "      <td>god</td>\n",
       "      <td>그룹|남성</td>\n",
       "      <td>43691</td>\n",
       "      <td>보통날</td>\n",
       "    </tr>\n",
       "    <tr>\n",
       "      <th>1</th>\n",
       "      <td>200501</td>\n",
       "      <td>20050103-20050109</td>\n",
       "      <td>2</td>\n",
       "      <td>631232</td>\n",
       "      <td>둘이서 (CF - 빙그레 '바나나맛 우유')</td>\n",
       "      <td>댄스</td>\n",
       "      <td>41894</td>\n",
       "      <td>채연</td>\n",
       "      <td>솔로|여성</td>\n",
       "      <td>44462</td>\n",
       "      <td>Virginalness Bloom</td>\n",
       "    </tr>\n",
       "    <tr>\n",
       "      <th>2</th>\n",
       "      <td>200501</td>\n",
       "      <td>20050103-20050109</td>\n",
       "      <td>3</td>\n",
       "      <td>642420</td>\n",
       "      <td>겨울일기</td>\n",
       "      <td>발라드</td>\n",
       "      <td>10575</td>\n",
       "      <td>장나라</td>\n",
       "      <td>솔로|여성</td>\n",
       "      <td>45305</td>\n",
       "      <td>나의 이야기</td>\n",
       "    </tr>\n",
       "    <tr>\n",
       "      <th>3</th>\n",
       "      <td>200501</td>\n",
       "      <td>20050103-20050109</td>\n",
       "      <td>4</td>\n",
       "      <td>623157</td>\n",
       "      <td>빙고</td>\n",
       "      <td>댄스</td>\n",
       "      <td>100022</td>\n",
       "      <td>코요태</td>\n",
       "      <td>그룹|혼성</td>\n",
       "      <td>43648</td>\n",
       "      <td>Rainbow 7집</td>\n",
       "    </tr>\n",
       "    <tr>\n",
       "      <th>4</th>\n",
       "      <td>200501</td>\n",
       "      <td>20050103-20050109</td>\n",
       "      <td>5</td>\n",
       "      <td>622912</td>\n",
       "      <td>헤어지자고 (MBC 슬픈연가 삽입곡)</td>\n",
       "      <td>발라드</td>\n",
       "      <td>14801</td>\n",
       "      <td>윤건</td>\n",
       "      <td>솔로|남성</td>\n",
       "      <td>43532</td>\n",
       "      <td>Now Is.. 2집</td>\n",
       "    </tr>\n",
       "    <tr>\n",
       "      <th>...</th>\n",
       "      <td>...</td>\n",
       "      <td>...</td>\n",
       "      <td>...</td>\n",
       "      <td>...</td>\n",
       "      <td>...</td>\n",
       "      <td>...</td>\n",
       "      <td>...</td>\n",
       "      <td>...</td>\n",
       "      <td>...</td>\n",
       "      <td>...</td>\n",
       "      <td>...</td>\n",
       "    </tr>\n",
       "    <tr>\n",
       "      <th>98984</th>\n",
       "      <td>202352</td>\n",
       "      <td>20231225-20231231</td>\n",
       "      <td>96</td>\n",
       "      <td>418168</td>\n",
       "      <td>희재</td>\n",
       "      <td>발라드, 국내영화</td>\n",
       "      <td>3305</td>\n",
       "      <td>성시경</td>\n",
       "      <td>솔로|남성</td>\n",
       "      <td>28985</td>\n",
       "      <td>국화꽃 향기 OST</td>\n",
       "    </tr>\n",
       "    <tr>\n",
       "      <th>98985</th>\n",
       "      <td>202352</td>\n",
       "      <td>20231225-20231231</td>\n",
       "      <td>97</td>\n",
       "      <td>36105548</td>\n",
       "      <td>Teddy Bear</td>\n",
       "      <td>댄스</td>\n",
       "      <td>2899290</td>\n",
       "      <td>STAYC(스테이씨)</td>\n",
       "      <td>그룹|여성</td>\n",
       "      <td>11165170</td>\n",
       "      <td>Teddy Bear</td>\n",
       "    </tr>\n",
       "    <tr>\n",
       "      <th>98986</th>\n",
       "      <td>202352</td>\n",
       "      <td>20231225-20231231</td>\n",
       "      <td>98</td>\n",
       "      <td>37065199</td>\n",
       "      <td>Stay With Me (Feat. Skinny Brown)</td>\n",
       "      <td></td>\n",
       "      <td>2112495</td>\n",
       "      <td>ASH ISLAND</td>\n",
       "      <td>솔로|남성</td>\n",
       "      <td>11385652</td>\n",
       "      <td>Stay With Me</td>\n",
       "    </tr>\n",
       "    <tr>\n",
       "      <th>98987</th>\n",
       "      <td>202352</td>\n",
       "      <td>20231225-20231231</td>\n",
       "      <td>99</td>\n",
       "      <td>31927275</td>\n",
       "      <td>한 페이지가 될 수 있게</td>\n",
       "      <td>록/메탈</td>\n",
       "      <td>894864</td>\n",
       "      <td>DAY6 (데이식스)</td>\n",
       "      <td>그룹|남성</td>\n",
       "      <td>10307346</td>\n",
       "      <td>The Book of Us : Gravity</td>\n",
       "    </tr>\n",
       "    <tr>\n",
       "      <th>98988</th>\n",
       "      <td>202352</td>\n",
       "      <td>20231225-20231231</td>\n",
       "      <td>100</td>\n",
       "      <td>36903571</td>\n",
       "      <td>이쁜 여자가 좋더라 (Feat. Gist, Jayci yucca)</td>\n",
       "      <td></td>\n",
       "      <td>967229</td>\n",
       "      <td>릴러말즈 (Leellamarz)</td>\n",
       "      <td>솔로|남성</td>\n",
       "      <td>11351539</td>\n",
       "      <td>인생은 한번이야</td>\n",
       "    </tr>\n",
       "  </tbody>\n",
       "</table>\n",
       "<p>98989 rows × 11 columns</p>\n",
       "</div>"
      ],
      "text/plain": [
       "      yearweek             period ranking   song_id  \\\n",
       "0       200501  20050103-20050109       1    623250   \n",
       "1       200501  20050103-20050109       2    631232   \n",
       "2       200501  20050103-20050109       3    642420   \n",
       "3       200501  20050103-20050109       4    623157   \n",
       "4       200501  20050103-20050109       5    622912   \n",
       "...        ...                ...     ...       ...   \n",
       "98984   202352  20231225-20231231      96    418168   \n",
       "98985   202352  20231225-20231231      97  36105548   \n",
       "98986   202352  20231225-20231231      98  37065199   \n",
       "98987   202352  20231225-20231231      99  31927275   \n",
       "98988   202352  20231225-20231231     100  36903571   \n",
       "\n",
       "                                  song_name song_genre artist_id  \\\n",
       "0                                       보통날        발라드    100007   \n",
       "1                  둘이서 (CF - 빙그레 '바나나맛 우유')         댄스     41894   \n",
       "2                                      겨울일기        발라드     10575   \n",
       "3                                        빙고         댄스    100022   \n",
       "4                      헤어지자고 (MBC 슬픈연가 삽입곡)        발라드     14801   \n",
       "...                                     ...        ...       ...   \n",
       "98984                                    희재  발라드, 국내영화      3305   \n",
       "98985                            Teddy Bear         댄스   2899290   \n",
       "98986     Stay With Me (Feat. Skinny Brown)              2112495   \n",
       "98987                         한 페이지가 될 수 있게       록/메탈    894864   \n",
       "98988  이쁜 여자가 좋더라 (Feat. Gist, Jayci yucca)               967229   \n",
       "\n",
       "             artist_name artist_activity_type  album_id  \\\n",
       "0                    god                그룹|남성     43691   \n",
       "1                     채연                솔로|여성     44462   \n",
       "2                    장나라                솔로|여성     45305   \n",
       "3                    코요태                그룹|혼성     43648   \n",
       "4                     윤건                솔로|남성     43532   \n",
       "...                  ...                  ...       ...   \n",
       "98984                성시경                솔로|남성     28985   \n",
       "98985        STAYC(스테이씨)                그룹|여성  11165170   \n",
       "98986         ASH ISLAND                솔로|남성  11385652   \n",
       "98987        DAY6 (데이식스)                그룹|남성  10307346   \n",
       "98988  릴러말즈 (Leellamarz)                솔로|남성  11351539   \n",
       "\n",
       "                     album_name  \n",
       "0                           보통날  \n",
       "1            Virginalness Bloom  \n",
       "2                        나의 이야기  \n",
       "3                    Rainbow 7집  \n",
       "4                   Now Is.. 2집  \n",
       "...                         ...  \n",
       "98984                국화꽃 향기 OST  \n",
       "98985                Teddy Bear  \n",
       "98986              Stay With Me  \n",
       "98987  The Book of Us : Gravity  \n",
       "98988                  인생은 한번이야  \n",
       "\n",
       "[98989 rows x 11 columns]"
      ]
     },
     "execution_count": 22,
     "metadata": {},
     "output_type": "execute_result"
    }
   ],
   "source": [
    "df"
   ]
  },
  {
   "cell_type": "code",
   "execution_count": 23,
   "id": "0e1b1b36",
   "metadata": {
    "ExecuteTime": {
     "end_time": "2024-01-14T10:26:32.101538Z",
     "start_time": "2024-01-14T10:26:02.837096Z"
    }
   },
   "outputs": [],
   "source": [
    "df.to_excel(\"melon_weekly_top100_200501-202352.xlsx\", index=False, engine=\"openpyxl\")"
   ]
  },
  {
   "cell_type": "code",
   "execution_count": null,
   "id": "278432c4",
   "metadata": {},
   "outputs": [],
   "source": []
  }
 ],
 "metadata": {
  "hide_input": false,
  "kernelspec": {
   "display_name": "Python 3",
   "language": "python",
   "name": "python3"
  },
  "language_info": {
   "codemirror_mode": {
    "name": "ipython",
    "version": 3
   },
   "file_extension": ".py",
   "mimetype": "text/x-python",
   "name": "python",
   "nbconvert_exporter": "python",
   "pygments_lexer": "ipython3",
   "version": "3.8.8"
  },
  "toc": {
   "base_numbering": 1,
   "nav_menu": {},
   "number_sections": true,
   "sideBar": true,
   "skip_h1_title": false,
   "title_cell": "Table of Contents",
   "title_sidebar": "Contents",
   "toc_cell": false,
   "toc_position": {},
   "toc_section_display": true,
   "toc_window_display": false
  },
  "varInspector": {
   "cols": {
    "lenName": 16,
    "lenType": 16,
    "lenVar": 40
   },
   "kernels_config": {
    "python": {
     "delete_cmd_postfix": "",
     "delete_cmd_prefix": "del ",
     "library": "var_list.py",
     "varRefreshCmd": "print(var_dic_list())"
    },
    "r": {
     "delete_cmd_postfix": ") ",
     "delete_cmd_prefix": "rm(",
     "library": "var_list.r",
     "varRefreshCmd": "cat(var_dic_list()) "
    }
   },
   "types_to_exclude": [
    "module",
    "function",
    "builtin_function_or_method",
    "instance",
    "_Feature"
   ],
   "window_display": false
  }
 },
 "nbformat": 4,
 "nbformat_minor": 5
}
