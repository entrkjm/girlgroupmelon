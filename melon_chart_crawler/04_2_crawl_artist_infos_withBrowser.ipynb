{
 "cells": [
  {
   "cell_type": "code",
   "execution_count": 1,
   "id": "b6c5cb34",
   "metadata": {},
   "outputs": [],
   "source": [
    "import os\n",
    "import requests\n",
    "import time\n",
    "import json\n",
    "from tqdm import tqdm\n",
    "from selenium import webdriver\n",
    "from webdriver_manager.chrome import ChromeDriverManager"
   ]
  },
  {
   "cell_type": "markdown",
   "id": "42d6b519",
   "metadata": {},
   "source": [
    "## get artist ids"
   ]
  },
  {
   "cell_type": "code",
   "execution_count": 2,
   "id": "0f20f13b",
   "metadata": {},
   "outputs": [
    {
     "name": "stdout",
     "output_type": "stream",
     "text": [
      "['2005.jsonl', '2006.jsonl', '2007.jsonl', '2008.jsonl', '2009.jsonl', '2010.jsonl', '2011.jsonl', '2012.jsonl', '2013.jsonl', '2014.jsonl', '2015.jsonl', '2016.jsonl', '2017.jsonl', '2018.jsonl', '2019.jsonl', '2020.jsonl', '2021.jsonl', '2022.jsonl', '2023.jsonl']\n"
     ]
    }
   ],
   "source": [
    "path = \"parsed_chart_html\"\n",
    "json_files = sorted(os.listdir(path))\n",
    "print(json_files)"
   ]
  },
  {
   "cell_type": "code",
   "execution_count": 26,
   "id": "bc066d4b",
   "metadata": {
    "scrolled": true
   },
   "outputs": [
    {
     "name": "stderr",
     "output_type": "stream",
     "text": [
      "5141it [00:00, 108604.68it/s]\n",
      "5182it [00:00, 103194.77it/s]\n",
      "5200it [00:00, 74421.90it/s]\n",
      "5200it [00:00, 64967.53it/s]\n",
      "5299it [00:00, 50461.50it/s]\n",
      "5192it [00:00, 40166.79it/s]\n",
      "5184it [00:00, 38192.93it/s]\n",
      "5193it [00:00, 35484.44it/s]\n",
      "5200it [00:00, 40812.76it/s]\n",
      "5200it [00:00, 38613.52it/s]\n",
      "5300it [00:00, 35028.15it/s]\n",
      "5198it [00:00, 39904.15it/s]\n",
      "5200it [00:00, 38013.87it/s]\n",
      "5200it [00:00, 22693.76it/s]\n",
      "5200it [00:00, 21541.99it/s]\n",
      "5300it [00:00, 19217.74it/s]\n",
      "5200it [00:00, 18996.67it/s]\n",
      "5200it [00:00, 20145.81it/s]\n",
      "2000it [00:00, 21304.02it/s]"
     ]
    },
    {
     "name": "stdout",
     "output_type": "stream",
     "text": [
      "num artist ids:  2305\n"
     ]
    },
    {
     "name": "stderr",
     "output_type": "stream",
     "text": [
      "\n"
     ]
    }
   ],
   "source": [
    "artist_ids = set()\n",
    "for json_file in json_files:\n",
    "    #print(json_file)\n",
    "    with open(os.path.join(path, json_file), \"r\") as f:\n",
    "        for line in tqdm(f):\n",
    "            doc = json.loads(line)\n",
    "            #print(doc)\n",
    "            artists = doc[\"artists\"]\n",
    "            artist_id_list = [_[0] for _ in artists]\n",
    "            artist_ids = artist_ids.union(artist_id_list)\n",
    "\n",
    "    \n",
    "print(\"num artist ids: \", len(artist_ids))"
   ]
  },
  {
   "cell_type": "code",
   "execution_count": 27,
   "id": "ca135f01",
   "metadata": {},
   "outputs": [],
   "source": [
    "artist_ids = sorted(artist_ids)"
   ]
  },
  {
   "cell_type": "markdown",
   "id": "716c7363",
   "metadata": {},
   "source": [
    "## crawl artist ids"
   ]
  },
  {
   "cell_type": "code",
   "execution_count": 28,
   "id": "11853315",
   "metadata": {},
   "outputs": [],
   "source": [
    "def initBrowser():\n",
    "    #\n",
    "    chrome_options = webdriver.ChromeOptions()\n",
    "    chrome_options.add_argument('--incognito') # incognito 시크릿 모드입니다.\n",
    "    browser = webdriver.Chrome(ChromeDriverManager().install(), options=chrome_options)\n",
    "    #\n",
    "    return browser\n",
    "    \n",
    "\n",
    "def quitBrowser(browser):\n",
    "    #\n",
    "    browser.quit()\n",
    "    #\n",
    "    return None\n",
    "\n",
    "def getHtmlwithBrowser(browser, url):\n",
    "    #\n",
    "    browser.get(url)\n",
    "    html = browser.page_source\n",
    "    time.sleep(1)\n",
    "    #\n",
    "    return html"
   ]
  },
  {
   "cell_type": "code",
   "execution_count": 29,
   "id": "543763c0",
   "metadata": {},
   "outputs": [],
   "source": [
    "# 이미 수집된 html리스트를 읽는다 => html 이름으로 확인.\n",
    "\n",
    "artist_html_path = \"htmls/artists\"\n",
    "file_names = os.listdir(artist_html_path)\n",
    "alread_crawled_artist_ids = set([_.replace(\".html\", \"\") for _ in file_names])\n",
    "\n",
    "# 이미 parse된 artist를 읽는다.\n",
    "try: \n",
    "    with open(\"artist_infos.jsonl\", \"r\") as f:\n",
    "        lines = f.readlines()\n",
    "        docs = [json.loads(_) for _ in lines]\n",
    "        parsed_artist_ids = [_[\"artist_num\"] for _ in docs]\n",
    "except:\n",
    "    parsed_artist_ids = []\n"
   ]
  },
  {
   "cell_type": "code",
   "execution_count": 31,
   "id": "2d7825e4",
   "metadata": {},
   "outputs": [
    {
     "name": "stdout",
     "output_type": "stream",
     "text": [
      "artist_id nums: 7\n",
      "already crawled: 0\n",
      "already parsed: 2546\n",
      "artist_ids to crawl: 7\n"
     ]
    }
   ],
   "source": [
    "print(\"artist_id nums: {}\".format(len(artist_ids)))\n",
    "print(\"already crawled: {}\".format(len(alread_crawled_artist_ids)))\n",
    "print(\"already parsed: {}\".format(len(parsed_artist_ids)))\n",
    "\n",
    "artist_ids = [_ for _ in artist_ids if _ not in alread_crawled_artist_ids and _ not in parsed_artist_ids]\n",
    "print(\"artist_ids to crawl: {}\".format(len(artist_ids)))"
   ]
  },
  {
   "cell_type": "code",
   "execution_count": 32,
   "id": "cf11bfaa",
   "metadata": {},
   "outputs": [
    {
     "name": "stderr",
     "output_type": "stream",
     "text": [
      "[WDM] - Downloading: 100%|████████████████████████████████████| 8.81M/8.81M [00:00<00:00, 20.6MB/s]\n",
      "/var/folders/03/p2hj2jdx6wq13p2tcscyfbwh0000gn/T/ipykernel_17336/4026465351.py:5: DeprecationWarning: executable_path has been deprecated, please pass in a Service object\n",
      "  browser = webdriver.Chrome(ChromeDriverManager().install(), options=chrome_options)\n",
      "100%|████████████████████████████████████████████████████████████████| 7/7 [00:27<00:00,  3.92s/it]\n"
     ]
    }
   ],
   "source": [
    "#browser.quit()\n",
    "browser = initBrowser()\n",
    "\n",
    "\n",
    "for artist_id in tqdm(artist_ids):\n",
    "    # https://www.melon.com/artist/timeline.htm?artistId=1034\n",
    "    url = \"https://www.melon.com/artist/detail.htm?artistId={}\".format(artist_id)\n",
    "    html = getHtmlwithBrowser(browser, url)\n",
    "    \n",
    "    \n",
    "    if \"잘못된 경로로 접근\" in html:\n",
    "        print(\"잘못된 경로\", artist_id)\n",
    "        browser.quit()\n",
    "        browser = initBrowser()\n",
    "        time.sleep(2)\n",
    "        continue\n",
    "        \n",
    "    if artist_id not in html:\n",
    "        print(\"artist_id가 없음.\")\n",
    "        continue\n",
    "        \n",
    "    #\n",
    "    with open(os.path.join(artist_html_path, \"{}.html\".format(artist_id)), \"w\") as of:\n",
    "        print(html, file=of)\n",
    "        \n",
    "    # 2초이상 쉬어야 끊기지 않는다.\n",
    "    time.sleep(2)"
   ]
  },
  {
   "cell_type": "code",
   "execution_count": null,
   "id": "c1e21cec",
   "metadata": {},
   "outputs": [],
   "source": []
  }
 ],
 "metadata": {
  "kernelspec": {
   "display_name": "Python 3 (tm4pz)",
   "language": "python",
   "name": "tm4pz"
  },
  "language_info": {
   "codemirror_mode": {
    "name": "ipython",
    "version": 3
   },
   "file_extension": ".py",
   "mimetype": "text/x-python",
   "name": "python",
   "nbconvert_exporter": "python",
   "pygments_lexer": "ipython3",
   "version": "3.9.13"
  }
 },
 "nbformat": 4,
 "nbformat_minor": 5
}
