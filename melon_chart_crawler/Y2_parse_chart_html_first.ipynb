{
 "cells": [
  {
   "cell_type": "code",
   "execution_count": 1,
   "id": "815309fa",
   "metadata": {
    "ExecuteTime": {
     "end_time": "2024-01-14T11:24:44.006132Z",
     "start_time": "2024-01-14T11:24:43.841109Z"
    }
   },
   "outputs": [],
   "source": [
    "import os\n",
    "import json\n",
    "from bs4 import BeautifulSoup"
   ]
  },
  {
   "cell_type": "code",
   "execution_count": 8,
   "id": "fdaeec27",
   "metadata": {
    "ExecuteTime": {
     "end_time": "2024-01-14T11:26:40.741055Z",
     "start_time": "2024-01-14T11:26:40.724043Z"
    }
   },
   "outputs": [],
   "source": [
    "def getHtmlFileNames():\n",
    "    html_path = \"year_htmls/\"\n",
    "    html_file_names = os.listdir(html_path)\n",
    "    html_file_names = [_ for _ in sorted(html_file_names) if _.endswith(\".html\")]\n",
    "    #\n",
    "    return html_file_names"
   ]
  },
  {
   "cell_type": "code",
   "execution_count": 9,
   "id": "8ef071c2",
   "metadata": {
    "ExecuteTime": {
     "end_time": "2024-01-14T11:27:21.864488Z",
     "start_time": "2024-01-14T11:27:21.848495Z"
    }
   },
   "outputs": [],
   "source": [
    "def openHtml(file_name):\n",
    "    html_path = \"year_htmls/{}\".format(file_name)\n",
    "    with open(html_path, \"r\", encoding='UTF-8') as f:\n",
    "        html = f.read()\n",
    "    #\n",
    "    return html"
   ]
  },
  {
   "cell_type": "code",
   "execution_count": 10,
   "id": "3a2af4aa",
   "metadata": {
    "ExecuteTime": {
     "end_time": "2024-01-14T11:27:22.056060Z",
     "start_time": "2024-01-14T11:27:22.049061Z"
    }
   },
   "outputs": [],
   "source": [
    "def soupHtml(html):\n",
    "    #\n",
    "    soup = BeautifulSoup(html, \"lxml\")\n",
    "    #\n",
    "    return soup"
   ]
  },
  {
   "cell_type": "code",
   "execution_count": 11,
   "id": "77c09cd6",
   "metadata": {
    "ExecuteTime": {
     "end_time": "2024-01-14T11:27:22.232100Z",
     "start_time": "2024-01-14T11:27:22.215097Z"
    }
   },
   "outputs": [],
   "source": [
    "def splitTrs(soup):\n",
    "    # 각 순위별 tag들을 split하여 돌려준다.\n",
    "    trs = soup.find_all(\"tr\")\n",
    "    # 첫 줄은 header이니 삭제.\n",
    "    trs = trs[1:]\n",
    "    #\n",
    "    return trs"
   ]
  },
  {
   "cell_type": "code",
   "execution_count": 12,
   "id": "b8bb6f93",
   "metadata": {
    "ExecuteTime": {
     "end_time": "2024-01-14T11:27:22.931259Z",
     "start_time": "2024-01-14T11:27:22.912254Z"
    }
   },
   "outputs": [],
   "source": [
    "def parseAtr(a_tr):\n",
    "    # ranking\n",
    "    try:\n",
    "        ranking = a_tr.find(\"span\", class_=\"rank top\").get_text(strip=True)\n",
    "    except:\n",
    "        ranking = a_tr.find(\"span\", class_=\"rank\").get_text(strip=True)\n",
    "        \n",
    "    # title_num\n",
    "    title_num = a_tr.find(\"button\", class_=\"btn_icon like\")[\"data-song-no\"]\n",
    "    \n",
    "    # title_name\n",
    "    title_name = a_tr.find(\"div\", class_=\"ellipsis rank01\").strong.get_text(strip=True)\n",
    "    \n",
    "    # album_name \n",
    "    album_name = a_tr.find(\"div\", class_=\"ellipsis rank03\").find(\"a\", class_=\"fc_mgray\").get_text(strip=True)\n",
    "\n",
    "    # album num\n",
    "    album_num = a_tr.find(\"div\", class_=\"ellipsis rank03\").find(\"a\")[\"href\"]\n",
    "    album_num = album_num.replace(\"javascript:melon.link.goAlbumDetail('\", \"\").replace(\"');\", \"\")\n",
    "\n",
    "    # artist\n",
    "    artist_obj = a_tr.find(\"div\", class_=\"ellipsis rank02\").find_all(\"a\")\n",
    "    artist = []\n",
    "    for tag in artist_obj:\n",
    "        artist_name = tag.get_text(strip=True)\n",
    "        artist_num = tag[\"href\"].replace(\"javascript:melon.link.goArtistDetail('\", \"\").replace(\"');\", \"\")\n",
    "        if (artist_num, artist_name) not in artist:\n",
    "            artist.append((artist_num, artist_name))\n",
    "    \n",
    "    # last line\n",
    "    line = {\"ranking\": ranking, \"title_num\": title_num, \"title_name\": title_name,\n",
    "           \"album_num\": album_num, \"album_name\": album_name, \"artists\": artist}\n",
    "    \n",
    "    return line"
   ]
  },
  {
   "cell_type": "code",
   "execution_count": 13,
   "id": "379b1a22",
   "metadata": {
    "ExecuteTime": {
     "end_time": "2024-01-14T11:27:23.357861Z",
     "start_time": "2024-01-14T11:27:23.352849Z"
    }
   },
   "outputs": [
    {
     "name": "stdout",
     "output_type": "stream",
     "text": [
      "files: 24\n"
     ]
    }
   ],
   "source": [
    "target_year = \"2023\"\n",
    "html_file_names = getHtmlFileNames()\n",
    "print(\"files: {}\".format(len(html_file_names)))"
   ]
  },
  {
   "cell_type": "code",
   "execution_count": 16,
   "id": "da1a4d31",
   "metadata": {
    "ExecuteTime": {
     "end_time": "2024-01-14T11:28:59.784028Z",
     "start_time": "2024-01-14T11:28:55.036963Z"
    }
   },
   "outputs": [
    {
     "name": "stdout",
     "output_type": "stream",
     "text": [
      "2000\n",
      "2001\n",
      "2002\n",
      "2003\n",
      "2004\n",
      "2005\n",
      "2006\n",
      "2007\n",
      "2008\n",
      "2009\n",
      "2010\n",
      "2011\n",
      "2012\n",
      "2013\n",
      "2014\n",
      "2015\n",
      "2016\n",
      "2017\n",
      "2018\n",
      "2019\n",
      "2020\n",
      "2021\n",
      "2022\n",
      "2023\n"
     ]
    }
   ],
   "source": [
    "lines = []\n",
    "for cnt, a_name in enumerate(html_file_names, 1):\n",
    "    #yearweek = \"{}{:02}\".format(target_year, cnt)\n",
    "    period = a_name.replace(\".html\", \"\")\n",
    "    \n",
    "    print(period)\n",
    "    \n",
    "    html = openHtml(a_name)\n",
    "    soup = soupHtml(html)\n",
    "    trs = splitTrs(soup)\n",
    "    for a_tr in trs:\n",
    "        line = parseAtr(a_tr)\n",
    "        line[\"period\"] = period\n",
    "        lines.append(line)\n",
    "        "
   ]
  },
  {
   "cell_type": "code",
   "execution_count": 19,
   "id": "8d0d31dd",
   "metadata": {
    "ExecuteTime": {
     "end_time": "2024-01-14T11:30:40.464246Z",
     "start_time": "2024-01-14T11:30:40.446243Z"
    }
   },
   "outputs": [
    {
     "name": "stdout",
     "output_type": "stream",
     "text": [
      "total 1898 lines\n"
     ]
    }
   ],
   "source": [
    "print(\"total {} lines\".format(len(lines)))"
   ]
  },
  {
   "cell_type": "code",
   "execution_count": 22,
   "id": "ee6df62a",
   "metadata": {
    "ExecuteTime": {
     "end_time": "2024-01-14T11:31:25.227726Z",
     "start_time": "2024-01-14T11:31:25.207721Z"
    }
   },
   "outputs": [],
   "source": [
    "file_name = \"parsed_year_chart_html/{}.jsonl\".format(target_year)"
   ]
  },
  {
   "cell_type": "code",
   "execution_count": 23,
   "id": "e51f2676",
   "metadata": {
    "ExecuteTime": {
     "end_time": "2024-01-14T11:31:25.561804Z",
     "start_time": "2024-01-14T11:31:25.525794Z"
    }
   },
   "outputs": [],
   "source": [
    "with open(file_name, \"w\", encoding=\"utf-8\") as of:\n",
    "    for line in lines:\n",
    "        print(json.dumps(line, ensure_ascii=False), file=of)"
   ]
  },
  {
   "cell_type": "code",
   "execution_count": null,
   "id": "dfa60ce6",
   "metadata": {},
   "outputs": [],
   "source": []
  }
 ],
 "metadata": {
  "hide_input": false,
  "kernelspec": {
   "display_name": "Python 3 (tm4pz)",
   "language": "python",
   "name": "tm4pz"
  },
  "language_info": {
   "codemirror_mode": {
    "name": "ipython",
    "version": 3
   },
   "file_extension": ".py",
   "mimetype": "text/x-python",
   "name": "python",
   "nbconvert_exporter": "python",
   "pygments_lexer": "ipython3",
   "version": "3.9.18"
  },
  "toc": {
   "base_numbering": 1,
   "nav_menu": {},
   "number_sections": true,
   "sideBar": true,
   "skip_h1_title": false,
   "title_cell": "Table of Contents",
   "title_sidebar": "Contents",
   "toc_cell": false,
   "toc_position": {},
   "toc_section_display": true,
   "toc_window_display": false
  },
  "varInspector": {
   "cols": {
    "lenName": 16,
    "lenType": 16,
    "lenVar": 40
   },
   "kernels_config": {
    "python": {
     "delete_cmd_postfix": "",
     "delete_cmd_prefix": "del ",
     "library": "var_list.py",
     "varRefreshCmd": "print(var_dic_list())"
    },
    "r": {
     "delete_cmd_postfix": ") ",
     "delete_cmd_prefix": "rm(",
     "library": "var_list.r",
     "varRefreshCmd": "cat(var_dic_list()) "
    }
   },
   "types_to_exclude": [
    "module",
    "function",
    "builtin_function_or_method",
    "instance",
    "_Feature"
   ],
   "window_display": false
  }
 },
 "nbformat": 4,
 "nbformat_minor": 5
}
