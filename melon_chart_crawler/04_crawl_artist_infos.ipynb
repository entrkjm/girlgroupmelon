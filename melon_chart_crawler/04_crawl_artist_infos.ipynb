{
 "cells": [
  {
   "cell_type": "code",
   "execution_count": 1,
   "id": "0399ffe8",
   "metadata": {
    "ExecuteTime": {
     "end_time": "2024-01-14T10:05:35.489572Z",
     "start_time": "2024-01-14T10:05:35.214512Z"
    }
   },
   "outputs": [],
   "source": [
    "import os\n",
    "import requests\n",
    "import time\n",
    "import json\n",
    "from tqdm import tqdm"
   ]
  },
  {
   "cell_type": "markdown",
   "id": "81d7b8af",
   "metadata": {},
   "source": [
    "## get artist ids"
   ]
  },
  {
   "cell_type": "code",
   "execution_count": 2,
   "id": "c89f3bbd",
   "metadata": {
    "ExecuteTime": {
     "end_time": "2024-01-14T10:05:35.919669Z",
     "start_time": "2024-01-14T10:05:35.906667Z"
    }
   },
   "outputs": [
    {
     "name": "stdout",
     "output_type": "stream",
     "text": [
      "['2005.jsonl', '2006.jsonl', '2007.jsonl', '2008.jsonl', '2009.jsonl', '2010.jsonl', '2011.jsonl', '2012.jsonl', '2013.jsonl', '2014.jsonl', '2015.jsonl', '2016.jsonl', '2017.jsonl', '2018.jsonl', '2019.jsonl', '2020.jsonl', '2021.jsonl', '2022.jsonl', '2023.jsonl']\n"
     ]
    }
   ],
   "source": [
    "path = \"parsed_chart_html\"\n",
    "json_files = sorted(os.listdir(path))\n",
    "print(json_files)"
   ]
  },
  {
   "cell_type": "code",
   "execution_count": 3,
   "id": "fe5a6f98",
   "metadata": {
    "ExecuteTime": {
     "end_time": "2024-01-14T10:05:39.429475Z",
     "start_time": "2024-01-14T10:05:36.635832Z"
    },
    "scrolled": true
   },
   "outputs": [
    {
     "name": "stderr",
     "output_type": "stream",
     "text": [
      "5141it [00:00, 135277.21it/s]\n",
      "5182it [00:00, 110232.55it/s]\n",
      "5200it [00:00, 79985.55it/s]\n",
      "5200it [00:00, 81236.82it/s]\n",
      "5299it [00:00, 77897.98it/s]\n",
      "5192it [00:00, 56424.25it/s]\n",
      "5184it [00:00, 53987.15it/s]\n",
      "5193it [00:00, 44757.61it/s]\n",
      "5200it [00:00, 43688.22it/s]\n",
      "5200it [00:00, 41587.78it/s]\n",
      "5300it [00:00, 41722.85it/s]\n",
      "5198it [00:00, 38777.64it/s]\n",
      "5200it [00:00, 40611.76it/s]\n",
      "5200it [00:00, 32290.96it/s]\n",
      "5200it [00:00, 24522.94it/s]\n",
      "5300it [00:00, 23655.50it/s]\n",
      "5200it [00:00, 22902.68it/s]\n",
      "5200it [00:00, 22028.77it/s]\n",
      "5200it [00:00, 21661.26it/s]"
     ]
    },
    {
     "name": "stdout",
     "output_type": "stream",
     "text": [
      "num artist ids:  2323\n"
     ]
    },
    {
     "name": "stderr",
     "output_type": "stream",
     "text": [
      "\n"
     ]
    }
   ],
   "source": [
    "artist_ids = set()\n",
    "for json_file in json_files:\n",
    "    #print(json_file)\n",
    "    with open(os.path.join(path, json_file), \"r\", encoding='utf-8') as f:\n",
    "        for line in tqdm(f):\n",
    "            doc = json.loads(line)\n",
    "            #print(doc)\n",
    "            artists = doc[\"artists\"]\n",
    "            artist_id_list = [_[0] for _ in artists]\n",
    "            artist_ids = artist_ids.union(artist_id_list)\n",
    "\n",
    "    \n",
    "print(\"num artist ids: \", len(artist_ids))"
   ]
  },
  {
   "cell_type": "code",
   "execution_count": 4,
   "id": "ab9f83f9",
   "metadata": {
    "ExecuteTime": {
     "end_time": "2024-01-14T10:05:42.319892Z",
     "start_time": "2024-01-14T10:05:42.313893Z"
    }
   },
   "outputs": [],
   "source": [
    "artist_ids = sorted(artist_ids)"
   ]
  },
  {
   "cell_type": "markdown",
   "id": "2713ca68",
   "metadata": {},
   "source": [
    "## crawl artist ids"
   ]
  },
  {
   "cell_type": "code",
   "execution_count": 5,
   "id": "68859e4c",
   "metadata": {
    "ExecuteTime": {
     "end_time": "2024-01-14T10:05:43.225094Z",
     "start_time": "2024-01-14T10:05:43.212093Z"
    }
   },
   "outputs": [],
   "source": [
    "def requestsHtml(url):\n",
    "    #\n",
    "    PROXY_IP = \"proxypool.daumsoft.com:7002\"\n",
    "    proxies = {\"http\": PROXY_IP, \"https\": PROXY_IP}\n",
    "    \n",
    "    user_agent = 'Mozilla/5.0 (Macintosh; Intel Mac OS X 10_15_7) AppleWebKit/537.36 (KHTML, like Gecko) Chrome/113.0.0.0 Safari/537.36'\n",
    "    headers = {\"User-Agent\": user_agent, \"Host\": \"www.melon.com\",\n",
    "              \"Cookie\": \"PCID=16847374038867242922976; PC_PCID=16847374038867242922976; POC=MP10; wcs_bt=s_f9c4bde066b:1684738153; _T_ANO=LN7+/1jYGuEk1pWeFf/8ws5/bdU0sBvkci0zB20oZjupLTvRok3l5dCviaJVCx9XAn8VrO3gzllm5G0oWjMpE5KMumb9bNDAviDSrJV7A5gp3nmb++/xZpPclNdvRFWh6VOEBUziQPGLhysNG3F3ZmFtpYuolLGVAj1qRtMG2dpQ4Tc7djgs/gDhPY0sGe77p7HCRdKzfha3wF9G5NnwWYXr0wD+9ZHxKnqHqrtTVEmEzxIbBAnnXTNl8Tm4ekHjlvmO5duev1gUgiC6KiOXYW0g9I7QldLTUnFkS9O8Yti5d+xw5Ec6DExLjyBJNNRP/N8jziBiPmn/2q36Yv3jig==\",\n",
    "              }\n",
    "    #resp = requests.get(url, headers=headers, proxies=proxies)\n",
    "    resp = requests.get(url, headers=headers) #, proxies=proxies)\n",
    "    #\n",
    "    return resp"
   ]
  },
  {
   "cell_type": "code",
   "execution_count": 6,
   "id": "22d2ffe1",
   "metadata": {
    "ExecuteTime": {
     "end_time": "2024-01-14T10:05:46.531207Z",
     "start_time": "2024-01-14T10:05:46.484196Z"
    }
   },
   "outputs": [],
   "source": [
    "artist_html_path = \"htmls/artists\"\n",
    "file_names = os.listdir(artist_html_path)\n",
    "alread_crawled_artist_ids = set([_.replace(\".html\", \"\") for _ in file_names])\n",
    "\n",
    "# 이미 parse된 artist를 읽는다.\n",
    "try: \n",
    "    with open(\"artist_infos.jsonl\", \"r\", encoding='utf-8') as f:\n",
    "        lines = f.readlines()\n",
    "        docs = [json.loads(_) for _ in lines]\n",
    "        parsed_artist_ids = [_[\"artist_num\"] for _ in docs]\n",
    "except:\n",
    "    parsed_artist_ids = []"
   ]
  },
  {
   "cell_type": "code",
   "execution_count": 7,
   "id": "8abda8f1",
   "metadata": {
    "ExecuteTime": {
     "end_time": "2024-01-14T10:05:47.070410Z",
     "start_time": "2024-01-14T10:05:47.011398Z"
    }
   },
   "outputs": [
    {
     "name": "stdout",
     "output_type": "stream",
     "text": [
      "artist_id nums: 2323\n",
      "already crawled: 29\n",
      "already parsed: 2553\n",
      "artist_ids to crawl: 18\n"
     ]
    },
    {
     "data": {
      "text/plain": [
       "['2006344',\n",
       " '2114930',\n",
       " '2138414',\n",
       " '2138416',\n",
       " '2189803',\n",
       " '2243398',\n",
       " '2399727',\n",
       " '2960225',\n",
       " '2970177',\n",
       " '3059851',\n",
       " '3120571',\n",
       " '3207401',\n",
       " '3466604',\n",
       " '3478478',\n",
       " '3480275',\n",
       " '3610529',\n",
       " '773385',\n",
       " '943079']"
      ]
     },
     "execution_count": 7,
     "metadata": {},
     "output_type": "execute_result"
    }
   ],
   "source": [
    "print(\"artist_id nums: {}\".format(len(artist_ids)))\n",
    "print(\"already crawled: {}\".format(len(alread_crawled_artist_ids)))\n",
    "print(\"already parsed: {}\".format(len(parsed_artist_ids)))\n",
    "\n",
    "artist_ids_to = [_ for _ in artist_ids if _ not in alread_crawled_artist_ids and _ not in parsed_artist_ids]\n",
    "print(\"artist_ids to crawl: {}\".format(len(artist_ids_to)))\n",
    "artist_ids_to"
   ]
  },
  {
   "cell_type": "code",
   "execution_count": 8,
   "id": "4b74ddb5",
   "metadata": {
    "ExecuteTime": {
     "end_time": "2024-01-14T10:06:27.745158Z",
     "start_time": "2024-01-14T10:05:49.458871Z"
    }
   },
   "outputs": [
    {
     "name": "stderr",
     "output_type": "stream",
     "text": [
      "100%|██████████| 18/18 [00:38<00:00,  2.13s/it]\n"
     ]
    }
   ],
   "source": [
    "for artist_id in tqdm(artist_ids_to):\n",
    "    # https://www.melon.com/artist/timeline.htm?artistId=1034\n",
    "    url = \"https://www.melon.com/artist/detail.htm?artistId={}\".format(artist_id)\n",
    "    resp = requestsHtml(url)\n",
    "    \n",
    "    \n",
    "    if \"잘못된 경로로 접근\" in resp.text:\n",
    "        print(\"잘못된 경로\", artist_id)\n",
    "        time.sleep(2)\n",
    "        continue\n",
    "        \n",
    "    #\n",
    "    with open(os.path.join(artist_html_path, \"{}.html\".format(artist_id)), \"w\", encoding='utf-8') as of:\n",
    "        print(resp.text, file=of)\n",
    "        \n",
    "    # 2초이상 쉬어야 끊기지 않는다.\n",
    "    time.sleep(2)"
   ]
  },
  {
   "cell_type": "code",
   "execution_count": null,
   "id": "65556a91",
   "metadata": {},
   "outputs": [],
   "source": []
  },
  {
   "cell_type": "code",
   "execution_count": null,
   "id": "48f31f29",
   "metadata": {},
   "outputs": [],
   "source": []
  }
 ],
 "metadata": {
  "hide_input": false,
  "kernelspec": {
   "display_name": "Python 3 (tm4pz)",
   "language": "python",
   "name": "tm4pz"
  },
  "language_info": {
   "codemirror_mode": {
    "name": "ipython",
    "version": 3
   },
   "file_extension": ".py",
   "mimetype": "text/x-python",
   "name": "python",
   "nbconvert_exporter": "python",
   "pygments_lexer": "ipython3",
   "version": "3.9.16"
  },
  "toc": {
   "base_numbering": 1,
   "nav_menu": {},
   "number_sections": true,
   "sideBar": true,
   "skip_h1_title": false,
   "title_cell": "Table of Contents",
   "title_sidebar": "Contents",
   "toc_cell": false,
   "toc_position": {},
   "toc_section_display": true,
   "toc_window_display": false
  },
  "varInspector": {
   "cols": {
    "lenName": 16,
    "lenType": 16,
    "lenVar": 40
   },
   "kernels_config": {
    "python": {
     "delete_cmd_postfix": "",
     "delete_cmd_prefix": "del ",
     "library": "var_list.py",
     "varRefreshCmd": "print(var_dic_list())"
    },
    "r": {
     "delete_cmd_postfix": ") ",
     "delete_cmd_prefix": "rm(",
     "library": "var_list.r",
     "varRefreshCmd": "cat(var_dic_list()) "
    }
   },
   "types_to_exclude": [
    "module",
    "function",
    "builtin_function_or_method",
    "instance",
    "_Feature"
   ],
   "window_display": false
  }
 },
 "nbformat": 4,
 "nbformat_minor": 5
}
