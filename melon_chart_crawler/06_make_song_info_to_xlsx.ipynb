{
 "cells": [
  {
   "cell_type": "markdown",
   "id": "4c5f8d05",
   "metadata": {},
   "source": [
    "- song_info.jsonl을 읽어서 xlsx로 저장한다."
   ]
  },
  {
   "cell_type": "code",
   "execution_count": 1,
   "id": "6f893ee2",
   "metadata": {
    "ExecuteTime": {
     "end_time": "2024-01-14T10:15:54.105225Z",
     "start_time": "2024-01-14T10:15:52.433834Z"
    }
   },
   "outputs": [],
   "source": [
    "import pandas as pd\n",
    "import json"
   ]
  },
  {
   "cell_type": "code",
   "execution_count": 7,
   "id": "4bfbe1d2",
   "metadata": {
    "ExecuteTime": {
     "end_time": "2024-01-14T10:43:16.204729Z",
     "start_time": "2024-01-14T10:43:16.185723Z"
    }
   },
   "outputs": [],
   "source": [
    "file_name = \"song_infos.jsonl\""
   ]
  },
  {
   "cell_type": "code",
   "execution_count": 8,
   "id": "a27713a4",
   "metadata": {
    "ExecuteTime": {
     "end_time": "2024-01-14T10:43:18.163182Z",
     "start_time": "2024-01-14T10:43:18.007133Z"
    }
   },
   "outputs": [],
   "source": [
    "with open(file_name, \"r\", encoding='UTF-8') as f:\n",
    "    lines = f.readlines()"
   ]
  },
  {
   "cell_type": "code",
   "execution_count": 9,
   "id": "759c358f",
   "metadata": {
    "ExecuteTime": {
     "end_time": "2024-01-14T10:43:20.153631Z",
     "start_time": "2024-01-14T10:43:19.996579Z"
    }
   },
   "outputs": [],
   "source": [
    "docs = [json.loads(line) for line in lines]"
   ]
  },
  {
   "cell_type": "code",
   "execution_count": 10,
   "id": "cbd2b019",
   "metadata": {
    "ExecuteTime": {
     "end_time": "2024-01-14T10:43:21.893023Z",
     "start_time": "2024-01-14T10:43:21.846997Z"
    }
   },
   "outputs": [],
   "source": [
    "df = pd.DataFrame(docs)"
   ]
  },
  {
   "cell_type": "code",
   "execution_count": 11,
   "id": "e3846a4c",
   "metadata": {
    "ExecuteTime": {
     "end_time": "2024-01-14T10:43:23.631414Z",
     "start_time": "2024-01-14T10:43:23.601394Z"
    },
    "scrolled": true
   },
   "outputs": [
    {
     "data": {
      "text/html": [
       "<div>\n",
       "<style scoped>\n",
       "    .dataframe tbody tr th:only-of-type {\n",
       "        vertical-align: middle;\n",
       "    }\n",
       "\n",
       "    .dataframe tbody tr th {\n",
       "        vertical-align: top;\n",
       "    }\n",
       "\n",
       "    .dataframe thead th {\n",
       "        text-align: right;\n",
       "    }\n",
       "</style>\n",
       "<table border=\"1\" class=\"dataframe\">\n",
       "  <thead>\n",
       "    <tr style=\"text-align: right;\">\n",
       "      <th></th>\n",
       "      <th>song_id</th>\n",
       "      <th>song_name</th>\n",
       "      <th>artist_name</th>\n",
       "      <th>앨범</th>\n",
       "      <th>album_num</th>\n",
       "      <th>발매일</th>\n",
       "      <th>장르</th>\n",
       "      <th>lyric</th>\n",
       "    </tr>\n",
       "  </thead>\n",
       "  <tbody>\n",
       "    <tr>\n",
       "      <th>0</th>\n",
       "      <td>34808761</td>\n",
       "      <td>너를 위한 단어 (It’s Yours)</td>\n",
       "      <td>NCT DREAM</td>\n",
       "      <td>Glitch Mode - The 2nd Album</td>\n",
       "      <td>10901349</td>\n",
       "      <td>2022.03.28</td>\n",
       "      <td>R&amp;B/Soul</td>\n",
       "      <td>Girl 널 닮은 단어가 참 많아\\n내 하루 속에\\n몇 번씩 스치듯 널 만나\\n어제...</td>\n",
       "    </tr>\n",
       "    <tr>\n",
       "      <th>1</th>\n",
       "      <td>33759183</td>\n",
       "      <td>비가 오는 날엔 (2021)</td>\n",
       "      <td>헤이즈 (Heize)</td>\n",
       "      <td>비가 오는 날엔 (2021)</td>\n",
       "      <td>10670618</td>\n",
       "      <td>2021.08.04</td>\n",
       "      <td>발라드, 국내드라마</td>\n",
       "      <td>세상이 어두워지고\\n조용히 비가 내리면\\n여전히 그대로\\n오늘도 어김없이 난\\n벗어...</td>\n",
       "    </tr>\n",
       "    <tr>\n",
       "      <th>2</th>\n",
       "      <td>3450192</td>\n",
       "      <td>쏙쏙쏙 (Feat. 종현 From 애프터스쿨 보이즈)</td>\n",
       "      <td>유이 (애프터스쿨)</td>\n",
       "      <td>르꼬끄골프 콜라보레이션, 유이의 쏙쏙쏙</td>\n",
       "      <td>1313572</td>\n",
       "      <td>2011.06.21</td>\n",
       "      <td>댄스</td>\n",
       "      <td>쏙쏙쏙 그대 내 맘에 쏙쏙쏙 \\n쏙쏙쏙 그대 내 머리에 쏙쏙쏙 \\n내 맘에 내 머리...</td>\n",
       "    </tr>\n",
       "    <tr>\n",
       "      <th>3</th>\n",
       "      <td>34553700</td>\n",
       "      <td>깨우지 마</td>\n",
       "      <td>MC몽 | 소유 (SOYOU)</td>\n",
       "      <td>X by X [ 꿈 ]</td>\n",
       "      <td>10846611</td>\n",
       "      <td>2022.01.21</td>\n",
       "      <td>랩/힙합</td>\n",
       "      <td>깨우지 마 꿈속으로\\n도망치듯 잠에 든 날\\n하루 중 내가 유일하게\\n무책임해도 되...</td>\n",
       "    </tr>\n",
       "    <tr>\n",
       "      <th>4</th>\n",
       "      <td>33414502</td>\n",
       "      <td>왜 사랑은 언제나 쉽지 않을까? (바른연애 길잡이 X 조이 (JOY))</td>\n",
       "      <td>조이 (JOY)</td>\n",
       "      <td>왜 사랑은 언제나 쉽지 않을까? (바른연애 길잡이 X 조이 (JOY))</td>\n",
       "      <td>10592891</td>\n",
       "      <td>2021.04.15</td>\n",
       "      <td>발라드</td>\n",
       "      <td>사실 난 아직 잘 모르겠어\\n내 맘이 하는 말인데 그게 참 어려워\\n조금만 내게 시...</td>\n",
       "    </tr>\n",
       "    <tr>\n",
       "      <th>...</th>\n",
       "      <td>...</td>\n",
       "      <td>...</td>\n",
       "      <td>...</td>\n",
       "      <td>...</td>\n",
       "      <td>...</td>\n",
       "      <td>...</td>\n",
       "      <td>...</td>\n",
       "      <td>...</td>\n",
       "    </tr>\n",
       "    <tr>\n",
       "      <th>14892</th>\n",
       "      <td>36430774</td>\n",
       "      <td>Allergy</td>\n",
       "      <td>(여자)아이들</td>\n",
       "      <td>I feel</td>\n",
       "      <td>11240232</td>\n",
       "      <td>2023.05.15</td>\n",
       "      <td>댄스</td>\n",
       "      <td>얼굴 없는 Feed\\n파리 날리는 Followers\\nI’m a hater of I...</td>\n",
       "    </tr>\n",
       "    <tr>\n",
       "      <th>14893</th>\n",
       "      <td>36430773</td>\n",
       "      <td>퀸카 (Queencard)</td>\n",
       "      <td>(여자)아이들</td>\n",
       "      <td>I feel</td>\n",
       "      <td>11240232</td>\n",
       "      <td>2023.05.15</td>\n",
       "      <td>댄스</td>\n",
       "      <td>Hey you\\n뭘 보니? 내가 좀 Sexy Sexy 반했니\\nYe you\\n뭐 하...</td>\n",
       "    </tr>\n",
       "    <tr>\n",
       "      <th>14894</th>\n",
       "      <td>36444534</td>\n",
       "      <td>부동의 첫사랑</td>\n",
       "      <td>10CM</td>\n",
       "      <td>5.4 [부동의 첫사랑]</td>\n",
       "      <td>11243537</td>\n",
       "      <td>2023.05.14</td>\n",
       "      <td>인디음악, 포크/블루스</td>\n",
       "      <td>주인공은 아니었지\\n누구의 시점에서도\\n그냥 스쳐 지나가거나\\n친구3이라거나\\n이름...</td>\n",
       "    </tr>\n",
       "    <tr>\n",
       "      <th>14895</th>\n",
       "      <td>36440243</td>\n",
       "      <td>사랑..그게 뭔데</td>\n",
       "      <td>지아</td>\n",
       "      <td>사랑..그게 뭔데</td>\n",
       "      <td>11242411</td>\n",
       "      <td>2023.05.12</td>\n",
       "      <td>발라드</td>\n",
       "      <td>무슨 뜻인 건가요 지금 한 그 말\\n잊으라는 지우라는 차가운 한 마디\\n믿어지지 않...</td>\n",
       "    </tr>\n",
       "    <tr>\n",
       "      <th>14896</th>\n",
       "      <td>36441862</td>\n",
       "      <td>The Planet</td>\n",
       "      <td>방탄소년단</td>\n",
       "      <td>The Planet</td>\n",
       "      <td>11242802</td>\n",
       "      <td>2023.05.12</td>\n",
       "      <td>댄스</td>\n",
       "      <td>We’ll get it done\\nWe’ll work as one\\nWe’ll ge...</td>\n",
       "    </tr>\n",
       "  </tbody>\n",
       "</table>\n",
       "<p>14897 rows × 8 columns</p>\n",
       "</div>"
      ],
      "text/plain": [
       "        song_id                                song_name       artist_name  \\\n",
       "0      34808761                    너를 위한 단어 (It’s Yours)         NCT DREAM   \n",
       "1      33759183                          비가 오는 날엔 (2021)       헤이즈 (Heize)   \n",
       "2       3450192            쏙쏙쏙 (Feat. 종현 From 애프터스쿨 보이즈)        유이 (애프터스쿨)   \n",
       "3      34553700                                    깨우지 마  MC몽 | 소유 (SOYOU)   \n",
       "4      33414502  왜 사랑은 언제나 쉽지 않을까? (바른연애 길잡이 X 조이 (JOY))          조이 (JOY)   \n",
       "...         ...                                      ...               ...   \n",
       "14892  36430774                                  Allergy           (여자)아이들   \n",
       "14893  36430773                           퀸카 (Queencard)           (여자)아이들   \n",
       "14894  36444534                                  부동의 첫사랑              10CM   \n",
       "14895  36440243                                사랑..그게 뭔데                지아   \n",
       "14896  36441862                               The Planet             방탄소년단   \n",
       "\n",
       "                                            앨범 album_num         발매일  \\\n",
       "0                  Glitch Mode - The 2nd Album  10901349  2022.03.28   \n",
       "1                              비가 오는 날엔 (2021)  10670618  2021.08.04   \n",
       "2                        르꼬끄골프 콜라보레이션, 유이의 쏙쏙쏙   1313572  2011.06.21   \n",
       "3                                 X by X [ 꿈 ]  10846611  2022.01.21   \n",
       "4      왜 사랑은 언제나 쉽지 않을까? (바른연애 길잡이 X 조이 (JOY))  10592891  2021.04.15   \n",
       "...                                        ...       ...         ...   \n",
       "14892                                   I feel  11240232  2023.05.15   \n",
       "14893                                   I feel  11240232  2023.05.15   \n",
       "14894                            5.4 [부동의 첫사랑]  11243537  2023.05.14   \n",
       "14895                                사랑..그게 뭔데  11242411  2023.05.12   \n",
       "14896                               The Planet  11242802  2023.05.12   \n",
       "\n",
       "                 장르                                              lyric  \n",
       "0          R&B/Soul  Girl 널 닮은 단어가 참 많아\\n내 하루 속에\\n몇 번씩 스치듯 널 만나\\n어제...  \n",
       "1        발라드, 국내드라마  세상이 어두워지고\\n조용히 비가 내리면\\n여전히 그대로\\n오늘도 어김없이 난\\n벗어...  \n",
       "2                댄스  쏙쏙쏙 그대 내 맘에 쏙쏙쏙 \\n쏙쏙쏙 그대 내 머리에 쏙쏙쏙 \\n내 맘에 내 머리...  \n",
       "3              랩/힙합  깨우지 마 꿈속으로\\n도망치듯 잠에 든 날\\n하루 중 내가 유일하게\\n무책임해도 되...  \n",
       "4               발라드  사실 난 아직 잘 모르겠어\\n내 맘이 하는 말인데 그게 참 어려워\\n조금만 내게 시...  \n",
       "...             ...                                                ...  \n",
       "14892            댄스  얼굴 없는 Feed\\n파리 날리는 Followers\\nI’m a hater of I...  \n",
       "14893            댄스  Hey you\\n뭘 보니? 내가 좀 Sexy Sexy 반했니\\nYe you\\n뭐 하...  \n",
       "14894  인디음악, 포크/블루스  주인공은 아니었지\\n누구의 시점에서도\\n그냥 스쳐 지나가거나\\n친구3이라거나\\n이름...  \n",
       "14895           발라드  무슨 뜻인 건가요 지금 한 그 말\\n잊으라는 지우라는 차가운 한 마디\\n믿어지지 않...  \n",
       "14896            댄스  We’ll get it done\\nWe’ll work as one\\nWe’ll ge...  \n",
       "\n",
       "[14897 rows x 8 columns]"
      ]
     },
     "execution_count": 11,
     "metadata": {},
     "output_type": "execute_result"
    }
   ],
   "source": [
    "df"
   ]
  },
  {
   "cell_type": "code",
   "execution_count": 12,
   "id": "c213d1d7",
   "metadata": {
    "ExecuteTime": {
     "end_time": "2024-01-14T10:43:29.794814Z",
     "start_time": "2024-01-14T10:43:29.760816Z"
    }
   },
   "outputs": [],
   "source": [
    "df = df.drop(\"lyric\", axis=1)"
   ]
  },
  {
   "cell_type": "code",
   "execution_count": 13,
   "id": "90180487",
   "metadata": {
    "ExecuteTime": {
     "end_time": "2024-01-14T10:43:37.837170Z",
     "start_time": "2024-01-14T10:43:34.099339Z"
    },
    "scrolled": true
   },
   "outputs": [],
   "source": [
    "df.to_excel(\"song_info.20231231.xlsx\", index=False, engine=\"openpyxl\")"
   ]
  },
  {
   "cell_type": "code",
   "execution_count": 14,
   "id": "084c08b7",
   "metadata": {
    "ExecuteTime": {
     "end_time": "2024-01-14T10:43:39.626560Z",
     "start_time": "2024-01-14T10:43:39.580547Z"
    }
   },
   "outputs": [
    {
     "data": {
      "text/plain": [
       "song_id        14897\n",
       "song_name      14853\n",
       "artist_name    14853\n",
       "앨범             14853\n",
       "album_num      14853\n",
       "발매일            14853\n",
       "장르             14853\n",
       "dtype: int64"
      ]
     },
     "execution_count": 14,
     "metadata": {},
     "output_type": "execute_result"
    }
   ],
   "source": [
    "df.count()"
   ]
  },
  {
   "cell_type": "code",
   "execution_count": 21,
   "id": "5bd968f8",
   "metadata": {},
   "outputs": [
    {
     "data": {
      "text/plain": [
       "song_id        13549\n",
       "song_name      13512\n",
       "artist_name    13512\n",
       "앨범             13512\n",
       "album_num      13512\n",
       "발매일            13512\n",
       "장르             13512\n",
       "dtype: int64"
      ]
     },
     "execution_count": 21,
     "metadata": {},
     "output_type": "execute_result"
    }
   ],
   "source": [
    "df.drop_duplicates([\"song_id\"]).count()"
   ]
  },
  {
   "cell_type": "code",
   "execution_count": null,
   "id": "e34aa3cc",
   "metadata": {},
   "outputs": [],
   "source": []
  }
 ],
 "metadata": {
  "hide_input": false,
  "kernelspec": {
   "display_name": "Python 3 (tm4pz)",
   "language": "python",
   "name": "tm4pz"
  },
  "language_info": {
   "codemirror_mode": {
    "name": "ipython",
    "version": 3
   },
   "file_extension": ".py",
   "mimetype": "text/x-python",
   "name": "python",
   "nbconvert_exporter": "python",
   "pygments_lexer": "ipython3",
   "version": "3.9.16"
  },
  "toc": {
   "base_numbering": 1,
   "nav_menu": {},
   "number_sections": true,
   "sideBar": true,
   "skip_h1_title": false,
   "title_cell": "Table of Contents",
   "title_sidebar": "Contents",
   "toc_cell": false,
   "toc_position": {},
   "toc_section_display": true,
   "toc_window_display": false
  },
  "varInspector": {
   "cols": {
    "lenName": 16,
    "lenType": 16,
    "lenVar": 40
   },
   "kernels_config": {
    "python": {
     "delete_cmd_postfix": "",
     "delete_cmd_prefix": "del ",
     "library": "var_list.py",
     "varRefreshCmd": "print(var_dic_list())"
    },
    "r": {
     "delete_cmd_postfix": ") ",
     "delete_cmd_prefix": "rm(",
     "library": "var_list.r",
     "varRefreshCmd": "cat(var_dic_list()) "
    }
   },
   "types_to_exclude": [
    "module",
    "function",
    "builtin_function_or_method",
    "instance",
    "_Feature"
   ],
   "window_display": false
  }
 },
 "nbformat": 4,
 "nbformat_minor": 5
}
