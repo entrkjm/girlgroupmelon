{
 "cells": [
  {
   "cell_type": "code",
   "execution_count": 1,
   "id": "2b44d478",
   "metadata": {
    "ExecuteTime": {
     "end_time": "2023-07-03T17:19:16.916146Z",
     "start_time": "2023-07-03T17:19:11.052344Z"
    }
   },
   "outputs": [],
   "source": [
    "import pandas as pd\n",
    "import numpy as np\n",
    "import xlwings as xw"
   ]
  },
  {
   "cell_type": "code",
   "execution_count": 54,
   "id": "ba7a68c6",
   "metadata": {
    "ExecuteTime": {
     "end_time": "2023-07-03T18:27:34.000941Z",
     "start_time": "2023-07-03T18:27:33.872403Z"
    }
   },
   "outputs": [
    {
     "data": {
      "text/plain": [
       "'애니메이션, 월간추이.xlsx'"
      ]
     },
     "execution_count": 54,
     "metadata": {},
     "output_type": "execute_result"
    }
   ],
   "source": [
    "wb = xw.books.active\n",
    "wb.name"
   ]
  },
  {
   "cell_type": "code",
   "execution_count": 55,
   "id": "495a5966",
   "metadata": {
    "ExecuteTime": {
     "end_time": "2023-07-03T18:27:37.028078Z",
     "start_time": "2023-07-03T18:27:36.732592Z"
    }
   },
   "outputs": [],
   "source": [
    "ws = wb.sheets\n",
    "twitter = ws(1)[\"A1\"].expand().value\n",
    "blog = ws(2)[\"A1\"].expand().value\n",
    "community = ws(3)[\"A1\"].expand().value"
   ]
  },
  {
   "cell_type": "code",
   "execution_count": 56,
   "id": "c1d173f8",
   "metadata": {
    "ExecuteTime": {
     "end_time": "2023-07-03T18:27:40.073892Z",
     "start_time": "2023-07-03T18:27:40.026898Z"
    }
   },
   "outputs": [],
   "source": [
    "twitter_df = pd.DataFrame(twitter[1:], columns = twitter[0])\n",
    "blog_df = pd.DataFrame(blog[1:], columns = blog[0])\n",
    "community_df = pd.DataFrame(blog[1:], columns = community[0])\n"
   ]
  },
  {
   "cell_type": "code",
   "execution_count": 57,
   "id": "36d49459",
   "metadata": {
    "ExecuteTime": {
     "end_time": "2023-07-03T18:27:41.910220Z",
     "start_time": "2023-07-03T18:27:41.831978Z"
    }
   },
   "outputs": [
    {
     "data": {
      "text/html": [
       "<div>\n",
       "<style scoped>\n",
       "    .dataframe tbody tr th:only-of-type {\n",
       "        vertical-align: middle;\n",
       "    }\n",
       "\n",
       "    .dataframe tbody tr th {\n",
       "        vertical-align: top;\n",
       "    }\n",
       "\n",
       "    .dataframe thead th {\n",
       "        text-align: right;\n",
       "    }\n",
       "</style>\n",
       "<table border=\"1\" class=\"dataframe\">\n",
       "  <thead>\n",
       "    <tr style=\"text-align: right;\">\n",
       "      <th></th>\n",
       "      <th>귀멸의칼날||귀칼</th>\n",
       "      <th>너의이름은</th>\n",
       "      <th>소드아트온라인||소아온</th>\n",
       "      <th>스즈메</th>\n",
       "      <th>슬램덩크</th>\n",
       "      <th>원펀맨</th>\n",
       "      <th>주술회전</th>\n",
       "      <th>진격의거인||진격거</th>\n",
       "      <th>체인소맨</th>\n",
       "      <th>최애의</th>\n",
       "      <th>최애의아이</th>\n",
       "      <th>하이큐</th>\n",
       "      <th>히로아카||히어로아카데미아</th>\n",
       "    </tr>\n",
       "    <tr>\n",
       "      <th>날짜</th>\n",
       "      <th></th>\n",
       "      <th></th>\n",
       "      <th></th>\n",
       "      <th></th>\n",
       "      <th></th>\n",
       "      <th></th>\n",
       "      <th></th>\n",
       "      <th></th>\n",
       "      <th></th>\n",
       "      <th></th>\n",
       "      <th></th>\n",
       "      <th></th>\n",
       "      <th></th>\n",
       "    </tr>\n",
       "  </thead>\n",
       "  <tbody>\n",
       "    <tr>\n",
       "      <th>2014-01-01</th>\n",
       "      <td>0.0</td>\n",
       "      <td>2.0</td>\n",
       "      <td>13748.0</td>\n",
       "      <td>256.0</td>\n",
       "      <td>5842.0</td>\n",
       "      <td>8912.0</td>\n",
       "      <td>0.0</td>\n",
       "      <td>32546.0</td>\n",
       "      <td>0.0</td>\n",
       "      <td>0.0</td>\n",
       "      <td>0.0</td>\n",
       "      <td>12156.0</td>\n",
       "      <td>24.0</td>\n",
       "    </tr>\n",
       "    <tr>\n",
       "      <th>2014-02-01</th>\n",
       "      <td>1.0</td>\n",
       "      <td>2.0</td>\n",
       "      <td>6954.0</td>\n",
       "      <td>241.0</td>\n",
       "      <td>5734.0</td>\n",
       "      <td>5572.0</td>\n",
       "      <td>0.0</td>\n",
       "      <td>24538.0</td>\n",
       "      <td>0.0</td>\n",
       "      <td>0.0</td>\n",
       "      <td>0.0</td>\n",
       "      <td>17275.0</td>\n",
       "      <td>53.0</td>\n",
       "    </tr>\n",
       "    <tr>\n",
       "      <th>2014-03-01</th>\n",
       "      <td>0.0</td>\n",
       "      <td>2.0</td>\n",
       "      <td>12121.0</td>\n",
       "      <td>225.0</td>\n",
       "      <td>8439.0</td>\n",
       "      <td>5670.0</td>\n",
       "      <td>0.0</td>\n",
       "      <td>17824.0</td>\n",
       "      <td>0.0</td>\n",
       "      <td>0.0</td>\n",
       "      <td>0.0</td>\n",
       "      <td>27831.0</td>\n",
       "      <td>34.0</td>\n",
       "    </tr>\n",
       "    <tr>\n",
       "      <th>2014-04-01</th>\n",
       "      <td>0.0</td>\n",
       "      <td>0.0</td>\n",
       "      <td>8221.0</td>\n",
       "      <td>255.0</td>\n",
       "      <td>5111.0</td>\n",
       "      <td>6490.0</td>\n",
       "      <td>0.0</td>\n",
       "      <td>19099.0</td>\n",
       "      <td>0.0</td>\n",
       "      <td>0.0</td>\n",
       "      <td>0.0</td>\n",
       "      <td>55089.0</td>\n",
       "      <td>9.0</td>\n",
       "    </tr>\n",
       "    <tr>\n",
       "      <th>2014-05-01</th>\n",
       "      <td>3.0</td>\n",
       "      <td>2.0</td>\n",
       "      <td>15833.0</td>\n",
       "      <td>279.0</td>\n",
       "      <td>6155.0</td>\n",
       "      <td>5818.0</td>\n",
       "      <td>0.0</td>\n",
       "      <td>18817.0</td>\n",
       "      <td>0.0</td>\n",
       "      <td>0.0</td>\n",
       "      <td>0.0</td>\n",
       "      <td>92473.0</td>\n",
       "      <td>19.0</td>\n",
       "    </tr>\n",
       "    <tr>\n",
       "      <th>...</th>\n",
       "      <td>...</td>\n",
       "      <td>...</td>\n",
       "      <td>...</td>\n",
       "      <td>...</td>\n",
       "      <td>...</td>\n",
       "      <td>...</td>\n",
       "      <td>...</td>\n",
       "      <td>...</td>\n",
       "      <td>...</td>\n",
       "      <td>...</td>\n",
       "      <td>...</td>\n",
       "      <td>...</td>\n",
       "      <td>...</td>\n",
       "    </tr>\n",
       "    <tr>\n",
       "      <th>2023-03-01</th>\n",
       "      <td>21003.0</td>\n",
       "      <td>66080.0</td>\n",
       "      <td>1706.0</td>\n",
       "      <td>531262.0</td>\n",
       "      <td>1315675.0</td>\n",
       "      <td>3228.0</td>\n",
       "      <td>61054.0</td>\n",
       "      <td>26812.0</td>\n",
       "      <td>53805.0</td>\n",
       "      <td>0.0</td>\n",
       "      <td>0.0</td>\n",
       "      <td>86960.0</td>\n",
       "      <td>21813.0</td>\n",
       "    </tr>\n",
       "    <tr>\n",
       "      <th>2023-04-01</th>\n",
       "      <td>20183.0</td>\n",
       "      <td>38284.0</td>\n",
       "      <td>2036.0</td>\n",
       "      <td>221338.0</td>\n",
       "      <td>768171.0</td>\n",
       "      <td>2907.0</td>\n",
       "      <td>37112.0</td>\n",
       "      <td>17063.0</td>\n",
       "      <td>42630.0</td>\n",
       "      <td>0.0</td>\n",
       "      <td>1.0</td>\n",
       "      <td>60215.0</td>\n",
       "      <td>21604.0</td>\n",
       "    </tr>\n",
       "    <tr>\n",
       "      <th>2023-05-01</th>\n",
       "      <td>20105.0</td>\n",
       "      <td>18045.0</td>\n",
       "      <td>2151.0</td>\n",
       "      <td>60268.0</td>\n",
       "      <td>522399.0</td>\n",
       "      <td>4262.0</td>\n",
       "      <td>39841.0</td>\n",
       "      <td>22205.0</td>\n",
       "      <td>40383.0</td>\n",
       "      <td>0.0</td>\n",
       "      <td>2.0</td>\n",
       "      <td>60935.0</td>\n",
       "      <td>18866.0</td>\n",
       "    </tr>\n",
       "    <tr>\n",
       "      <th>2023-06-01</th>\n",
       "      <td>20559.0</td>\n",
       "      <td>13146.0</td>\n",
       "      <td>1544.0</td>\n",
       "      <td>28271.0</td>\n",
       "      <td>336785.0</td>\n",
       "      <td>10166.0</td>\n",
       "      <td>35382.0</td>\n",
       "      <td>18625.0</td>\n",
       "      <td>26869.0</td>\n",
       "      <td>0.0</td>\n",
       "      <td>5.0</td>\n",
       "      <td>57607.0</td>\n",
       "      <td>20625.0</td>\n",
       "    </tr>\n",
       "    <tr>\n",
       "      <th>2023-07-01</th>\n",
       "      <td>1343.0</td>\n",
       "      <td>2491.0</td>\n",
       "      <td>108.0</td>\n",
       "      <td>1077.0</td>\n",
       "      <td>17348.0</td>\n",
       "      <td>382.0</td>\n",
       "      <td>6965.0</td>\n",
       "      <td>1423.0</td>\n",
       "      <td>1556.0</td>\n",
       "      <td>0.0</td>\n",
       "      <td>2.0</td>\n",
       "      <td>4327.0</td>\n",
       "      <td>1293.0</td>\n",
       "    </tr>\n",
       "  </tbody>\n",
       "</table>\n",
       "<p>115 rows × 13 columns</p>\n",
       "</div>"
      ],
      "text/plain": [
       "            귀멸의칼날||귀칼    너의이름은  소드아트온라인||소아온       스즈메       슬램덩크      원펀맨  \\\n",
       "날짜                                                                           \n",
       "2014-01-01        0.0      2.0       13748.0     256.0     5842.0   8912.0   \n",
       "2014-02-01        1.0      2.0        6954.0     241.0     5734.0   5572.0   \n",
       "2014-03-01        0.0      2.0       12121.0     225.0     8439.0   5670.0   \n",
       "2014-04-01        0.0      0.0        8221.0     255.0     5111.0   6490.0   \n",
       "2014-05-01        3.0      2.0       15833.0     279.0     6155.0   5818.0   \n",
       "...               ...      ...           ...       ...        ...      ...   \n",
       "2023-03-01    21003.0  66080.0        1706.0  531262.0  1315675.0   3228.0   \n",
       "2023-04-01    20183.0  38284.0        2036.0  221338.0   768171.0   2907.0   \n",
       "2023-05-01    20105.0  18045.0        2151.0   60268.0   522399.0   4262.0   \n",
       "2023-06-01    20559.0  13146.0        1544.0   28271.0   336785.0  10166.0   \n",
       "2023-07-01     1343.0   2491.0         108.0    1077.0    17348.0    382.0   \n",
       "\n",
       "               주술회전  진격의거인||진격거     체인소맨  최애의  최애의아이      하이큐  히로아카||히어로아카데미아  \n",
       "날짜                                                                             \n",
       "2014-01-01      0.0     32546.0      0.0  0.0    0.0  12156.0            24.0  \n",
       "2014-02-01      0.0     24538.0      0.0  0.0    0.0  17275.0            53.0  \n",
       "2014-03-01      0.0     17824.0      0.0  0.0    0.0  27831.0            34.0  \n",
       "2014-04-01      0.0     19099.0      0.0  0.0    0.0  55089.0             9.0  \n",
       "2014-05-01      0.0     18817.0      0.0  0.0    0.0  92473.0            19.0  \n",
       "...             ...         ...      ...  ...    ...      ...             ...  \n",
       "2023-03-01  61054.0     26812.0  53805.0  0.0    0.0  86960.0         21813.0  \n",
       "2023-04-01  37112.0     17063.0  42630.0  0.0    1.0  60215.0         21604.0  \n",
       "2023-05-01  39841.0     22205.0  40383.0  0.0    2.0  60935.0         18866.0  \n",
       "2023-06-01  35382.0     18625.0  26869.0  0.0    5.0  57607.0         20625.0  \n",
       "2023-07-01   6965.0      1423.0   1556.0  0.0    2.0   4327.0          1293.0  \n",
       "\n",
       "[115 rows x 13 columns]"
      ]
     },
     "execution_count": 57,
     "metadata": {},
     "output_type": "execute_result"
    }
   ],
   "source": [
    "total_df = pd.concat([twitter_df, blog_df, community_df])\n",
    "res = total_df.pivot_table(index = '날짜', values = total_df.columns[1:], aggfunc = 'sum')\n",
    "res"
   ]
  },
  {
   "cell_type": "code",
   "execution_count": 58,
   "id": "fd2c67dc",
   "metadata": {
    "ExecuteTime": {
     "end_time": "2023-07-03T18:27:49.749510Z",
     "start_time": "2023-07-03T18:27:49.414840Z"
    }
   },
   "outputs": [],
   "source": [
    "#쓰기\n",
    "\n",
    "wb = xw.books.active\n",
    "wb.name\n",
    "ws = wb.sheets.active\n",
    "ws[\"A1\"].value = res"
   ]
  }
 ],
 "metadata": {
  "hide_input": false,
  "kernelspec": {
   "display_name": "Python 3 (tm4pz)",
   "language": "python",
   "name": "tm4pz"
  },
  "language_info": {
   "codemirror_mode": {
    "name": "ipython",
    "version": 3
   },
   "file_extension": ".py",
   "mimetype": "text/x-python",
   "name": "python",
   "nbconvert_exporter": "python",
   "pygments_lexer": "ipython3",
   "version": "3.9.16"
  },
  "toc": {
   "base_numbering": 1,
   "nav_menu": {},
   "number_sections": true,
   "sideBar": true,
   "skip_h1_title": false,
   "title_cell": "Table of Contents",
   "title_sidebar": "Contents",
   "toc_cell": false,
   "toc_position": {},
   "toc_section_display": true,
   "toc_window_display": false
  },
  "varInspector": {
   "cols": {
    "lenName": 16,
    "lenType": 16,
    "lenVar": 40
   },
   "kernels_config": {
    "python": {
     "delete_cmd_postfix": "",
     "delete_cmd_prefix": "del ",
     "library": "var_list.py",
     "varRefreshCmd": "print(var_dic_list())"
    },
    "r": {
     "delete_cmd_postfix": ") ",
     "delete_cmd_prefix": "rm(",
     "library": "var_list.r",
     "varRefreshCmd": "cat(var_dic_list()) "
    }
   },
   "types_to_exclude": [
    "module",
    "function",
    "builtin_function_or_method",
    "instance",
    "_Feature"
   ],
   "window_display": false
  }
 },
 "nbformat": 4,
 "nbformat_minor": 5
}
