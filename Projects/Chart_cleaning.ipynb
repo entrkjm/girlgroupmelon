{
 "cells": [
  {
   "cell_type": "code",
   "execution_count": 1,
   "id": "028eb2b1",
   "metadata": {
    "ExecuteTime": {
     "end_time": "2023-07-03T02:43:41.374752Z",
     "start_time": "2023-07-03T02:43:35.551997Z"
    }
   },
   "outputs": [],
   "source": [
    "import pandas as pd\n",
    "import numpy as np\n",
    "import xlwings as xw"
   ]
  },
  {
   "cell_type": "code",
   "execution_count": 3,
   "id": "dc98aec2",
   "metadata": {
    "ExecuteTime": {
     "end_time": "2023-07-03T02:44:16.130635Z",
     "start_time": "2023-07-03T02:44:16.117630Z"
    }
   },
   "outputs": [],
   "source": [
    "#excel read"
   ]
  },
  {
   "cell_type": "code",
   "execution_count": 35,
   "id": "2a659878",
   "metadata": {
    "ExecuteTime": {
     "end_time": "2023-07-03T02:55:24.810534Z",
     "start_time": "2023-07-03T02:55:24.775527Z"
    }
   },
   "outputs": [
    {
     "data": {
      "text/plain": [
       "'통합 문서1'"
      ]
     },
     "execution_count": 35,
     "metadata": {},
     "output_type": "execute_result"
    }
   ],
   "source": [
    "wb = xw.books.active\n",
    "wb.name"
   ]
  },
  {
   "cell_type": "code",
   "execution_count": 41,
   "id": "9f600cc2",
   "metadata": {
    "ExecuteTime": {
     "end_time": "2023-07-03T02:55:54.775741Z",
     "start_time": "2023-07-03T02:55:54.751738Z"
    }
   },
   "outputs": [
    {
     "data": {
      "text/plain": [
       "'Sheet2'"
      ]
     },
     "execution_count": 41,
     "metadata": {},
     "output_type": "execute_result"
    }
   ],
   "source": [
    "ws = wb.sheets.active\n",
    "ws.name"
   ]
  },
  {
   "cell_type": "code",
   "execution_count": 42,
   "id": "cbba80c3",
   "metadata": {
    "ExecuteTime": {
     "end_time": "2023-07-03T02:55:55.494379Z",
     "start_time": "2023-07-03T02:55:55.482389Z"
    }
   },
   "outputs": [],
   "source": [
    "#Rank, Artist, Sales 집계"
   ]
  },
  {
   "cell_type": "code",
   "execution_count": 43,
   "id": "be8d3047",
   "metadata": {
    "ExecuteTime": {
     "end_time": "2023-07-03T02:55:56.056667Z",
     "start_time": "2023-07-03T02:55:56.016632Z"
    }
   },
   "outputs": [],
   "source": [
    "artist_and_album = ws[\"B2:B201\"].value\n",
    "artist_list = artist_and_album[1::2]\n",
    "album_list = artist_and_album[0::2]"
   ]
  },
  {
   "cell_type": "code",
   "execution_count": 44,
   "id": "eca6f933",
   "metadata": {
    "ExecuteTime": {
     "end_time": "2023-07-03T02:55:56.701341Z",
     "start_time": "2023-07-03T02:55:56.677326Z"
    }
   },
   "outputs": [],
   "source": [
    "sales_all = ws[\"C2:C201\"].value\n",
    "sales_list = [sales for sales in sales_all if sales != None]"
   ]
  },
  {
   "cell_type": "code",
   "execution_count": 45,
   "id": "4ed13e73",
   "metadata": {
    "ExecuteTime": {
     "end_time": "2023-07-03T02:55:58.910849Z",
     "start_time": "2023-07-03T02:55:58.889846Z"
    }
   },
   "outputs": [],
   "source": [
    "df = pd.DataFrame({'Artist':artist_list, 'Album' : album_list, 'Sales': sales_list})\n",
    "df.index = df.index+1"
   ]
  },
  {
   "cell_type": "code",
   "execution_count": 46,
   "id": "afa9014b",
   "metadata": {
    "ExecuteTime": {
     "end_time": "2023-07-03T02:56:05.422289Z",
     "start_time": "2023-07-03T02:56:05.253238Z"
    }
   },
   "outputs": [],
   "source": [
    "wb = xw.books.active\n",
    "wb.name\n",
    "ws = wb.sheets.active\n",
    "ws.name\n",
    "ws[\"A1\"].value = df"
   ]
  },
  {
   "cell_type": "code",
   "execution_count": null,
   "id": "b7b331bd",
   "metadata": {},
   "outputs": [],
   "source": []
  }
 ],
 "metadata": {
  "hide_input": false,
  "kernelspec": {
   "display_name": "Python 3 (tm4pz)",
   "language": "python",
   "name": "tm4pz"
  },
  "language_info": {
   "codemirror_mode": {
    "name": "ipython",
    "version": 3
   },
   "file_extension": ".py",
   "mimetype": "text/x-python",
   "name": "python",
   "nbconvert_exporter": "python",
   "pygments_lexer": "ipython3",
   "version": "3.9.16"
  },
  "toc": {
   "base_numbering": 1,
   "nav_menu": {},
   "number_sections": true,
   "sideBar": true,
   "skip_h1_title": false,
   "title_cell": "Table of Contents",
   "title_sidebar": "Contents",
   "toc_cell": false,
   "toc_position": {},
   "toc_section_display": true,
   "toc_window_display": false
  },
  "varInspector": {
   "cols": {
    "lenName": 16,
    "lenType": 16,
    "lenVar": 40
   },
   "kernels_config": {
    "python": {
     "delete_cmd_postfix": "",
     "delete_cmd_prefix": "del ",
     "library": "var_list.py",
     "varRefreshCmd": "print(var_dic_list())"
    },
    "r": {
     "delete_cmd_postfix": ") ",
     "delete_cmd_prefix": "rm(",
     "library": "var_list.r",
     "varRefreshCmd": "cat(var_dic_list()) "
    }
   },
   "types_to_exclude": [
    "module",
    "function",
    "builtin_function_or_method",
    "instance",
    "_Feature"
   ],
   "window_display": false
  }
 },
 "nbformat": 4,
 "nbformat_minor": 5
}
